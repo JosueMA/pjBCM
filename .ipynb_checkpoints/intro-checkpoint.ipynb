{
 "cells": [
  {
   "cell_type": "code",
   "execution_count": 53,
   "metadata": {},
   "outputs": [],
   "source": [
    "%matplotlib inline\n",
    "\n",
    "import matplotlib\n",
    "import numpy as np\n",
    "import matplotlib.pyplot as plt\n",
    "\n",
    "import pyjags\n",
    "\n",
    "\n",
    "import pandas as pd\n"
   ]
  },
  {
   "cell_type": "code",
   "execution_count": 22,
   "metadata": {},
   "outputs": [
    {
     "name": "stdout",
     "output_type": "stream",
     "text": [
      "adapting: iterations 4000 of 4000, elapsed 0:00:00, remaining 0:00:00\n",
      "sampling: iterations 200 of 200, elapsed 0:00:00, remaining 0:00:00\n",
      "theta  mean =   0.8, 95% credible interval [ 0.6  1.0]\n"
     ]
    }
   ],
   "source": [
    "# pyjags docs intro demo\n",
    "np.random.seed(0)\n",
    "np.set_printoptions(precision=1)\n",
    "\n",
    "N = 500\n",
    "a = 70\n",
    "b = 4\n",
    "sigma = 50\n",
    "\n",
    "k = 9\n",
    "n = 10\n",
    "\n",
    "code = '''\n",
    "model{\n",
    "theta ~ dunif(0,1) # the uniform prior for updating by the data\n",
    "k ~ dbin(theta,n) # the data; in our example, k = 9 and n = 10\n",
    "}\n",
    "'''\n",
    "\n",
    "model = pyjags.Model(code=code, data=dict(k=k, n=n), chains=4)\n",
    "samples = model.sample(50, vars=['theta'])\n",
    "\n",
    "def summary(samples, varname, p=95):\n",
    "    values = samples[varname]\n",
    "    ci = np.percentile(values, [100-p, p])\n",
    "    print('{:<6} mean = {:>5.1f}, {}% credible interval [{:>4.1f} {:>4.1f}]'.format(\n",
    "      varname, np.mean(values), p, *ci))\n",
    "\n",
    "for varname in ['theta']:\n",
    "    summary(samples, varname)\n",
    "    \n"
   ]
  },
  {
   "cell_type": "code",
   "execution_count": 54,
   "metadata": {},
   "outputs": [
    {
     "ename": "ImportError",
     "evalue": "matplotlib is required for plotting.",
     "output_type": "error",
     "traceback": [
      "\u001b[0;31m---------------------------------------------------------------------------\u001b[0m",
      "\u001b[0;31mImportError\u001b[0m                               Traceback (most recent call last)",
      "\u001b[0;32m<ipython-input-54-be032d463cf4>\u001b[0m in \u001b[0;36m<module>\u001b[0;34m\u001b[0m\n\u001b[1;32m      2\u001b[0m \u001b[0;31m#rint(samples['theta'][0])\u001b[0m\u001b[0;34m\u001b[0m\u001b[0;34m\u001b[0m\u001b[0m\n\u001b[1;32m      3\u001b[0m \u001b[0mdf\u001b[0m \u001b[0;34m=\u001b[0m \u001b[0mpd\u001b[0m\u001b[0;34m.\u001b[0m\u001b[0mDataFrame\u001b[0m\u001b[0;34m(\u001b[0m\u001b[0msamples\u001b[0m\u001b[0;34m[\u001b[0m\u001b[0;34m'theta'\u001b[0m\u001b[0;34m]\u001b[0m\u001b[0;34m[\u001b[0m\u001b[0;36m0\u001b[0m\u001b[0;34m]\u001b[0m\u001b[0;34m)\u001b[0m\u001b[0;34m\u001b[0m\u001b[0m\n\u001b[0;32m----> 4\u001b[0;31m \u001b[0mdf\u001b[0m\u001b[0;34m.\u001b[0m\u001b[0mhist\u001b[0m\u001b[0;34m(\u001b[0m\u001b[0;34m)\u001b[0m\u001b[0;34m\u001b[0m\u001b[0m\n\u001b[0m",
      "\u001b[0;32m~/anaconda3/envs/pyjagsBCM/lib/python3.7/site-packages/pandas/plotting/_core.py\u001b[0m in \u001b[0;36mhist_frame\u001b[0;34m(data, column, by, grid, xlabelsize, xrot, ylabelsize, yrot, ax, sharex, sharey, figsize, layout, bins, **kwds)\u001b[0m\n\u001b[1;32m   2387\u001b[0m         \u001b[0;34m>>\u001b[0m\u001b[0;34m>\u001b[0m \u001b[0mhist\u001b[0m \u001b[0;34m=\u001b[0m \u001b[0mdf\u001b[0m\u001b[0;34m.\u001b[0m\u001b[0mhist\u001b[0m\u001b[0;34m(\u001b[0m\u001b[0mbins\u001b[0m\u001b[0;34m=\u001b[0m\u001b[0;36m3\u001b[0m\u001b[0;34m)\u001b[0m\u001b[0;34m\u001b[0m\u001b[0m\n\u001b[1;32m   2388\u001b[0m     \"\"\"\n\u001b[0;32m-> 2389\u001b[0;31m     \u001b[0m_raise_if_no_mpl\u001b[0m\u001b[0;34m(\u001b[0m\u001b[0;34m)\u001b[0m\u001b[0;34m\u001b[0m\u001b[0m\n\u001b[0m\u001b[1;32m   2390\u001b[0m     \u001b[0m_converter\u001b[0m\u001b[0;34m.\u001b[0m\u001b[0m_WARN\u001b[0m \u001b[0;34m=\u001b[0m \u001b[0;32mFalse\u001b[0m\u001b[0;34m\u001b[0m\u001b[0m\n\u001b[1;32m   2391\u001b[0m     \u001b[0;32mif\u001b[0m \u001b[0mby\u001b[0m \u001b[0;32mis\u001b[0m \u001b[0;32mnot\u001b[0m \u001b[0;32mNone\u001b[0m\u001b[0;34m:\u001b[0m\u001b[0;34m\u001b[0m\u001b[0m\n",
      "\u001b[0;32m~/anaconda3/envs/pyjagsBCM/lib/python3.7/site-packages/pandas/plotting/_core.py\u001b[0m in \u001b[0;36m_raise_if_no_mpl\u001b[0;34m()\u001b[0m\n\u001b[1;32m     55\u001b[0m     \u001b[0;31m# TODO(mpl_converter): remove once converter is explicit\u001b[0m\u001b[0;34m\u001b[0m\u001b[0;34m\u001b[0m\u001b[0m\n\u001b[1;32m     56\u001b[0m     \u001b[0;32mif\u001b[0m \u001b[0;32mnot\u001b[0m \u001b[0m_HAS_MPL\u001b[0m\u001b[0;34m:\u001b[0m\u001b[0;34m\u001b[0m\u001b[0m\n\u001b[0;32m---> 57\u001b[0;31m         \u001b[0;32mraise\u001b[0m \u001b[0mImportError\u001b[0m\u001b[0;34m(\u001b[0m\u001b[0;34m\"matplotlib is required for plotting.\"\u001b[0m\u001b[0;34m)\u001b[0m\u001b[0;34m\u001b[0m\u001b[0m\n\u001b[0m\u001b[1;32m     58\u001b[0m \u001b[0;34m\u001b[0m\u001b[0m\n\u001b[1;32m     59\u001b[0m \u001b[0;34m\u001b[0m\u001b[0m\n",
      "\u001b[0;31mImportError\u001b[0m: matplotlib is required for plotting."
     ]
    }
   ],
   "source": [
    "#print(np.histogram(samples['theta'][0]))\n",
    "#rint(samples['theta'][0])\n",
    "df = pd.DataFrame(samples['theta'][0])\n",
    "df.hist()"
   ]
  },
  {
   "cell_type": "markdown",
   "metadata": {},
   "source": [
    "Below is just the sample code from `pyjags` docs\n",
    "\n",
    "when we define our model,w e can either write it out as a string or direct the model class to the file path using, eg, `file='democode.txt`."
   ]
  },
  {
   "cell_type": "code",
   "execution_count": 8,
   "metadata": {},
   "outputs": [
    {
     "name": "stdout",
     "output_type": "stream",
     "text": [
      "adapting: iterations 4000 of 4000, elapsed 0:00:03, remaining 0:00:00\n",
      "sampling: iterations 200 of 200, elapsed 0:00:00, remaining 0:00:00\n",
      "alpha  mean =  63.7, 95% credible interval [55.9 72.7]\n",
      "beta   mean =   4.0, 95% credible interval [ 3.9  4.1]\n",
      "sigma  mean =  49.4, 95% credible interval [47.1 51.6]\n"
     ]
    }
   ],
   "source": [
    "# pyjags docs intro demo\n",
    "np.random.seed(0)\n",
    "np.set_printoptions(precision=1)\n",
    "\n",
    "N = 500\n",
    "a = 70\n",
    "b = 4\n",
    "sigma = 50\n",
    "\n",
    "x = np.random.uniform(0, 100, size=N)\n",
    "y = np.random.normal(a + x*b, sigma, size=N)\n",
    "\n",
    "code = '''\n",
    "model {\n",
    "    for (i in 1:N) {\n",
    "        y[i] ~ dnorm(alpha + beta * x[i], tau)\n",
    "    }\n",
    "    alpha ~ dunif(-1e3, 1e3)\n",
    "    beta ~ dunif(-1e3, 1e3)\n",
    "    tau <- 1 / sigma^2\n",
    "    sigma ~ dgamma(1e-4, 1e-4)\n",
    "}\n",
    "'''\n",
    "\n",
    "model = pyjags.Model(file='democode.txt', data=dict(x=x, y=y, N=N), chains=4)\n",
    "samples = model.sample(50, vars=['alpha', 'beta', 'sigma'])\n",
    "\n",
    "def summary(samples, varname, p=95):\n",
    "    values = samples[varname]\n",
    "    ci = np.percentile(values, [100-p, p])\n",
    "    print('{:<6} mean = {:>5.1f}, {}% credible interval [{:>4.1f} {:>4.1f}]'.format(\n",
    "      varname, np.mean(values), p, *ci))\n",
    "\n",
    "for varname in ['alpha', 'beta', 'sigma']:\n",
    "    summary(samples, varname)"
   ]
  }
 ],
 "metadata": {
  "kernelspec": {
   "display_name": "pyjagsBCM",
   "language": "python",
   "name": "pyjagsbcm"
  },
  "language_info": {
   "codemirror_mode": {
    "name": "ipython",
    "version": 3
   },
   "file_extension": ".py",
   "mimetype": "text/x-python",
   "name": "python",
   "nbconvert_exporter": "python",
   "pygments_lexer": "ipython3",
   "version": "3.7.0"
  }
 },
 "nbformat": 4,
 "nbformat_minor": 2
}
