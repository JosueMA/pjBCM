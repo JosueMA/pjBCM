{
 "cells": [
  {
   "cell_type": "markdown",
   "metadata": {},
   "source": [
    "## Multidimensional Scaling\n",
    "\n",
    "I decided to try and implement a MDS model without really knowing anything about MDS.\n",
    "\n",
    "I know that, generally, it takes pairwise distances between points and infers the most likley configuration of points in an N-dimensional space to produce those distances.\n",
    "\n",
    "The formulation I have here gets much worse results than I'm sure are possible, but it's pretty cool that it kind of finds the clusters.\n",
    "\n",
    "Something I'm doing is pushing the points onto a straight line, which gets worse the larger sigma is on my gaussian distance precision prior."
   ]
  },
  {
   "cell_type": "code",
   "execution_count": 1,
   "metadata": {},
   "outputs": [],
   "source": [
    "import pyjags\n",
    "#import assistant classes from parent directory\n",
    "#jupyter needs a standard way to do relative imports.\n",
    "import os\n",
    "nb_path = os.getcwd()\n",
    "parent_path = os.path.split(nb_path)[0]\n",
    "os.chdir(parent_path)\n",
    "from pjbcmassistant import model_handler\n",
    "from pjbcmassistant import sample_handler\n",
    "os.chdir(nb_path)"
   ]
  },
  {
   "cell_type": "markdown",
   "metadata": {},
   "source": [
    "### Building the source data\n",
    "\n",
    "This generates a collection of points that have ground-truth coordinates.\n",
    "Then, builds a matrix of pairwise distances for the model to use to infer their coordinates."
   ]
  },
  {
   "cell_type": "code",
   "execution_count": 2,
   "metadata": {},
   "outputs": [],
   "source": [
    "import random\n",
    "import numpy as np\n",
    "import pandas as pd"
   ]
  },
  {
   "cell_type": "code",
   "execution_count": 3,
   "metadata": {},
   "outputs": [],
   "source": [
    "import matplotlib.pyplot as plt"
   ]
  },
  {
   "cell_type": "code",
   "execution_count": 8,
   "metadata": {
    "scrolled": false
   },
   "outputs": [
    {
     "data": {
      "image/png": "[encoded data removed]",
      "text/plain": [
       "<Figure size 432x288 with 1 Axes>"
      ]
     },
     "metadata": {
      "needs_background": "light"
     },
     "output_type": "display_data"
    }
   ],
   "source": [
    "class Point:\n",
    "    def __init__(self, maxdist, centerx, centery):\n",
    "        angle = 2*np.pi*np.random.sample(1)\n",
    "        distance = maxdist*np.random.sample(1)\n",
    "        self.x = distance*np.cos(angle) + centerx\n",
    "        self.y = distance*np.sin(angle) + centery\n",
    "        \n",
    "        \n",
    "    def getdist(self, right):\n",
    "        return np.sqrt((self.x-right.x)**2+(self.y-right.y)**2)\n",
    "\n",
    "    def setcoords(self, x, y):\n",
    "        self.x = x\n",
    "        self.y = y\n",
    "        \n",
    "    def getcoords(self):\n",
    "        return np.array((self.x, self.y)).squeeze(1)\n",
    "    \n",
    "    def getx(self):\n",
    "        return self.x\n",
    "    \n",
    "    def gety(self):\n",
    "        return self.y\n",
    "    \n",
    "    def __str__(self):\n",
    "        return f'{self.x},{self.y}'\n",
    "        \n",
    "def genclouds(paramlist,pointspercloud):\n",
    "    pointlist = []\n",
    "    for params in paramlist:\n",
    "        pointlist.extend([Point(*params) for i in range(pointspercloud)])\n",
    "        \n",
    "    \n",
    "    \n",
    "    coordarray = np.array([point.getcoords() for point in pointlist])\n",
    "\n",
    "    x = coordarray[:,0]\n",
    "    y = coordarray[:,1]\n",
    "    \n",
    "    return x, y, pointlist\n",
    "    \n",
    "\n",
    "\n",
    "datax, datay, pointlist = genclouds([(15, 0, 0),(3,20,20),(5, 0, 20)],10)\n",
    "\n",
    "plt.title('ground truth locations of points')\n",
    "plt.scatter(datax,datay);\n",
    "\n",
    "distmatrix = pd.DataFrame(columns=range(len(pointlist)),index=range(len(pointlist)))\n",
    "\n",
    "for i1, p1 in enumerate(pointlist):\n",
    "    for i2, p2 in enumerate(pointlist):\n",
    "        distmatrix.iat[i1,i2] = np.asscalar(p1.getdist(p2))\n",
    "\n",
    "distmatrix.head()\n",
    "\n",
    "distance_vals = distmatrix.values"
   ]
  },
  {
   "cell_type": "code",
   "execution_count": 19,
   "metadata": {
    "scrolled": true
   },
   "outputs": [
    {
     "name": "stdout",
     "output_type": "stream",
     "text": [
      "adapting: iterations 3000 of 3000, elapsed 0:00:03, remaining 0:00:00\n",
      "sampling: iterations 3000 of 3000, elapsed 0:00:03, remaining 0:00:00\n"
     ]
    }
   ],
   "source": [
    "spec = \"\"\"\n",
    "model:\n",
    "isaiahmds.txt\n",
    "\n",
    "settings:\n",
    "chains = 3\n",
    "samples = 1000\n",
    "thinning = 0\n",
    "burnin = 1000\n",
    "\n",
    "data:\n",
    "#calculated below with setdata method.\n",
    "\n",
    "sample:\n",
    "x\n",
    "y\n",
    "\n",
    "\"\"\"\n",
    "\n",
    "modelbuddy = model_handler(spec)\n",
    "\n",
    "modelbuddy.setdata('distance', distance_vals)\n",
    "modelbuddy.setdata('npoints', len(distance_vals))\n",
    "\n",
    "model = pyjags.Model(**modelbuddy.get_model_args())\n",
    "samples = model.sample(**modelbuddy.get_sample_args())\n",
    "\n",
    "samplebuddy = sample_handler(samples)"
   ]
  },
  {
   "cell_type": "code",
   "execution_count": 20,
   "metadata": {
    "scrolled": true
   },
   "outputs": [
    {
     "name": "stdout",
     "output_type": "stream",
     "text": [
      "#In which Isaiah attempts a multidimensional scaling model\n",
      "model{\n",
      "  for (i in 1:npoints){\n",
      "      x[i] ~ dunif(-30,30) #x value\n",
      "      y[i] ~ dunif(-30,30) #y value\n",
      "    for (j in (i):npoints){\n",
      "      calculateddistance[i,j] <- sqrt(pow((x[i]-x[j]),2)+pow((y[i]-y[j]),2))  \n",
      "      distance[i,j] ~ dnorm(calculateddistance[i,j], lambda)\n",
      "    }\n",
      "  }\n",
      "  sigma <- .02 #~ dunif(0,1) #supposing we don't think our distance measure is that great\n",
      "  lambda <- 1/pow(sigma,2)  \n",
      "}\n",
      "\n"
     ]
    }
   ],
   "source": [
    "print(modelbuddy.model)"
   ]
  },
  {
   "cell_type": "code",
   "execution_count": 21,
   "metadata": {
    "scrolled": false
   },
   "outputs": [
    {
     "data": {
      "image/png": "[encoded data removed]",
      "text/plain": [
       "<Figure size 432x288 with 1 Axes>"
      ]
     },
     "metadata": {
      "needs_background": "light"
     },
     "output_type": "display_data"
    },
    {
     "data": {
      "image/png": "[encoded data removed]",
      "text/plain": [
       "<Figure size 432x288 with 1 Axes>"
      ]
     },
     "metadata": {
      "needs_background": "light"
     },
     "output_type": "display_data"
    }
   ],
   "source": [
    "samplebuddy.summarize(suppress=True)\n",
    "\n",
    "xvals = [samplebuddy.getstatistic('x_'+str(i),'mean') for i in range(30)]\n",
    "yvals = [samplebuddy.getstatistic('y_'+str(i),'mean') for i in range(30)]\n",
    "\n",
    "# plt.xlim(-30,30)\n",
    "# plt.ylim(-30,30)\n",
    "plt.title('inferred positions')\n",
    "plt.scatter(xvals,yvals);\n",
    "\n",
    "plt.title('inferred positions')\n",
    "plt.scatter(xvals,yvals);\n",
    "plt.show();\n",
    "\n",
    "plt.title('ground truth')\n",
    "plt.scatter(datax,datay);"
   ]
  }
 ],
 "metadata": {
  "kernelspec": {
   "display_name": "pyjagsBCM",
   "language": "python",
   "name": "pyjagsbcm"
  },
  "language_info": {
   "codemirror_mode": {
    "name": "ipython",
    "version": 3
   },
   "file_extension": ".py",
   "mimetype": "text/x-python",
   "name": "python",
   "nbconvert_exporter": "python",
   "pygments_lexer": "ipython3",
   "version": "3.7.0"
  }
 },
 "nbformat": 4,
 "nbformat_minor": 2
}
