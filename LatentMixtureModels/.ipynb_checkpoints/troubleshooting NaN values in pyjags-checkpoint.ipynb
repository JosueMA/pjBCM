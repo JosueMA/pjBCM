{
 "cells": [
  {
   "cell_type": "code",
   "execution_count": 2,
   "metadata": {},
   "outputs": [],
   "source": [
    "import pyjags\n",
    "#import assistant classes from parent directory\n",
    "#jupyter needs a standard way to do relative imports.\n",
    "import os\n",
    "nb_path = os.getcwd()\n",
    "parent_path = os.path.split(nb_path)[0]\n",
    "os.chdir(parent_path)\n",
    "from pjbcmassistant import model_handler\n",
    "from pjbcmassistant import sample_handler\n",
    "os.chdir(nb_path)"
   ]
  },
  {
   "cell_type": "markdown",
   "metadata": {},
   "source": [
    "### troubleshooting with simple version"
   ]
  },
  {
   "cell_type": "code",
   "execution_count": 17,
   "metadata": {
    "scrolled": true
   },
   "outputs": [
    {
     "ename": "NameError",
     "evalue": "name 'np' is not defined",
     "output_type": "error",
     "traceback": [
      "\u001b[0;31m---------------------------------------------------------------------------\u001b[0m",
      "\u001b[0;31mNameError\u001b[0m                                 Traceback (most recent call last)",
      "\u001b[0;32m<ipython-input-17-61f709f48b9c>\u001b[0m in \u001b[0;36m<module>\u001b[0;34m\u001b[0m\n\u001b[1;32m     24\u001b[0m \u001b[0mmodelbuddy\u001b[0m \u001b[0;34m=\u001b[0m \u001b[0mmodel_handler\u001b[0m\u001b[0;34m(\u001b[0m\u001b[0mspec\u001b[0m\u001b[0;34m)\u001b[0m\u001b[0;34m\u001b[0m\u001b[0m\n\u001b[1;32m     25\u001b[0m \u001b[0;34m\u001b[0m\u001b[0m\n\u001b[0;32m---> 26\u001b[0;31m \u001b[0mmodelbuddy\u001b[0m\u001b[0;34m.\u001b[0m\u001b[0msetdata\u001b[0m\u001b[0;34m(\u001b[0m\u001b[0;34m'z'\u001b[0m\u001b[0;34m,\u001b[0m\u001b[0;34m[\u001b[0m\u001b[0mnp\u001b[0m\u001b[0;34m.\u001b[0m\u001b[0mnan\u001b[0m \u001b[0;32mfor\u001b[0m \u001b[0mi\u001b[0m \u001b[0;32min\u001b[0m \u001b[0mrange\u001b[0m\u001b[0;34m(\u001b[0m\u001b[0;36m4\u001b[0m\u001b[0;34m)\u001b[0m\u001b[0;34m]\u001b[0m\u001b[0;34m+\u001b[0m\u001b[0;34m[\u001b[0m\u001b[0;36m4\u001b[0m\u001b[0;34m]\u001b[0m\u001b[0;34m)\u001b[0m\u001b[0;34m\u001b[0m\u001b[0m\n\u001b[0m\u001b[1;32m     27\u001b[0m \u001b[0;34m\u001b[0m\u001b[0m\n\u001b[1;32m     28\u001b[0m \u001b[0mmodelbuddy\u001b[0m\u001b[0;34m.\u001b[0m\u001b[0minit\u001b[0m \u001b[0;34m=\u001b[0m \u001b[0;34m{\u001b[0m\u001b[0;34m'myrate'\u001b[0m\u001b[0;34m:\u001b[0m\u001b[0;36m.99\u001b[0m\u001b[0;34m}\u001b[0m\u001b[0;34m\u001b[0m\u001b[0m\n",
      "\u001b[0;32m<ipython-input-17-61f709f48b9c>\u001b[0m in \u001b[0;36m<listcomp>\u001b[0;34m(.0)\u001b[0m\n\u001b[1;32m     24\u001b[0m \u001b[0mmodelbuddy\u001b[0m \u001b[0;34m=\u001b[0m \u001b[0mmodel_handler\u001b[0m\u001b[0;34m(\u001b[0m\u001b[0mspec\u001b[0m\u001b[0;34m)\u001b[0m\u001b[0;34m\u001b[0m\u001b[0m\n\u001b[1;32m     25\u001b[0m \u001b[0;34m\u001b[0m\u001b[0m\n\u001b[0;32m---> 26\u001b[0;31m \u001b[0mmodelbuddy\u001b[0m\u001b[0;34m.\u001b[0m\u001b[0msetdata\u001b[0m\u001b[0;34m(\u001b[0m\u001b[0;34m'z'\u001b[0m\u001b[0;34m,\u001b[0m\u001b[0;34m[\u001b[0m\u001b[0mnp\u001b[0m\u001b[0;34m.\u001b[0m\u001b[0mnan\u001b[0m \u001b[0;32mfor\u001b[0m \u001b[0mi\u001b[0m \u001b[0;32min\u001b[0m \u001b[0mrange\u001b[0m\u001b[0;34m(\u001b[0m\u001b[0;36m4\u001b[0m\u001b[0;34m)\u001b[0m\u001b[0;34m]\u001b[0m\u001b[0;34m+\u001b[0m\u001b[0;34m[\u001b[0m\u001b[0;36m4\u001b[0m\u001b[0;34m]\u001b[0m\u001b[0;34m)\u001b[0m\u001b[0;34m\u001b[0m\u001b[0m\n\u001b[0m\u001b[1;32m     27\u001b[0m \u001b[0;34m\u001b[0m\u001b[0m\n\u001b[1;32m     28\u001b[0m \u001b[0mmodelbuddy\u001b[0m\u001b[0;34m.\u001b[0m\u001b[0minit\u001b[0m \u001b[0;34m=\u001b[0m \u001b[0;34m{\u001b[0m\u001b[0;34m'myrate'\u001b[0m\u001b[0;34m:\u001b[0m\u001b[0;36m.99\u001b[0m\u001b[0;34m}\u001b[0m\u001b[0;34m\u001b[0m\u001b[0m\n",
      "\u001b[0;31mNameError\u001b[0m: name 'np' is not defined"
     ]
    }
   ],
   "source": [
    "spec = \"\"\"\n",
    "model:\n",
    "isaiahdemo.txt\n",
    "\n",
    "settings:\n",
    "chains = 1 #3\n",
    "samples = 100 #2000\n",
    "thinning = 0\n",
    "burnin = 1000\n",
    "init = {myrate:1000}\n",
    "\n",
    "data:\n",
    "nattempts = 5\n",
    "y = [1,2,3,4,4]\n",
    "z = [np.nan,1,1,1,1]\n",
    "\n",
    "sample:\n",
    "z\n",
    "myrate\n",
    "\n",
    "\"\"\"\n",
    "\n",
    "\n",
    "modelbuddy = model_handler(spec)\n",
    "\n",
    "modelbuddy.setdata('z',[np.nan for i in range(4)]+[4])\n",
    "\n",
    "modelbuddy.init = {'myrate':.99}\n",
    "\n",
    "model = pyjags.Model(**modelbuddy.definition())\n",
    "samples = model.sample(**modelbuddy.sample_rules())\n",
    "\n",
    "samplebuddy = sample_handler(samples)"
   ]
  },
  {
   "cell_type": "code",
   "execution_count": 25,
   "metadata": {
    "scrolled": false
   },
   "outputs": [
    {
     "data": {
      "text/html": [
       "<div>\n",
       "<style scoped>\n",
       "    .dataframe tbody tr th:only-of-type {\n",
       "        vertical-align: middle;\n",
       "    }\n",
       "\n",
       "    .dataframe tbody tr th {\n",
       "        vertical-align: top;\n",
       "    }\n",
       "\n",
       "    .dataframe thead th {\n",
       "        text-align: right;\n",
       "    }\n",
       "</style>\n",
       "<table border=\"1\" class=\"dataframe\">\n",
       "  <thead>\n",
       "    <tr style=\"text-align: right;\">\n",
       "      <th></th>\n",
       "      <th>mean</th>\n",
       "      <th>std dev</th>\n",
       "      <th>median</th>\n",
       "      <th>mode</th>\n",
       "      <th>HPD</th>\n",
       "      <th>95CI</th>\n",
       "    </tr>\n",
       "  </thead>\n",
       "  <tbody>\n",
       "    <tr>\n",
       "      <th>myrate</th>\n",
       "      <td>0.191956</td>\n",
       "      <td>0.079849</td>\n",
       "      <td>0.180582</td>\n",
       "      <td>0.369153</td>\n",
       "      <td>[0.051, 0.319]</td>\n",
       "      <td>[0.059, 0.331]</td>\n",
       "    </tr>\n",
       "    <tr>\n",
       "      <th>z_0</th>\n",
       "      <td>1.000000</td>\n",
       "      <td>0.000000</td>\n",
       "      <td>1.000000</td>\n",
       "      <td>0.525000</td>\n",
       "      <td>[1.0, 1.001]</td>\n",
       "      <td>[1.0, 1.0]</td>\n",
       "    </tr>\n",
       "    <tr>\n",
       "      <th>z_1</th>\n",
       "      <td>1.000000</td>\n",
       "      <td>0.000000</td>\n",
       "      <td>1.000000</td>\n",
       "      <td>0.525000</td>\n",
       "      <td>[1.0, 1.001]</td>\n",
       "      <td>[1.0, 1.0]</td>\n",
       "    </tr>\n",
       "    <tr>\n",
       "      <th>z_2</th>\n",
       "      <td>1.000000</td>\n",
       "      <td>0.000000</td>\n",
       "      <td>1.000000</td>\n",
       "      <td>0.525000</td>\n",
       "      <td>[1.0, 1.001]</td>\n",
       "      <td>[1.0, 1.0]</td>\n",
       "    </tr>\n",
       "    <tr>\n",
       "      <th>z_3</th>\n",
       "      <td>1.000000</td>\n",
       "      <td>0.000000</td>\n",
       "      <td>1.000000</td>\n",
       "      <td>0.525000</td>\n",
       "      <td>[1.0, 1.001]</td>\n",
       "      <td>[1.0, 1.0]</td>\n",
       "    </tr>\n",
       "    <tr>\n",
       "      <th>z_4</th>\n",
       "      <td>0.000000</td>\n",
       "      <td>0.000000</td>\n",
       "      <td>0.000000</td>\n",
       "      <td>-0.475000</td>\n",
       "      <td>[0.0, 0.001]</td>\n",
       "      <td>[0.0, 0.0]</td>\n",
       "    </tr>\n",
       "  </tbody>\n",
       "</table>\n",
       "</div>"
      ],
      "text/plain": [
       "            mean   std dev    median      mode             HPD            95CI\n",
       "myrate  0.191956  0.079849  0.180582  0.369153  [0.051, 0.319]  [0.059, 0.331]\n",
       "z_0     1.000000  0.000000  1.000000  0.525000    [1.0, 1.001]      [1.0, 1.0]\n",
       "z_1     1.000000  0.000000  1.000000  0.525000    [1.0, 1.001]      [1.0, 1.0]\n",
       "z_2     1.000000  0.000000  1.000000  0.525000    [1.0, 1.001]      [1.0, 1.0]\n",
       "z_3     1.000000  0.000000  1.000000  0.525000    [1.0, 1.001]      [1.0, 1.0]\n",
       "z_4     0.000000  0.000000  0.000000 -0.475000    [0.0, 0.001]      [0.0, 0.0]"
      ]
     },
     "execution_count": 25,
     "metadata": {},
     "output_type": "execute_result"
    }
   ],
   "source": [
    "samplebuddy.summary()"
   ]
  },
  {
   "cell_type": "code",
   "execution_count": 4,
   "metadata": {
    "scrolled": true
   },
   "outputs": [
    {
     "name": "stdout",
     "output_type": "stream",
     "text": [
      "{'myrate': 0.99}\n"
     ]
    }
   ],
   "source": [
    "print(modelbuddy.init)"
   ]
  },
  {
   "cell_type": "markdown",
   "metadata": {},
   "source": [
    "#### Simplest possible reduction?"
   ]
  },
  {
   "cell_type": "code",
   "execution_count": 23,
   "metadata": {
    "scrolled": false
   },
   "outputs": [
    {
     "ename": "JagsError",
     "evalue": "RUNTIME ERROR:\nCompilation error on line 9.\nUnknown variable NA\nEither supply values for this variable with the data\nor define it  on the left hand side of a relation.\n",
     "output_type": "error",
     "traceback": [
      "\u001b[0;31m---------------------------------------------------------------------------\u001b[0m",
      "\u001b[0;31mJagsError\u001b[0m                                 Traceback (most recent call last)",
      "\u001b[0;32m<ipython-input-23-eb230a7ea3c2>\u001b[0m in \u001b[0;36m<module>\u001b[0;34m\u001b[0m\n\u001b[1;32m     24\u001b[0m \u001b[0;34m\u001b[0m\u001b[0m\n\u001b[1;32m     25\u001b[0m \u001b[0;34m\u001b[0m\u001b[0m\n\u001b[0;32m---> 26\u001b[0;31m \u001b[0mmodel\u001b[0m \u001b[0;34m=\u001b[0m \u001b[0mpyjags\u001b[0m\u001b[0;34m.\u001b[0m\u001b[0mModel\u001b[0m\u001b[0;34m(\u001b[0m\u001b[0;34m**\u001b[0m\u001b[0mmodelbuddy\u001b[0m\u001b[0;34m.\u001b[0m\u001b[0mdefinition\u001b[0m\u001b[0;34m(\u001b[0m\u001b[0;34m)\u001b[0m\u001b[0;34m)\u001b[0m\u001b[0;34m\u001b[0m\u001b[0m\n\u001b[0m\u001b[1;32m     27\u001b[0m \u001b[0msamples\u001b[0m \u001b[0;34m=\u001b[0m \u001b[0mmodel\u001b[0m\u001b[0;34m.\u001b[0m\u001b[0msample\u001b[0m\u001b[0;34m(\u001b[0m\u001b[0;34m**\u001b[0m\u001b[0mmodelbuddy\u001b[0m\u001b[0;34m.\u001b[0m\u001b[0msample_rules\u001b[0m\u001b[0;34m(\u001b[0m\u001b[0;34m)\u001b[0m\u001b[0;34m)\u001b[0m\u001b[0;34m\u001b[0m\u001b[0m\n\u001b[1;32m     28\u001b[0m \u001b[0;34m\u001b[0m\u001b[0m\n",
      "\u001b[0;32m~/anaconda3/envs/pyjagsBCM/lib/python3.7/site-packages/pyjags/model.py\u001b[0m in \u001b[0;36m__init__\u001b[0;34m(self, code, data, init, chains, adapt, file, encoding, generate_data, progress_bar, refresh_seconds, threads, chains_per_thread)\u001b[0m\n\u001b[1;32m    278\u001b[0m             \u001b[0mself\u001b[0m\u001b[0;34m.\u001b[0m\u001b[0mconsole\u001b[0m\u001b[0;34m.\u001b[0m\u001b[0mcheckModel\u001b[0m\u001b[0;34m(\u001b[0m\u001b[0mpath\u001b[0m\u001b[0;34m)\u001b[0m\u001b[0;34m\u001b[0m\u001b[0m\n\u001b[1;32m    279\u001b[0m \u001b[0;34m\u001b[0m\u001b[0m\n\u001b[0;32m--> 280\u001b[0;31m         \u001b[0mself\u001b[0m\u001b[0;34m.\u001b[0m\u001b[0m_init_compile\u001b[0m\u001b[0;34m(\u001b[0m\u001b[0mdata\u001b[0m\u001b[0;34m,\u001b[0m \u001b[0mgenerate_data\u001b[0m\u001b[0;34m)\u001b[0m\u001b[0;34m\u001b[0m\u001b[0m\n\u001b[0m\u001b[1;32m    281\u001b[0m         \u001b[0mself\u001b[0m\u001b[0;34m.\u001b[0m\u001b[0m_init_parameters\u001b[0m\u001b[0;34m(\u001b[0m\u001b[0minit\u001b[0m\u001b[0;34m)\u001b[0m\u001b[0;34m\u001b[0m\u001b[0m\n\u001b[1;32m    282\u001b[0m         \u001b[0mself\u001b[0m\u001b[0;34m.\u001b[0m\u001b[0mconsole\u001b[0m\u001b[0;34m.\u001b[0m\u001b[0minitialize\u001b[0m\u001b[0;34m(\u001b[0m\u001b[0;34m)\u001b[0m\u001b[0;34m\u001b[0m\u001b[0m\n",
      "\u001b[0;32m~/anaconda3/envs/pyjagsBCM/lib/python3.7/site-packages/pyjags/model.py\u001b[0m in \u001b[0;36m_init_compile\u001b[0;34m(self, data, generate_data)\u001b[0m\n\u001b[1;32m    292\u001b[0m             raise ValueError(\n\u001b[1;32m    293\u001b[0m                 'Unused data for variables: {}'.format(','.join(unused)))\n\u001b[0;32m--> 294\u001b[0;31m         \u001b[0mself\u001b[0m\u001b[0;34m.\u001b[0m\u001b[0mconsole\u001b[0m\u001b[0;34m.\u001b[0m\u001b[0mcompile\u001b[0m\u001b[0;34m(\u001b[0m\u001b[0mdata\u001b[0m\u001b[0;34m,\u001b[0m \u001b[0mself\u001b[0m\u001b[0;34m.\u001b[0m\u001b[0mchains\u001b[0m\u001b[0;34m,\u001b[0m \u001b[0mgenerate_data\u001b[0m\u001b[0;34m)\u001b[0m\u001b[0;34m\u001b[0m\u001b[0m\n\u001b[0m\u001b[1;32m    295\u001b[0m \u001b[0;34m\u001b[0m\u001b[0m\n\u001b[1;32m    296\u001b[0m \u001b[0;34m\u001b[0m\u001b[0m\n",
      "\u001b[0;31mJagsError\u001b[0m: RUNTIME ERROR:\nCompilation error on line 9.\nUnknown variable NA\nEither supply values for this variable with the data\nor define it  on the left hand side of a relation.\n"
     ]
    }
   ],
   "source": [
    "spec = \"\"\"\n",
    "model:\n",
    "isaiahsimplest.txt\n",
    "\n",
    "settings:\n",
    "chains = 1 #3\n",
    "samples = 100 #2000\n",
    "thinning = 0\n",
    "burnin = 1000\n",
    "init = {myrate:1000}\n",
    "\n",
    "data:\n",
    "is_cens = [1,0]\n",
    "datums = [np.nan, 2]\n",
    "\n",
    "sample:\n",
    "myrate\n",
    "datums\n",
    "\n",
    "\"\"\"\n",
    "\n",
    "\n",
    "modelbuddy = model_handler(spec)\n",
    "\n",
    "\n",
    "model = pyjags.Model(**modelbuddy.definition())\n",
    "samples = model.sample(**modelbuddy.sample_rules())\n",
    "\n",
    "samplebuddy = sample_handler(samples)\n",
    "samplebuddy.vizchains('myrate')\n",
    "#samplebuddy.summary()"
   ]
  },
  {
   "cell_type": "code",
   "execution_count": 15,
   "metadata": {},
   "outputs": [
    {
     "name": "stdout",
     "output_type": "stream",
     "text": [
      "variable      datums_0  datums_1    myrate\n",
      "chain sample                              \n",
      "0     0            NaN       2.0  0.333196\n",
      "      1            NaN       2.0  0.219316\n",
      "      2            NaN       2.0  0.330620\n",
      "      3            NaN       2.0  0.524317\n",
      "      4            NaN       2.0  0.297302\n"
     ]
    }
   ],
   "source": [
    "samplebuddy.head()"
   ]
  }
 ],
 "metadata": {
  "kernelspec": {
   "display_name": "pyjagsBCM",
   "language": "python",
   "name": "pyjagsbcm"
  },
  "language_info": {
   "codemirror_mode": {
    "name": "ipython",
    "version": 3
   },
   "file_extension": ".py",
   "mimetype": "text/x-python",
   "name": "python",
   "nbconvert_exporter": "python",
   "pygments_lexer": "ipython3",
   "version": "3.7.0"
  }
 },
 "nbformat": 4,
 "nbformat_minor": 2
}
