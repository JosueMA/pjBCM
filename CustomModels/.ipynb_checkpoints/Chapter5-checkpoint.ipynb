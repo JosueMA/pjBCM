{
 "cells": [
  {
   "cell_type": "markdown",
   "metadata": {},
   "source": [
    "# Chapter 5 - Examples of Data Analysis"
   ]
  },
  {
   "cell_type": "code",
   "execution_count": 1,
   "metadata": {},
   "outputs": [],
   "source": [
    "import pyjags\n",
    "#import assistant classes from parent directory\n",
    "#jupyter needs a standard way to do relative imports.\n",
    "import os\n",
    "nb_path = os.getcwd()\n",
    "parent_path = os.path.split(nb_path)[0]\n",
    "os.chdir(parent_path)\n",
    "from pjbcmassistant import ModelHandler\n",
    "from pjbcmassistant import SampleHandler\n",
    "os.chdir(nb_path)"
   ]
  },
  {
   "cell_type": "markdown",
   "metadata": {},
   "source": [
    "## 5.1 - Pearson Correlation"
   ]
  },
  {
   "cell_type": "code",
   "execution_count": 2,
   "metadata": {
    "scrolled": true
   },
   "outputs": [
    {
     "name": "stdout",
     "output_type": "stream",
     "text": [
      "adapting: iterations 3000 of 3000, elapsed 0:00:00, remaining 0:00:00\n",
      "sampling: iterations 3000 of 3000, elapsed 0:00:00, remaining 0:00:00\n"
     ]
    }
   ],
   "source": [
    "spec = \"\"\"\n",
    "model:\n",
    "Correlation_1.txt\n",
    "\n",
    "settings:\n",
    "chains = 3\n",
    "samples = 1000\n",
    "thinning = 0\n",
    "burnin = 1000\n",
    "\n",
    "data:\n",
    "x = [[0.8, 102],[1.0,  98],[0.5, 100],[0.9, 105],[0.7, 103],[0.4, 110],[1.2,  99],[1.4,  87],[0.6, 113],[1.1,  89],[1.3,  93]]\n",
    "\n",
    "n = np.shape(x)[0]\n",
    "\n",
    "sample:\n",
    "r\n",
    "mu\n",
    "sigma\n",
    "\n",
    "\"\"\"\n",
    "\n",
    "model_spec = ModelHandler(spec)\n",
    "\n",
    "model = pyjags.Model(**model_spec.get_model_args())\n",
    "samples = model.sample(**model_spec.get_sample_args())\n",
    "\n",
    "sample_handler = SampleHandler(samples)"
   ]
  },
  {
   "cell_type": "code",
   "execution_count": 3,
   "metadata": {
    "scrolled": true
   },
   "outputs": [
    {
     "data": {
      "text/html": [
       "<div>\n",
       "<style scoped>\n",
       "    .dataframe tbody tr th:only-of-type {\n",
       "        vertical-align: middle;\n",
       "    }\n",
       "\n",
       "    .dataframe tbody tr th {\n",
       "        vertical-align: top;\n",
       "    }\n",
       "\n",
       "    .dataframe thead th {\n",
       "        text-align: right;\n",
       "    }\n",
       "</style>\n",
       "<table border=\"1\" class=\"dataframe\">\n",
       "  <thead>\n",
       "    <tr style=\"text-align: right;\">\n",
       "      <th></th>\n",
       "      <th>mean</th>\n",
       "      <th>std dev</th>\n",
       "      <th>median</th>\n",
       "      <th>mode</th>\n",
       "      <th>HPD</th>\n",
       "      <th>95CI</th>\n",
       "    </tr>\n",
       "  </thead>\n",
       "  <tbody>\n",
       "    <tr>\n",
       "      <th>mu_0</th>\n",
       "      <td>0.919785</td>\n",
       "      <td>0.106518</td>\n",
       "      <td>0.918706</td>\n",
       "      <td>0.918731</td>\n",
       "      <td>[0.637, 1.223]</td>\n",
       "      <td>[0.713, 1.137]</td>\n",
       "    </tr>\n",
       "    <tr>\n",
       "      <th>mu_1</th>\n",
       "      <td>99.235595</td>\n",
       "      <td>2.571941</td>\n",
       "      <td>99.326473</td>\n",
       "      <td>99.140191</td>\n",
       "      <td>[92.211, 106.739]</td>\n",
       "      <td>[93.926, 104.168]</td>\n",
       "    </tr>\n",
       "    <tr>\n",
       "      <th>r</th>\n",
       "      <td>-0.698299</td>\n",
       "      <td>0.167566</td>\n",
       "      <td>-0.732678</td>\n",
       "      <td>-0.787577</td>\n",
       "      <td>[-0.957, -0.228]</td>\n",
       "      <td>[-0.917, -0.291]</td>\n",
       "    </tr>\n",
       "    <tr>\n",
       "      <th>sigma_0</th>\n",
       "      <td>0.350401</td>\n",
       "      <td>0.083843</td>\n",
       "      <td>0.336536</td>\n",
       "      <td>0.297103</td>\n",
       "      <td>[0.196, 0.539]</td>\n",
       "      <td>[0.228, 0.541]</td>\n",
       "    </tr>\n",
       "    <tr>\n",
       "      <th>sigma_1</th>\n",
       "      <td>8.484189</td>\n",
       "      <td>2.002308</td>\n",
       "      <td>8.134786</td>\n",
       "      <td>7.870099</td>\n",
       "      <td>[4.99, 13.659]</td>\n",
       "      <td>[5.58, 13.22]</td>\n",
       "    </tr>\n",
       "  </tbody>\n",
       "</table>\n",
       "</div>"
      ],
      "text/plain": [
       "              mean   std dev     median       mode                HPD  \\\n",
       "mu_0      0.919785  0.106518   0.918706   0.918731     [0.637, 1.223]   \n",
       "mu_1     99.235595  2.571941  99.326473  99.140191  [92.211, 106.739]   \n",
       "r        -0.698299  0.167566  -0.732678  -0.787577   [-0.957, -0.228]   \n",
       "sigma_0   0.350401  0.083843   0.336536   0.297103     [0.196, 0.539]   \n",
       "sigma_1   8.484189  2.002308   8.134786   7.870099     [4.99, 13.659]   \n",
       "\n",
       "                      95CI  \n",
       "mu_0        [0.713, 1.137]  \n",
       "mu_1     [93.926, 104.168]  \n",
       "r         [-0.917, -0.291]  \n",
       "sigma_0     [0.228, 0.541]  \n",
       "sigma_1      [5.58, 13.22]  "
      ]
     },
     "execution_count": 3,
     "metadata": {},
     "output_type": "execute_result"
    }
   ],
   "source": [
    "sample_handler.summarize()"
   ]
  },
  {
   "cell_type": "code",
   "execution_count": 4,
   "metadata": {
    "scrolled": false
   },
   "outputs": [
    {
     "data": {
      "image/png": "[encoded data removed]",
      "text/plain": [
       "<Figure size 432x288 with 1 Axes>"
      ]
     },
     "metadata": {
      "needs_background": "light"
     },
     "output_type": "display_data"
    },
    {
     "data": {
      "image/png": "[encoded data removed]",
      "text/plain": [
       "<Figure size 360x360 with 1 Axes>"
      ]
     },
     "metadata": {
      "needs_background": "light"
     },
     "output_type": "display_data"
    },
    {
     "name": "stdout",
     "output_type": "stream",
     "text": [
      "maximum density observed across 1000 bins was at x = -0.7858\n"
     ]
    }
   ],
   "source": [
    "#Plot the input data:\n",
    "# This plot format could be rolled into the assistant\n",
    "import matplotlib.pyplot as plt\n",
    "import numpy as np\n",
    "\n",
    "datax = np.array(model_spec.data['x'])[:,0]\n",
    "datay = np.array(model_spec.data['x'])[:,1]\n",
    "\n",
    "plt.xlabel('RT')\n",
    "plt.ylabel('IQ')\n",
    "plt.scatter(datax, datay);\n",
    "\n",
    "#visualize the posterior density\n",
    "sample_handler.vizkde('r', range=(-1,1), showmax=True)\n"
   ]
  },
  {
   "cell_type": "markdown",
   "metadata": {},
   "source": [
    "## 5.2 - Pearson Correlation with Uncertainty"
   ]
  },
  {
   "cell_type": "code",
   "execution_count": 5,
   "metadata": {
    "scrolled": true
   },
   "outputs": [
    {
     "name": "stdout",
     "output_type": "stream",
     "text": [
      "adapting: iterations 3000 of 3000, elapsed 0:00:01, remaining 0:00:00\n",
      "sampling: iterations 9000 of 9000, elapsed 0:00:02, remaining 0:00:00\n"
     ]
    }
   ],
   "source": [
    "spec = \"\"\"\n",
    "model:\n",
    "Correlation_2.txt\n",
    "\n",
    "settings:\n",
    "chains = 3\n",
    "samples = 3000\n",
    "thinning = 0\n",
    "burnin = 1000\n",
    "\n",
    "data:\n",
    "x = [[0.8, 102],[1.0,  98],[0.5, 100],[0.9, 105],[0.7, 103],[0.4, 110],[1.2,  99],[1.4,  87],[0.6, 113],[1.1,  89],[1.3,  93]]\n",
    "\n",
    "n = np.shape(x)[0]\n",
    "\n",
    "lambdaerror = np.divide(1,(np.square(np.array([.03, 10]))))\n",
    "# this is getting out of hand. do the users know python or not?\n",
    "\n",
    "sample:\n",
    "r\n",
    "mu\n",
    "sigma\n",
    "\n",
    "\"\"\"\n",
    "\n",
    "model_spec = ModelHandler(spec)\n",
    "\n",
    "model = pyjags.Model(**model_spec.get_model_args())\n",
    "samples = model.sample(**model_spec.get_sample_args())\n",
    "\n",
    "sample_handler = SampleHandler(samples)"
   ]
  },
  {
   "cell_type": "code",
   "execution_count": 6,
   "metadata": {
    "scrolled": true
   },
   "outputs": [
    {
     "data": {
      "text/html": [
       "<div>\n",
       "<style scoped>\n",
       "    .dataframe tbody tr th:only-of-type {\n",
       "        vertical-align: middle;\n",
       "    }\n",
       "\n",
       "    .dataframe tbody tr th {\n",
       "        vertical-align: top;\n",
       "    }\n",
       "\n",
       "    .dataframe thead th {\n",
       "        text-align: right;\n",
       "    }\n",
       "</style>\n",
       "<table border=\"1\" class=\"dataframe\">\n",
       "  <thead>\n",
       "    <tr style=\"text-align: right;\">\n",
       "      <th></th>\n",
       "      <th>mean</th>\n",
       "      <th>std dev</th>\n",
       "      <th>median</th>\n",
       "      <th>mode</th>\n",
       "      <th>HPD</th>\n",
       "      <th>95CI</th>\n",
       "    </tr>\n",
       "  </thead>\n",
       "  <tbody>\n",
       "    <tr>\n",
       "      <th>mu_0</th>\n",
       "      <td>0.904523</td>\n",
       "      <td>0.113580</td>\n",
       "      <td>0.903449</td>\n",
       "      <td>0.907085</td>\n",
       "      <td>[0.577, 1.173]</td>\n",
       "      <td>[0.679, 1.138]</td>\n",
       "    </tr>\n",
       "    <tr>\n",
       "      <th>mu_1</th>\n",
       "      <td>99.149079</td>\n",
       "      <td>3.370480</td>\n",
       "      <td>99.043519</td>\n",
       "      <td>98.728124</td>\n",
       "      <td>[90.332, 105.869]</td>\n",
       "      <td>[91.813, 105.442]</td>\n",
       "    </tr>\n",
       "    <tr>\n",
       "      <th>r</th>\n",
       "      <td>-0.397124</td>\n",
       "      <td>0.523915</td>\n",
       "      <td>-0.555112</td>\n",
       "      <td>-0.989183</td>\n",
       "      <td>[-0.999, 0.996]</td>\n",
       "      <td>[-0.987, 0.836]</td>\n",
       "    </tr>\n",
       "    <tr>\n",
       "      <th>sigma_0</th>\n",
       "      <td>0.355397</td>\n",
       "      <td>0.089692</td>\n",
       "      <td>0.339333</td>\n",
       "      <td>0.319116</td>\n",
       "      <td>[0.211, 0.565]</td>\n",
       "      <td>[0.233, 0.573]</td>\n",
       "    </tr>\n",
       "    <tr>\n",
       "      <th>sigma_1</th>\n",
       "      <td>3.435298</td>\n",
       "      <td>2.919782</td>\n",
       "      <td>2.628492</td>\n",
       "      <td>0.716188</td>\n",
       "      <td>[0.046, 9.586]</td>\n",
       "      <td>[0.071, 10.314]</td>\n",
       "    </tr>\n",
       "  </tbody>\n",
       "</table>\n",
       "</div>"
      ],
      "text/plain": [
       "              mean   std dev     median       mode                HPD  \\\n",
       "mu_0      0.904523  0.113580   0.903449   0.907085     [0.577, 1.173]   \n",
       "mu_1     99.149079  3.370480  99.043519  98.728124  [90.332, 105.869]   \n",
       "r        -0.397124  0.523915  -0.555112  -0.989183    [-0.999, 0.996]   \n",
       "sigma_0   0.355397  0.089692   0.339333   0.319116     [0.211, 0.565]   \n",
       "sigma_1   3.435298  2.919782   2.628492   0.716188     [0.046, 9.586]   \n",
       "\n",
       "                      95CI  \n",
       "mu_0        [0.679, 1.138]  \n",
       "mu_1     [91.813, 105.442]  \n",
       "r          [-0.987, 0.836]  \n",
       "sigma_0     [0.233, 0.573]  \n",
       "sigma_1    [0.071, 10.314]  "
      ]
     },
     "execution_count": 6,
     "metadata": {},
     "output_type": "execute_result"
    }
   ],
   "source": [
    "sample_handler.summarize()"
   ]
  },
  {
   "cell_type": "code",
   "execution_count": 7,
   "metadata": {
    "scrolled": false
   },
   "outputs": [
    {
     "data": {
      "image/png": "[encoded data removed]",
      "text/plain": [
       "<Figure size 432x288 with 1 Axes>"
      ]
     },
     "metadata": {
      "needs_background": "light"
     },
     "output_type": "display_data"
    },
    {
     "data": {
      "image/png": "[encoded data removed]",
      "text/plain": [
       "<Figure size 360x360 with 1 Axes>"
      ]
     },
     "metadata": {
      "needs_background": "light"
     },
     "output_type": "display_data"
    },
    {
     "name": "stdout",
     "output_type": "stream",
     "text": [
      "maximum density observed across 1000 bins was at x = -0.8659\n"
     ]
    }
   ],
   "source": [
    "#Plot the input data:\n",
    "#####roll this into assistant if we need it\n",
    "import matplotlib.pyplot as plt\n",
    "import numpy as np\n",
    "\n",
    "datax = np.array(model_spec.data['x'])[:,0]\n",
    "datay = np.array(model_spec.data['x'])[:,1]\n",
    "\n",
    "plt.xlabel('RT')\n",
    "plt.ylabel('IQ')\n",
    "plt.errorbar(datax, datay, xerr=.03, yerr=10, fmt='k.');\n",
    "\n",
    "#visualize the posterior density\n",
    "sample_handler.vizkde('r', range=(-1,1), showmax=True)\n"
   ]
  },
  {
   "cell_type": "markdown",
   "metadata": {},
   "source": [
    "## 5.3 - The Kappa Coefficient of Agreement"
   ]
  },
  {
   "cell_type": "code",
   "execution_count": 8,
   "metadata": {
    "scrolled": true
   },
   "outputs": [
    {
     "name": "stdout",
     "output_type": "stream",
     "text": [
      "adapting: iterations 3000 of 3000, elapsed 0:00:00, remaining 0:00:00\n",
      "sampling: iterations 9000 of 9000, elapsed 0:00:00, remaining 0:00:00\n"
     ]
    }
   ],
   "source": [
    "spec = \"\"\"\n",
    "model:\n",
    "Kappa.txt\n",
    "\n",
    "settings:\n",
    "chains = 3\n",
    "samples = 3000\n",
    "thinning = 0\n",
    "burnin = 1000\n",
    "\n",
    "data:\n",
    "#y = [14, 4, 5, 210]   # Influenza\n",
    "#y = [20, 7, 103, 417] # Hearing Loss\n",
    "y = [0, 0, 13, 157]  # Rare Disease\n",
    "\n",
    "n = sum(y)\n",
    "\n",
    "sample:\n",
    "kappa\n",
    "xi\n",
    "psi\n",
    "alpha\n",
    "beta\n",
    "gamma\n",
    "pi\n",
    "\n",
    "\"\"\"\n",
    "\n",
    "model_spec = ModelHandler(spec)\n",
    "\n",
    "model = pyjags.Model(**model_spec.get_model_args())\n",
    "samples = model.sample(**model_spec.get_sample_args())\n",
    "\n",
    "sample_handler = SampleHandler(samples)"
   ]
  },
  {
   "cell_type": "code",
   "execution_count": 9,
   "metadata": {
    "scrolled": true
   },
   "outputs": [
    {
     "data": {
      "text/html": [
       "<div>\n",
       "<style scoped>\n",
       "    .dataframe tbody tr th:only-of-type {\n",
       "        vertical-align: middle;\n",
       "    }\n",
       "\n",
       "    .dataframe tbody tr th {\n",
       "        vertical-align: top;\n",
       "    }\n",
       "\n",
       "    .dataframe thead th {\n",
       "        text-align: right;\n",
       "    }\n",
       "</style>\n",
       "<table border=\"1\" class=\"dataframe\">\n",
       "  <thead>\n",
       "    <tr style=\"text-align: right;\">\n",
       "      <th></th>\n",
       "      <th>mean</th>\n",
       "      <th>std dev</th>\n",
       "      <th>median</th>\n",
       "      <th>mode</th>\n",
       "      <th>HPD</th>\n",
       "      <th>95CI</th>\n",
       "    </tr>\n",
       "  </thead>\n",
       "  <tbody>\n",
       "    <tr>\n",
       "      <th>alpha</th>\n",
       "      <td>0.006021</td>\n",
       "      <td>0.006070</td>\n",
       "      <td>0.004151</td>\n",
       "      <td>0.000301</td>\n",
       "      <td>[0.0, 0.022]</td>\n",
       "      <td>[0.0, 0.022]</td>\n",
       "    </tr>\n",
       "    <tr>\n",
       "      <th>beta</th>\n",
       "      <td>0.496143</td>\n",
       "      <td>0.287095</td>\n",
       "      <td>0.499865</td>\n",
       "      <td>0.515033</td>\n",
       "      <td>[0.0, 0.999]</td>\n",
       "      <td>[0.024, 0.973]</td>\n",
       "    </tr>\n",
       "    <tr>\n",
       "      <th>gamma</th>\n",
       "      <td>0.918853</td>\n",
       "      <td>0.020487</td>\n",
       "      <td>0.920029</td>\n",
       "      <td>0.930533</td>\n",
       "      <td>[0.868, 0.964]</td>\n",
       "      <td>[0.875, 0.955]</td>\n",
       "    </tr>\n",
       "    <tr>\n",
       "      <th>kappa</th>\n",
       "      <td>0.053711</td>\n",
       "      <td>0.068091</td>\n",
       "      <td>0.029742</td>\n",
       "      <td>0.002973</td>\n",
       "      <td>[-0.02, 0.261]</td>\n",
       "      <td>[-0.006, 0.245]</td>\n",
       "    </tr>\n",
       "    <tr>\n",
       "      <th>pi_0</th>\n",
       "      <td>0.002980</td>\n",
       "      <td>0.003920</td>\n",
       "      <td>0.001624</td>\n",
       "      <td>0.000228</td>\n",
       "      <td>[0.0, 0.013]</td>\n",
       "      <td>[0.0, 0.014]</td>\n",
       "    </tr>\n",
       "    <tr>\n",
       "      <th>pi_1</th>\n",
       "      <td>0.003040</td>\n",
       "      <td>0.003915</td>\n",
       "      <td>0.001646</td>\n",
       "      <td>0.000203</td>\n",
       "      <td>[0.0, 0.012]</td>\n",
       "      <td>[0.0, 0.014]</td>\n",
       "    </tr>\n",
       "    <tr>\n",
       "      <th>pi_2</th>\n",
       "      <td>0.080658</td>\n",
       "      <td>0.020371</td>\n",
       "      <td>0.079463</td>\n",
       "      <td>0.069322</td>\n",
       "      <td>[0.036, 0.129]</td>\n",
       "      <td>[0.045, 0.124]</td>\n",
       "    </tr>\n",
       "    <tr>\n",
       "      <th>pi_3</th>\n",
       "      <td>0.913321</td>\n",
       "      <td>0.021125</td>\n",
       "      <td>0.914645</td>\n",
       "      <td>0.914779</td>\n",
       "      <td>[0.853, 0.959]</td>\n",
       "      <td>[0.869, 0.95]</td>\n",
       "    </tr>\n",
       "    <tr>\n",
       "      <th>psi</th>\n",
       "      <td>0.911379</td>\n",
       "      <td>0.021568</td>\n",
       "      <td>0.912730</td>\n",
       "      <td>0.914146</td>\n",
       "      <td>[0.857, 0.956]</td>\n",
       "      <td>[0.866, 0.949]</td>\n",
       "    </tr>\n",
       "    <tr>\n",
       "      <th>xi</th>\n",
       "      <td>0.916302</td>\n",
       "      <td>0.020743</td>\n",
       "      <td>0.917606</td>\n",
       "      <td>0.915309</td>\n",
       "      <td>[0.855, 0.957]</td>\n",
       "      <td>[0.872, 0.953]</td>\n",
       "    </tr>\n",
       "  </tbody>\n",
       "</table>\n",
       "</div>"
      ],
      "text/plain": [
       "           mean   std dev    median      mode             HPD             95CI\n",
       "alpha  0.006021  0.006070  0.004151  0.000301    [0.0, 0.022]     [0.0, 0.022]\n",
       "beta   0.496143  0.287095  0.499865  0.515033    [0.0, 0.999]   [0.024, 0.973]\n",
       "gamma  0.918853  0.020487  0.920029  0.930533  [0.868, 0.964]   [0.875, 0.955]\n",
       "kappa  0.053711  0.068091  0.029742  0.002973  [-0.02, 0.261]  [-0.006, 0.245]\n",
       "pi_0   0.002980  0.003920  0.001624  0.000228    [0.0, 0.013]     [0.0, 0.014]\n",
       "pi_1   0.003040  0.003915  0.001646  0.000203    [0.0, 0.012]     [0.0, 0.014]\n",
       "pi_2   0.080658  0.020371  0.079463  0.069322  [0.036, 0.129]   [0.045, 0.124]\n",
       "pi_3   0.913321  0.021125  0.914645  0.914779  [0.853, 0.959]    [0.869, 0.95]\n",
       "psi    0.911379  0.021568  0.912730  0.914146  [0.857, 0.956]   [0.866, 0.949]\n",
       "xi     0.916302  0.020743  0.917606  0.915309  [0.855, 0.957]   [0.872, 0.953]"
      ]
     },
     "execution_count": 9,
     "metadata": {},
     "output_type": "execute_result"
    }
   ],
   "source": [
    "sample_handler.summarize()"
   ]
  },
  {
   "cell_type": "code",
   "execution_count": 10,
   "metadata": {
    "scrolled": true
   },
   "outputs": [
    {
     "data": {
      "image/png": "[encoded data removed]",
      "text/plain": [
       "<Figure size 432x288 with 4 Axes>"
      ]
     },
     "metadata": {
      "needs_background": "light"
     },
     "output_type": "display_data"
    }
   ],
   "source": [
    "sample_handler.vizhist('alpha','beta','gamma')"
   ]
  },
  {
   "cell_type": "code",
   "execution_count": 11,
   "metadata": {
    "scrolled": true
   },
   "outputs": [
    {
     "name": "stdout",
     "output_type": "stream",
     "text": [
      "all PSRF values < 1.05 | maximum PSRF: pi_2 at 1.0004476278020582.\n"
     ]
    },
    {
     "data": {
      "image/png": "[encoded data removed]",
      "text/plain": [
       "<Figure size 432x288 with 1 Axes>"
      ]
     },
     "metadata": {
      "needs_background": "light"
     },
     "output_type": "display_data"
    }
   ],
   "source": [
    "sample_handler.diagnostic()\n",
    "sample_handler.autocorr('gamma')"
   ]
  },
  {
   "cell_type": "markdown",
   "metadata": {},
   "source": [
    "## 5.4 - Change Detection in Time Series Data"
   ]
  },
  {
   "cell_type": "code",
   "execution_count": 12,
   "metadata": {},
   "outputs": [],
   "source": [
    "timeseries = np.array([float(i) for i in open('changepointdata.txt','r')])"
   ]
  },
  {
   "cell_type": "code",
   "execution_count": 14,
   "metadata": {
    "scrolled": false
   },
   "outputs": [
    {
     "name": "stdout",
     "output_type": "stream",
     "text": [
      "adapting: iterations 3000 of 3000, elapsed 0:00:04, remaining 0:00:00\n",
      "sampling: iterations 5604 of 9000, elapsed 0:00:08, remaining 0:00:05\n",
      "sampling: iterations 9000 of 9000, elapsed 0:00:13, remaining 0:00:00\n"
     ]
    }
   ],
   "source": [
    "spec = \"\"\"\n",
    "model:\n",
    "ChangeDetection.txt\n",
    "\n",
    "settings:\n",
    "chains = 3\n",
    "samples = 3000\n",
    "thinning = 0\n",
    "burnin = 1000\n",
    "\n",
    "data:\n",
    "#all data calculated below.\n",
    "\n",
    "sample:\n",
    "mu\n",
    "sigma\n",
    "tau\n",
    "\n",
    "\"\"\"\n",
    "\n",
    "model_spec = ModelHandler(spec)\n",
    "\n",
    "\n",
    "#data values are calculated and passed to the handler.\n",
    "time_series = np.array([float(i) for i in open('changepointdata.txt','r')])\n",
    "model_spec.set_data('c', time_series)\n",
    "model_spec.set_data('n', len(time_series))\n",
    "model_spec.set_data('t', [i for i in range(len(time_series))])\n",
    "\n",
    "model = pyjags.Model(**model_spec.get_model_args())\n",
    "samples = model.sample(**model_spec.get_sample_args())\n",
    "\n",
    "sample_handler = SampleHandler(samples)"
   ]
  },
  {
   "cell_type": "code",
   "execution_count": 15,
   "metadata": {
    "scrolled": true
   },
   "outputs": [
    {
     "data": {
      "text/html": [
       "<div>\n",
       "<style scoped>\n",
       "    .dataframe tbody tr th:only-of-type {\n",
       "        vertical-align: middle;\n",
       "    }\n",
       "\n",
       "    .dataframe tbody tr th {\n",
       "        vertical-align: top;\n",
       "    }\n",
       "\n",
       "    .dataframe thead th {\n",
       "        text-align: right;\n",
       "    }\n",
       "</style>\n",
       "<table border=\"1\" class=\"dataframe\">\n",
       "  <thead>\n",
       "    <tr style=\"text-align: right;\">\n",
       "      <th></th>\n",
       "      <th>mean</th>\n",
       "      <th>std dev</th>\n",
       "      <th>median</th>\n",
       "      <th>mode</th>\n",
       "      <th>HPD</th>\n",
       "      <th>95CI</th>\n",
       "    </tr>\n",
       "  </thead>\n",
       "  <tbody>\n",
       "    <tr>\n",
       "      <th>mu_0</th>\n",
       "      <td>37.884066</td>\n",
       "      <td>0.252163</td>\n",
       "      <td>37.885912</td>\n",
       "      <td>37.880279</td>\n",
       "      <td>[37.238, 38.451]</td>\n",
       "      <td>[37.4, 38.372]</td>\n",
       "    </tr>\n",
       "    <tr>\n",
       "      <th>mu_1</th>\n",
       "      <td>30.569228</td>\n",
       "      <td>0.324887</td>\n",
       "      <td>30.571447</td>\n",
       "      <td>30.597078</td>\n",
       "      <td>[29.734, 31.25]</td>\n",
       "      <td>[29.937, 31.196]</td>\n",
       "    </tr>\n",
       "    <tr>\n",
       "      <th>sigma</th>\n",
       "      <td>6.848637</td>\n",
       "      <td>0.142279</td>\n",
       "      <td>6.848192</td>\n",
       "      <td>6.807846</td>\n",
       "      <td>[6.484, 7.19]</td>\n",
       "      <td>[6.571, 7.132]</td>\n",
       "    </tr>\n",
       "    <tr>\n",
       "      <th>tau</th>\n",
       "      <td>731.427252</td>\n",
       "      <td>2.394437</td>\n",
       "      <td>730.793341</td>\n",
       "      <td>730.793232</td>\n",
       "      <td>[726.505, 737.991]</td>\n",
       "      <td>[728.035, 737.043]</td>\n",
       "    </tr>\n",
       "  </tbody>\n",
       "</table>\n",
       "</div>"
      ],
      "text/plain": [
       "             mean   std dev      median        mode                 HPD  \\\n",
       "mu_0    37.884066  0.252163   37.885912   37.880279    [37.238, 38.451]   \n",
       "mu_1    30.569228  0.324887   30.571447   30.597078     [29.734, 31.25]   \n",
       "sigma    6.848637  0.142279    6.848192    6.807846       [6.484, 7.19]   \n",
       "tau    731.427252  2.394437  730.793341  730.793232  [726.505, 737.991]   \n",
       "\n",
       "                     95CI  \n",
       "mu_0       [37.4, 38.372]  \n",
       "mu_1     [29.937, 31.196]  \n",
       "sigma      [6.571, 7.132]  \n",
       "tau    [728.035, 737.043]  "
      ]
     },
     "execution_count": 15,
     "metadata": {},
     "output_type": "execute_result"
    }
   ],
   "source": [
    "sample_handler.summarize()"
   ]
  },
  {
   "cell_type": "code",
   "execution_count": 16,
   "metadata": {
    "scrolled": false
   },
   "outputs": [
    {
     "data": {
      "image/png": "[encoded data removed]",
      "text/plain": [
       "<Figure size 432x288 with 4 Axes>"
      ]
     },
     "metadata": {
      "needs_background": "light"
     },
     "output_type": "display_data"
    }
   ],
   "source": [
    "sample_handler.vizhist('tau','mu_0','mu_1','sigma')\n",
    "#TODO: fix this visualization layout."
   ]
  },
  {
   "cell_type": "code",
   "execution_count": 17,
   "metadata": {
    "scrolled": true
   },
   "outputs": [
    {
     "data": {
      "image/png": "[encoded data removed]",
      "text/plain": [
       "<Figure size 432x288 with 1 Axes>"
      ]
     },
     "metadata": {
      "needs_background": "light"
     },
     "output_type": "display_data"
    }
   ],
   "source": [
    "sample_handler.autocorr('tau')"
   ]
  },
  {
   "cell_type": "code",
   "execution_count": 22,
   "metadata": {
    "scrolled": true
   },
   "outputs": [
    {
     "data": {
      "image/png": "[encoded data removed]",
      "text/plain": [
       "<Figure size 432x288 with 1 Axes>"
      ]
     },
     "metadata": {
      "needs_background": "light"
     },
     "output_type": "display_data"
    }
   ],
   "source": [
    "plt.plot(model_spec.data['c'])\n",
    "plt.plot([sample_handler.get_statistic('mu_0','mean') for i in range(int(sample_handler.get_statistic('tau','mean')))]+[sample_handler.get_statistic('mu_1','mean') for i in range(model_spec.data['n'] - int(sample_handler.get_statistic('tau','mean')))]);\n",
    "#TODO: write this elegantly."
   ]
  },
  {
   "cell_type": "markdown",
   "metadata": {},
   "source": [
    "## 5.5 - Censored Data"
   ]
  },
  {
   "cell_type": "markdown",
   "metadata": {},
   "source": [
    "Censored/missing data must be set as NaN values. This can be done using `float('nan')` or `numpy.nan`.\n",
    "\n",
    "Alternatively, data can be passed as a `numpy` array with the censored/missing values masked."
   ]
  },
  {
   "cell_type": "code",
   "execution_count": 24,
   "metadata": {
    "scrolled": true
   },
   "outputs": [
    {
     "name": "stdout",
     "output_type": "stream",
     "text": [
      "adapting: iterations 532 of 1000, elapsed 0:00:05, remaining 0:00:04\n",
      "adapting: iterations 1000 of 1000, elapsed 0:00:10, remaining 0:00:00\n",
      "sampling: iterations 100 of 100, elapsed 0:00:01, remaining 0:00:00\n"
     ]
    }
   ],
   "source": [
    "spec = \"\"\"\n",
    "model:\n",
    "ChaSaSoonJ.txt\n",
    "#okay, what in the world is happening with this model?\n",
    "#it looks like NaN values are breaking JAGS's log likelihood\n",
    "#calculations, so we can't use the model from the text...\n",
    "#What's the situation with this?\n",
    "#Is there an alternative model that's less of a 'hack'?\n",
    "\n",
    "settings:\n",
    "chains = 1 #3\n",
    "samples = 100 #2000\n",
    "thinning = 0\n",
    "burnin = 1000\n",
    "\n",
    "data:\n",
    "nattempts = 950\n",
    "#nfails = 949\n",
    "n = 50\n",
    "\n",
    "sample:\n",
    "theta\n",
    "z\n",
    "\n",
    "\"\"\"\n",
    "\n",
    "model_spec = ModelHandler(spec)\n",
    "\n",
    "#data values are calculated and passed to the handler.\n",
    "nattempts = 950\n",
    "nfails = 949\n",
    "censoring = np.append(np.ones(nfails),0)\n",
    "scores = np.empty(nattempts)\n",
    "scores[:] = float('nan')\n",
    "scores[-1] = 30\n",
    "\n",
    "model_spec.set_data('y', censoring)\n",
    "model_spec.set_data('z', scores)\n",
    "\n",
    "\n",
    "model = pyjags.Model(**model_spec.get_model_args())\n",
    "samples = model.sample(**model_spec.get_sample_args())\n",
    "\n",
    "sample_handler = SampleHandler(samples)"
   ]
  },
  {
   "cell_type": "code",
   "execution_count": 26,
   "metadata": {},
   "outputs": [
    {
     "data": {
      "image/png": "[encoded data removed]",
      "text/plain": [
       "<Figure size 360x360 with 1 Axes>"
      ]
     },
     "metadata": {
      "needs_background": "light"
     },
     "output_type": "display_data"
    }
   ],
   "source": [
    "sample_handler.vizkde('theta')"
   ]
  },
  {
   "cell_type": "markdown",
   "metadata": {},
   "source": [
    "## 5.6 - Recapturing Planes"
   ]
  },
  {
   "cell_type": "code",
   "execution_count": 27,
   "metadata": {
    "scrolled": true
   },
   "outputs": [
    {
     "name": "stdout",
     "output_type": "stream",
     "text": [
      "sampling: iterations 9000 of 9000, elapsed 0:00:03, remaining 0:00:00\n"
     ]
    }
   ],
   "source": [
    "spec = \"\"\"\n",
    "model:\n",
    "PlanesJ.txt\n",
    "\n",
    "settings:\n",
    "chains = 3\n",
    "samples = 3000\n",
    "thinning = 0\n",
    "burnin = 1000\n",
    "\n",
    "data:\n",
    "x = 10     # Number in first sample\n",
    "k = 0      # Number \"re-captured\" in second sample\n",
    "n = 5      # Size of second sample\n",
    "tmax = 500  # Total possible number\n",
    "\n",
    "\n",
    "sample:\n",
    "t\n",
    "\n",
    "\n",
    "\"\"\"\n",
    "\n",
    "model_spec = ModelHandler(spec)\n",
    "\n",
    "\n",
    "\n",
    "model = pyjags.Model(**model_spec.get_model_args())\n",
    "samples = model.sample(**model_spec.get_sample_args())\n",
    "\n",
    "sample_handler = SampleHandler(samples)"
   ]
  },
  {
   "cell_type": "code",
   "execution_count": 28,
   "metadata": {
    "scrolled": true
   },
   "outputs": [
    {
     "data": {
      "text/html": [
       "<div>\n",
       "<style scoped>\n",
       "    .dataframe tbody tr th:only-of-type {\n",
       "        vertical-align: middle;\n",
       "    }\n",
       "\n",
       "    .dataframe tbody tr th {\n",
       "        vertical-align: top;\n",
       "    }\n",
       "\n",
       "    .dataframe thead th {\n",
       "        text-align: right;\n",
       "    }\n",
       "</style>\n",
       "<table border=\"1\" class=\"dataframe\">\n",
       "  <thead>\n",
       "    <tr style=\"text-align: right;\">\n",
       "      <th></th>\n",
       "      <th>mean</th>\n",
       "      <th>std dev</th>\n",
       "      <th>median</th>\n",
       "      <th>mode</th>\n",
       "      <th>HPD</th>\n",
       "      <th>95CI</th>\n",
       "    </tr>\n",
       "  </thead>\n",
       "  <tbody>\n",
       "    <tr>\n",
       "      <th>t</th>\n",
       "      <td>291.191333</td>\n",
       "      <td>126.995439</td>\n",
       "      <td>298.0</td>\n",
       "      <td>497.615</td>\n",
       "      <td>[48.758, 500.0]</td>\n",
       "      <td>[61.975, 491.0]</td>\n",
       "    </tr>\n",
       "  </tbody>\n",
       "</table>\n",
       "</div>"
      ],
      "text/plain": [
       "         mean     std dev  median     mode              HPD             95CI\n",
       "t  291.191333  126.995439   298.0  497.615  [48.758, 500.0]  [61.975, 491.0]"
      ]
     },
     "execution_count": 28,
     "metadata": {},
     "output_type": "execute_result"
    }
   ],
   "source": [
    "sample_handler.summarize()"
   ]
  },
  {
   "cell_type": "code",
   "execution_count": 29,
   "metadata": {
    "scrolled": false
   },
   "outputs": [
    {
     "data": {
      "image/png": "[encoded data removed]",
      "text/plain": [
       "<Figure size 432x432 with 1 Axes>"
      ]
     },
     "metadata": {
      "needs_background": "light"
     },
     "output_type": "display_data"
    }
   ],
   "source": [
    "sample_handler.vizhist('t')"
   ]
  }
 ],
 "metadata": {
  "kernelspec": {
   "display_name": "pyjagsBCM",
   "language": "python",
   "name": "pyjagsbcm"
  },
  "language_info": {
   "codemirror_mode": {
    "name": "ipython",
    "version": 3
   },
   "file_extension": ".py",
   "mimetype": "text/x-python",
   "name": "python",
   "nbconvert_exporter": "python",
   "pygments_lexer": "ipython3",
   "version": "3.7.0"
  }
 },
 "nbformat": 4,
 "nbformat_minor": 2
}
