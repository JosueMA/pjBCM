{
 "cells": [
  {
   "cell_type": "markdown",
   "metadata": {},
   "source": [
    "# Using pjbcmassistant for Bayesian modeling"
   ]
  },
  {
   "cell_type": "markdown",
   "metadata": {},
   "source": [
    "`pyjags` is a Python module that provides an interface to `JAGS`, a\n",
    "Gibbs sampling application. `pjbcmassistant` offers two convenience classes to make it easier to use this module and analyze its results.\n",
    "\n",
    "These were designed to perform the code exercises accompanying the book Bayesian Cognitive Modeling.\n",
    "\n",
    "The following code demos require `JAGS`, `pyjags`, `pjbcmassistant`, and their dependencies."
   ]
  },
  {
   "cell_type": "markdown",
   "metadata": {},
   "source": [
    "#### importing modules\n",
    "\n",
    "Before we can run a model, we must import the software that will handle it. The code below assumes that the file `pyjagsbcmassistant.py` is in the *parent* directory of the current notebook. If `pyjagsbcmassistant.py` is in the *same* directory, or in a directory listed in `sys.path`, you may simply write `from pjbcmassistant import ModelHandler, SampleHandler`"
   ]
  },
  {
   "cell_type": "code",
   "execution_count": 1,
   "metadata": {
    "scrolled": false
   },
   "outputs": [],
   "source": [
    "import pyjags\n",
    "\n",
    "# this import assumes pjbcmassistant.py is ONE folder\n",
    "# above this notebook. You may need to redirect it if\n",
    "# you get a ModuleNotFoundError.\n",
    "import os\n",
    "nb_path = os.getcwd()\n",
    "parent_path = os.path.split(nb_path)[0]\n",
    "os.chdir(parent_path)\n",
    "from pjbcmassistant import ModelHandler, SampleHandler\n",
    "os.chdir(nb_path)"
   ]
  },
  {
   "cell_type": "markdown",
   "metadata": {},
   "source": [
    "#### defining the model specifications\n",
    "\n",
    "`ModelHandler` is set up using a settings file style string, intended to be easy to read and quick to edit. In it, we state the model and the various parameters that `JAGS` needs to perform sampling.\n",
    "\n",
    "Below is an example model specification string. It can also be found by calling `print(ModelHandler.specification_template)`."
   ]
  },
  {
   "cell_type": "code",
   "execution_count": 2,
   "metadata": {},
   "outputs": [],
   "source": [
    "model_spec_string = \"\"\"\n",
    "model: #model code or local .txt file\n",
    "model{\n",
    "  for (i in 1:observationCount){ \n",
    "    testScores[i] ~ dnorm(mu, lambda)\n",
    "  }\n",
    "  mu ~ dunif(0,10)\n",
    "  lambda ~ dgamma(.001,.001)\n",
    "}\n",
    "\n",
    "settings:\n",
    "chains = 3 #number of chains to run\n",
    "samples = 1000 #number of samples per chain\n",
    "thinning = 0 #number of samples to discard between recorded samples\n",
    "burnin = 500 #number of burn-in samples per chain\n",
    "\n",
    "data:\n",
    "testScores = [1,2,3,4,5,6,7,8] # can be integer or list\n",
    "observationCount = len(testScores) # variables can be assigned using Python expressions\n",
    "\n",
    "sample: #model variables to record, one per line\n",
    "mu\n",
    "lambda\n",
    "\"\"\""
   ]
  },
  {
   "cell_type": "markdown",
   "metadata": {},
   "source": [
    "Note that we could also specify our model by pointing ModelHandler to a .txt file, such as `MyModel.txt`, so long as that .txt file is in the same directory as the notebook.\n",
    "\n",
    "#### Creating the model & sample handlers.\n",
    "\n",
    "The following steps are always exactly the same. If you're not interested in the details, you can always just copy and paste the code below.\n",
    "\n",
    "Now that we have our *specification string*, we need to process it into a format `pyjags` will accept. This is done by\n",
    "\n",
    "1. using ModelHandler to create an object representing the model specification. \n",
    "2. calling that object's method `.get_model_args()` to get the arguments and\n",
    "3. passing them to`pyjags.Model`to create a `pyjags` model object\n",
    "4. calling the method `.sample` on that `pyjags` model (using arguments passed via `.get_sample_args()`)\n",
    "5. creating a sample handler object out of those samples, using `SampleHandler`.\n",
    "\n",
    "Note: ModelHandler is only here to make simple models a little easier to read and edit. Its usage is totally optional -- see the `pyjags` documentation for defining model and sample arguments manually."
   ]
  },
  {
   "cell_type": "code",
   "execution_count": 3,
   "metadata": {
    "scrolled": true
   },
   "outputs": [
    {
     "name": "stdout",
     "output_type": "stream",
     "text": [
      "adapting: iterations 1500 of 1500, elapsed 0:00:00, remaining 0:00:00\n",
      "sampling: iterations 3000 of 3000, elapsed 0:00:00, remaining 0:00:00\n"
     ]
    }
   ],
   "source": [
    "# 1. create our model specification object\n",
    "model_specification = ModelHandler(model_spec_string)\n",
    "\n",
    "# 2,3. pass our specification's model arguments to pyjags.Model\n",
    "# to create a PyJAGS model object.\n",
    "pyjags_model = pyjags.Model(**model_specification.get_model_args())\n",
    "\n",
    "# 4. pass our specification's sample arguments to pyjags.sample\n",
    "# to generate our samples (as an array).\n",
    "sampled_data = pyjags_model.sample(**model_specification.get_sample_args())\n",
    "\n",
    "# 5. create our sample handler object, to process the data we got.\n",
    "sample_handler = SampleHandler(sampled_data)"
   ]
  },
  {
   "cell_type": "markdown",
   "metadata": {},
   "source": [
    "### Using the sample handler\n",
    "\n",
    "The sample handler has a number of methods we can call to help us analyze the results of our model.\n",
    "\n",
    "#### Summary statistics:"
   ]
  },
  {
   "cell_type": "code",
   "execution_count": 4,
   "metadata": {},
   "outputs": [
    {
     "data": {
      "text/html": [
       "<div>\n",
       "<style scoped>\n",
       "    .dataframe tbody tr th:only-of-type {\n",
       "        vertical-align: middle;\n",
       "    }\n",
       "\n",
       "    .dataframe tbody tr th {\n",
       "        vertical-align: top;\n",
       "    }\n",
       "\n",
       "    .dataframe thead th {\n",
       "        text-align: right;\n",
       "    }\n",
       "</style>\n",
       "<table border=\"1\" class=\"dataframe\">\n",
       "  <thead>\n",
       "    <tr style=\"text-align: right;\">\n",
       "      <th></th>\n",
       "      <th>mean</th>\n",
       "      <th>std dev</th>\n",
       "      <th>median</th>\n",
       "      <th>mode</th>\n",
       "      <th>HPD</th>\n",
       "      <th>95CI</th>\n",
       "    </tr>\n",
       "  </thead>\n",
       "  <tbody>\n",
       "    <tr>\n",
       "      <th>lambda</th>\n",
       "      <td>0.165579</td>\n",
       "      <td>0.089083</td>\n",
       "      <td>0.151024</td>\n",
       "      <td>0.116713</td>\n",
       "      <td>[0.022, 0.334]</td>\n",
       "      <td>[0.041, 0.378]</td>\n",
       "    </tr>\n",
       "    <tr>\n",
       "      <th>mu</th>\n",
       "      <td>4.578695</td>\n",
       "      <td>1.013992</td>\n",
       "      <td>4.563441</td>\n",
       "      <td>4.554959</td>\n",
       "      <td>[2.588, 6.581]</td>\n",
       "      <td>[2.588, 6.58]</td>\n",
       "    </tr>\n",
       "  </tbody>\n",
       "</table>\n",
       "</div>"
      ],
      "text/plain": [
       "            mean   std dev    median      mode             HPD            95CI\n",
       "lambda  0.165579  0.089083  0.151024  0.116713  [0.022, 0.334]  [0.041, 0.378]\n",
       "mu      4.578695  1.013992  4.563441  4.554959  [2.588, 6.581]   [2.588, 6.58]"
      ]
     },
     "execution_count": 4,
     "metadata": {},
     "output_type": "execute_result"
    }
   ],
   "source": [
    "sample_handler.summarize()"
   ]
  },
  {
   "cell_type": "code",
   "execution_count": 5,
   "metadata": {
    "scrolled": false
   },
   "outputs": [
    {
     "data": {
      "text/plain": [
       "{'var': 'mu',\n",
       " 'mean': 4.578694792554717,\n",
       " 'median': 4.5634410906502385,\n",
       " 'std dev': 1.0139920449323407,\n",
       " '95CI': array([2.588, 6.58 ]),\n",
       " 'HPD': array([2.588, 6.581]),\n",
       " 'mode': 4.554959257140368}"
      ]
     },
     "execution_count": 5,
     "metadata": {},
     "output_type": "execute_result"
    }
   ],
   "source": [
    "sample_handler.summarize_var(\"mu\")"
   ]
  },
  {
   "cell_type": "code",
   "execution_count": 6,
   "metadata": {
    "scrolled": true
   },
   "outputs": [
    {
     "data": {
      "text/plain": [
       "4.578694792554717"
      ]
     },
     "execution_count": 6,
     "metadata": {},
     "output_type": "execute_result"
    }
   ],
   "source": [
    "sample_handler.get_statistic(variable=\"mu\", statistic=\"mean\")"
   ]
  },
  {
   "cell_type": "markdown",
   "metadata": {},
   "source": [
    "#### Convergence tests:"
   ]
  },
  {
   "cell_type": "code",
   "execution_count": 7,
   "metadata": {
    "scrolled": true
   },
   "outputs": [
    {
     "data": {
      "image/png": "[encoded data removed]",
      "text/plain": [
       "<Figure size 576x216 with 1 Axes>"
      ]
     },
     "metadata": {
      "needs_background": "light"
     },
     "output_type": "display_data"
    }
   ],
   "source": [
    "sample_handler.vizchains(\"mu\",\"lambda\")"
   ]
  },
  {
   "cell_type": "code",
   "execution_count": 8,
   "metadata": {
    "scrolled": true
   },
   "outputs": [
    {
     "data": {
      "image/png": "[encoded data removed]",
      "text/plain": [
       "<Figure size 432x288 with 1 Axes>"
      ]
     },
     "metadata": {
      "needs_background": "light"
     },
     "output_type": "display_data"
    }
   ],
   "source": [
    "sample_handler.autocorr(\"mu\")"
   ]
  },
  {
   "cell_type": "code",
   "execution_count": 9,
   "metadata": {},
   "outputs": [
    {
     "name": "stdout",
     "output_type": "stream",
     "text": [
      "Evidence of poor mixing.  Not all PSRF values under 1.05 \n",
      " maximum PSRF: mu at 2.29004558472094.\n"
     ]
    }
   ],
   "source": [
    "sample_handler.diagnostic()"
   ]
  },
  {
   "cell_type": "code",
   "execution_count": 10,
   "metadata": {
    "scrolled": false
   },
   "outputs": [
    {
     "data": {
      "text/plain": [
       "2.29004558472094"
      ]
     },
     "execution_count": 10,
     "metadata": {},
     "output_type": "execute_result"
    }
   ],
   "source": [
    "sample_handler.psrf(\"mu\")"
   ]
  },
  {
   "cell_type": "markdown",
   "metadata": {},
   "source": [
    "#### Visualization:"
   ]
  },
  {
   "cell_type": "code",
   "execution_count": 11,
   "metadata": {
    "scrolled": false
   },
   "outputs": [
    {
     "data": {
      "image/png": "[encoded data removed]",
      "text/plain": [
       "<Figure size 432x432 with 1 Axes>"
      ]
     },
     "metadata": {
      "needs_background": "light"
     },
     "output_type": "display_data"
    }
   ],
   "source": [
    "sample_handler.vizhist(\"mu\")"
   ]
  },
  {
   "cell_type": "code",
   "execution_count": 12,
   "metadata": {
    "scrolled": false
   },
   "outputs": [
    {
     "name": "stderr",
     "output_type": "stream",
     "text": [
      "/home/isaiah/anaconda3/envs/pyjagsBCM/lib/python3.7/site-packages/scipy/stats/stats.py:1713: FutureWarning: Using a non-tuple sequence for multidimensional indexing is deprecated; use `arr[tuple(seq)]` instead of `arr[seq]`. In the future this will be interpreted as an array index, `arr[np.array(seq)]`, which will result either in an error or a different result.\n",
      "  return np.add.reduce(sorted[indexer] * weights, axis=axis) / sumval\n"
     ]
    },
    {
     "data": {
      "image/png": "[encoded data removed]",
      "text/plain": [
       "<Figure size 432x432 with 3 Axes>"
      ]
     },
     "metadata": {
      "needs_background": "light"
     },
     "output_type": "display_data"
    }
   ],
   "source": [
    "sample_handler.vizjoint(\"mu\",\"lambda\")"
   ]
  },
  {
   "cell_type": "code",
   "execution_count": 13,
   "metadata": {
    "scrolled": true
   },
   "outputs": [
    {
     "data": {
      "image/png": "[encoded data removed]",
      "text/plain": [
       "<Figure size 360x360 with 1 Axes>"
      ]
     },
     "metadata": {
      "needs_background": "light"
     },
     "output_type": "display_data"
    }
   ],
   "source": [
    "sample_handler.vizkde(\"mu\", range=(0,10))"
   ]
  },
  {
   "cell_type": "markdown",
   "metadata": {},
   "source": [
    "### More advanced usage\n",
    "\n",
    "#### Advanced model specification"
   ]
  },
  {
   "cell_type": "markdown",
   "metadata": {},
   "source": [
    "The data we want to pass our model will not always be easy to type inline.\n",
    "\n",
    "We may wish to import it from an external file, or we may want to manipulate it before sending it to `pyjags`. In that case, we'll perform any desired operations in Python, before calling `ModelHandler.set_data` to pass it into our model handler.\n",
    "\n",
    "Ultimately, all that matters is that `pyjags` gets a number or an array of numbers for any data variables the model is expecting."
   ]
  },
  {
   "cell_type": "code",
   "execution_count": 14,
   "metadata": {
    "scrolled": false
   },
   "outputs": [
    {
     "name": "stdout",
     "output_type": "stream",
     "text": [
      "adapting: iterations 1500 of 1500, elapsed 0:00:00, remaining 0:00:00\n",
      "sampling: iterations 3000 of 3000, elapsed 0:00:00, remaining 0:00:00\n"
     ]
    }
   ],
   "source": [
    "# More complex data:\n",
    "model_spec_string = \"\"\"\n",
    "model:\n",
    "MyModel.txt #\n",
    "\n",
    "settings:\n",
    "chains = 3\n",
    "samples = 1000\n",
    "thinning = 0\n",
    "burnin = 500\n",
    "\n",
    "data:\n",
    "# data will be passed in using ModelHandler.set_data method.\n",
    "\n",
    "sample:\n",
    "mu\n",
    "lambda\n",
    "\"\"\"\n",
    "\n",
    "\n",
    "\n",
    "#load in data\n",
    "with open(\"example_data.csv\", \"r\") as example_data:\n",
    "    #format data however needed\n",
    "    data_array = [int(i.rstrip()) for i in example_data]\n",
    "\n",
    "#derive model variables from the data\n",
    "observationCount = len(data_array)\n",
    "\n",
    "\n",
    "#create our model handler object\n",
    "model_specification = ModelHandler(model_spec_string)\n",
    "\n",
    "# pass the manipulated data to the model handler\n",
    "model_specification.set_data(\"testScores\", data_array)\n",
    "model_specification.set_data(\"observationCount\", observationCount)\n",
    "\n",
    "# Code for sampling data.\n",
    "pyjags_model = pyjags.Model(**model_specification.get_model_args())\n",
    "sampled_data = pyjags_model.sample(**model_specification.get_sample_args())\n",
    "sample_handler = SampleHandler(sampled_data)"
   ]
  },
  {
   "cell_type": "markdown",
   "metadata": {},
   "source": [
    "Note: this time, we set our model by referencing a .txt file. We can make sure we gave it the correct file like so:"
   ]
  },
  {
   "cell_type": "code",
   "execution_count": 15,
   "metadata": {
    "scrolled": false
   },
   "outputs": [
    {
     "name": "stdout",
     "output_type": "stream",
     "text": [
      "# Sample Model\n",
      "model{\n",
      "  for (i in 1:observationCount){ \n",
      "    testScores[i] ~ dnorm(mu, lambda)\n",
      "  }\n",
      "  mu ~ dunif(0,10)\n",
      "  lambda ~ dgamma(.001,.001)\n",
      "}\n",
      "\n"
     ]
    }
   ],
   "source": [
    "print(model_specification.model)"
   ]
  },
  {
   "cell_type": "markdown",
   "metadata": {},
   "source": [
    "#### Missing and censored data\n",
    "\n",
    "Censored/missing data must be set as NaN values. This can be done using `float('nan')` or `numpy.nan`.\n",
    "\n",
    "Alternatively, data can be passed as a `numpy` array with the censored/missing values masked.\n",
    "\n",
    "This will typically be easier to do using the `ModelHandler.set_data` method, rather than inside the model specification string."
   ]
  },
  {
   "cell_type": "markdown",
   "metadata": {},
   "source": [
    "#### Advanced data vizualization:\n",
    "\n",
    "The `SampleHandler` doesn't provide every visualization you may want to perform. However, it  still provides access to all of the raw sample data, so you can use any Python plotting package you wish to display the data.\n",
    "\n",
    "Here's a basic example, using `matplotlib`, where we'll plot every sample value, and overlay the data we passed the model across the center."
   ]
  },
  {
   "cell_type": "code",
   "execution_count": 16,
   "metadata": {
    "scrolled": false
   },
   "outputs": [
    {
     "data": {
      "image/png": "[encoded data removed]",
      "text/plain": [
       "<Figure size 432x288 with 1 Axes>"
      ]
     },
     "metadata": {
      "needs_background": "light"
     },
     "output_type": "display_data"
    }
   ],
   "source": [
    "# Import the packages we'll need to do our visualization\n",
    "import matplotlib.pyplot as plt\n",
    "import numpy as np\n",
    "\n",
    "# Access the samples via the SampleHandler's samples dictionary\n",
    "x = sample_handler.samples['mu']\n",
    "y = sample_handler.samples['lambda']\n",
    "\n",
    "plt.xlabel('Mu values')\n",
    "plt.ylabel('Lambda values')\n",
    "plt.title('An example of a custom plot')\n",
    "plt.scatter(x, y, marker='x')\n",
    "\n",
    "# Access the input data via the ModelHandler' data dictionary\n",
    "input_data = model_specification.data['testScores']\n",
    "plt.scatter(input_data, [.2 for i in input_data], marker='o', color='r');\n"
   ]
  }
 ],
 "metadata": {
  "kernelspec": {
   "display_name": "pyjagsBCM",
   "language": "python",
   "name": "pyjagsbcm"
  },
  "language_info": {
   "codemirror_mode": {
    "name": "ipython",
    "version": 3
   },
   "file_extension": ".py",
   "mimetype": "text/x-python",
   "name": "python",
   "nbconvert_exporter": "python",
   "pygments_lexer": "ipython3",
   "version": "3.7.0"
  }
 },
 "nbformat": 4,
 "nbformat_minor": 2
}
