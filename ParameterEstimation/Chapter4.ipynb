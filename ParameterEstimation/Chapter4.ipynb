{
 "cells": [
  {
   "cell_type": "markdown",
   "metadata": {},
   "source": [
    "# Chapter 4 - Inferences with Gaussians"
   ]
  },
  {
   "cell_type": "code",
   "execution_count": 1,
   "metadata": {
    "scrolled": true
   },
   "outputs": [],
   "source": [
    "import pyjags\n",
    "from pjbcmassistant import model_handler\n",
    "from pjbcmassistant import sample_handler\n"
   ]
  },
  {
   "cell_type": "markdown",
   "metadata": {},
   "source": [
    "## 4.1 - Inferring a mean and standard deviation"
   ]
  },
  {
   "cell_type": "code",
   "execution_count": 2,
   "metadata": {
    "scrolled": false
   },
   "outputs": [
    {
     "name": "stdout",
     "output_type": "stream",
     "text": [
      "adapting: iterations 3000 of 3000, elapsed 0:00:00, remaining 0:00:00\n",
      "sampling: iterations 3000 of 3000, elapsed 0:00:00, remaining 0:00:00\n"
     ]
    }
   ],
   "source": [
    "spec = \"\"\"\n",
    "model:\n",
    "Gaussian.txt\n",
    "\n",
    "settings:\n",
    "chains = 3\n",
    "samples = 1000\n",
    "thinning = 0\n",
    "burnin = 1000\n",
    "\n",
    "data:\n",
    "x = [1.1, 1.9, 2.3, 1.8]\n",
    "n = len(x) \n",
    "\n",
    "sample:\n",
    "mu\n",
    "sigma\n",
    "\n",
    "\"\"\"\n",
    "\n",
    "modelbuddy = model_handler(spec)\n",
    "\n",
    "model = pyjags.Model(**modelbuddy.definition())\n",
    "samples = model.sample(**modelbuddy.sample_rules())\n",
    "\n",
    "samplebuddy = sample_handler(samples)"
   ]
  },
  {
   "cell_type": "code",
   "execution_count": 3,
   "metadata": {
    "scrolled": false
   },
   "outputs": [
    {
     "data": {
      "text/html": [
       "<div>\n",
       "<style scoped>\n",
       "    .dataframe tbody tr th:only-of-type {\n",
       "        vertical-align: middle;\n",
       "    }\n",
       "\n",
       "    .dataframe tbody tr th {\n",
       "        vertical-align: top;\n",
       "    }\n",
       "\n",
       "    .dataframe thead th {\n",
       "        text-align: right;\n",
       "    }\n",
       "</style>\n",
       "<table border=\"1\" class=\"dataframe\">\n",
       "  <thead>\n",
       "    <tr style=\"text-align: right;\">\n",
       "      <th></th>\n",
       "      <th>mean</th>\n",
       "      <th>std dev</th>\n",
       "      <th>median</th>\n",
       "      <th>mode</th>\n",
       "      <th>HPD</th>\n",
       "      <th>95CI</th>\n",
       "    </tr>\n",
       "  </thead>\n",
       "  <tbody>\n",
       "    <tr>\n",
       "      <th>mu</th>\n",
       "      <td>1.806481</td>\n",
       "      <td>0.614671</td>\n",
       "      <td>1.788435</td>\n",
       "      <td>-2.418700</td>\n",
       "      <td>[-0.252, 2.945]</td>\n",
       "      <td>[0.707, 3.005]</td>\n",
       "    </tr>\n",
       "    <tr>\n",
       "      <th>sigma</th>\n",
       "      <td>0.981085</td>\n",
       "      <td>0.840711</td>\n",
       "      <td>0.725024</td>\n",
       "      <td>3.043786</td>\n",
       "      <td>[0.224, 4.233]</td>\n",
       "      <td>[0.316, 3.674]</td>\n",
       "    </tr>\n",
       "  </tbody>\n",
       "</table>\n",
       "</div>"
      ],
      "text/plain": [
       "           mean   std dev    median      mode              HPD            95CI\n",
       "mu     1.806481  0.614671  1.788435 -2.418700  [-0.252, 2.945]  [0.707, 3.005]\n",
       "sigma  0.981085  0.840711  0.725024  3.043786   [0.224, 4.233]  [0.316, 3.674]"
      ]
     },
     "execution_count": 3,
     "metadata": {},
     "output_type": "execute_result"
    }
   ],
   "source": [
    "samplebuddy.summary()"
   ]
  },
  {
   "cell_type": "code",
   "execution_count": 4,
   "metadata": {
    "scrolled": false
   },
   "outputs": [
    {
     "name": "stderr",
     "output_type": "stream",
     "text": [
      "/home/isaiah/anaconda3/envs/pyjagsBCM/lib/python3.7/site-packages/scipy/stats/stats.py:1713: FutureWarning: Using a non-tuple sequence for multidimensional indexing is deprecated; use `arr[tuple(seq)]` instead of `arr[seq]`. In the future this will be interpreted as an array index, `arr[np.array(seq)]`, which will result either in an error or a different result.\n",
      "  return np.add.reduce(sorted[indexer] * weights, axis=axis) / sumval\n"
     ]
    },
    {
     "data": {
      "image/png": "[encoded data removed]",
      "text/plain": [
       "<Figure size 432x432 with 3 Axes>"
      ]
     },
     "metadata": {
      "needs_background": "light"
     },
     "output_type": "display_data"
    }
   ],
   "source": [
    "samplebuddy.vizjoint('mu','sigma')"
   ]
  },
  {
   "cell_type": "markdown",
   "metadata": {},
   "source": [
    "## 4.2 - The Seven Scientists"
   ]
  },
  {
   "cell_type": "code",
   "execution_count": 5,
   "metadata": {
    "scrolled": true
   },
   "outputs": [
    {
     "name": "stdout",
     "output_type": "stream",
     "text": [
      "sampling: iterations 3000 of 3000, elapsed 0:00:00, remaining 0:00:00\n"
     ]
    }
   ],
   "source": [
    "spec = \"\"\"\n",
    "model:\n",
    "SevenScientists.txt\n",
    "\n",
    "settings:\n",
    "chains = 3\n",
    "samples = 1000\n",
    "thinning = 0\n",
    "burnin = 1000\n",
    "\n",
    "data:\n",
    "x = [-27.020,3.570,8.191,9.898,9.603,9.945,10.056]\n",
    "n = len(x)\n",
    "\n",
    "sample:\n",
    "mu\n",
    "sigma\n",
    "\n",
    "\"\"\"\n",
    "\n",
    "modelbuddy = model_handler(spec)\n",
    "\n",
    "model = pyjags.Model(**modelbuddy.definition())\n",
    "samples = model.sample(**modelbuddy.sample_rules())\n",
    "\n",
    "samplebuddy = sample_handler(samples)"
   ]
  },
  {
   "cell_type": "code",
   "execution_count": 6,
   "metadata": {
    "scrolled": true
   },
   "outputs": [
    {
     "data": {
      "text/html": [
       "<div>\n",
       "<style scoped>\n",
       "    .dataframe tbody tr th:only-of-type {\n",
       "        vertical-align: middle;\n",
       "    }\n",
       "\n",
       "    .dataframe tbody tr th {\n",
       "        vertical-align: top;\n",
       "    }\n",
       "\n",
       "    .dataframe thead th {\n",
       "        text-align: right;\n",
       "    }\n",
       "</style>\n",
       "<table border=\"1\" class=\"dataframe\">\n",
       "  <thead>\n",
       "    <tr style=\"text-align: right;\">\n",
       "      <th></th>\n",
       "      <th>mean</th>\n",
       "      <th>std dev</th>\n",
       "      <th>median</th>\n",
       "      <th>mode</th>\n",
       "      <th>HPD</th>\n",
       "      <th>95CI</th>\n",
       "    </tr>\n",
       "  </thead>\n",
       "  <tbody>\n",
       "    <tr>\n",
       "      <th>mu</th>\n",
       "      <td>9.886952</td>\n",
       "      <td>0.434111</td>\n",
       "      <td>9.925179</td>\n",
       "      <td>-7.858077</td>\n",
       "      <td>[9.548, 10.118]</td>\n",
       "      <td>[9.552, 10.103]</td>\n",
       "    </tr>\n",
       "    <tr>\n",
       "      <th>sigma_0</th>\n",
       "      <td>292.816348</td>\n",
       "      <td>2878.287608</td>\n",
       "      <td>54.835799</td>\n",
       "      <td>10366.392478</td>\n",
       "      <td>[8.854, 663.014]</td>\n",
       "      <td>[15.983, 1158.824]</td>\n",
       "    </tr>\n",
       "    <tr>\n",
       "      <th>sigma_1</th>\n",
       "      <td>49.612032</td>\n",
       "      <td>375.077443</td>\n",
       "      <td>9.452419</td>\n",
       "      <td>1496.537089</td>\n",
       "      <td>[1.785, 112.508]</td>\n",
       "      <td>[2.771, 259.176]</td>\n",
       "    </tr>\n",
       "    <tr>\n",
       "      <th>sigma_2</th>\n",
       "      <td>9.034791</td>\n",
       "      <td>47.807675</td>\n",
       "      <td>2.476210</td>\n",
       "      <td>255.898282</td>\n",
       "      <td>[0.051, 26.583]</td>\n",
       "      <td>[0.747, 52.811]</td>\n",
       "    </tr>\n",
       "    <tr>\n",
       "      <th>sigma_3</th>\n",
       "      <td>1.106279</td>\n",
       "      <td>17.413740</td>\n",
       "      <td>0.149521</td>\n",
       "      <td>40.319290</td>\n",
       "      <td>[0.015, 2.702]</td>\n",
       "      <td>[0.028, 4.184]</td>\n",
       "    </tr>\n",
       "    <tr>\n",
       "      <th>sigma_4</th>\n",
       "      <td>2.118839</td>\n",
       "      <td>24.494800</td>\n",
       "      <td>0.459017</td>\n",
       "      <td>101.427275</td>\n",
       "      <td>[0.016, 5.981]</td>\n",
       "      <td>[0.054, 9.7]</td>\n",
       "    </tr>\n",
       "    <tr>\n",
       "      <th>sigma_5</th>\n",
       "      <td>2.320891</td>\n",
       "      <td>87.645418</td>\n",
       "      <td>0.136990</td>\n",
       "      <td>119.893218</td>\n",
       "      <td>[0.014, 4.809]</td>\n",
       "      <td>[0.027, 3.973]</td>\n",
       "    </tr>\n",
       "    <tr>\n",
       "      <th>sigma_6</th>\n",
       "      <td>1.553695</td>\n",
       "      <td>18.860936</td>\n",
       "      <td>0.218432</td>\n",
       "      <td>69.613328</td>\n",
       "      <td>[0.014, 3.726]</td>\n",
       "      <td>[0.035, 7.197]</td>\n",
       "    </tr>\n",
       "  </tbody>\n",
       "</table>\n",
       "</div>"
      ],
      "text/plain": [
       "               mean      std dev     median          mode               HPD  \\\n",
       "mu         9.886952     0.434111   9.925179     -7.858077   [9.548, 10.118]   \n",
       "sigma_0  292.816348  2878.287608  54.835799  10366.392478  [8.854, 663.014]   \n",
       "sigma_1   49.612032   375.077443   9.452419   1496.537089  [1.785, 112.508]   \n",
       "sigma_2    9.034791    47.807675   2.476210    255.898282   [0.051, 26.583]   \n",
       "sigma_3    1.106279    17.413740   0.149521     40.319290    [0.015, 2.702]   \n",
       "sigma_4    2.118839    24.494800   0.459017    101.427275    [0.016, 5.981]   \n",
       "sigma_5    2.320891    87.645418   0.136990    119.893218    [0.014, 4.809]   \n",
       "sigma_6    1.553695    18.860936   0.218432     69.613328    [0.014, 3.726]   \n",
       "\n",
       "                       95CI  \n",
       "mu          [9.552, 10.103]  \n",
       "sigma_0  [15.983, 1158.824]  \n",
       "sigma_1    [2.771, 259.176]  \n",
       "sigma_2     [0.747, 52.811]  \n",
       "sigma_3      [0.028, 4.184]  \n",
       "sigma_4        [0.054, 9.7]  \n",
       "sigma_5      [0.027, 3.973]  \n",
       "sigma_6      [0.035, 7.197]  "
      ]
     },
     "execution_count": 6,
     "metadata": {},
     "output_type": "execute_result"
    }
   ],
   "source": [
    "samplebuddy.summary()"
   ]
  },
  {
   "cell_type": "markdown",
   "metadata": {},
   "source": [
    "## 4.3 - Repeated measurement of IQ"
   ]
  },
  {
   "cell_type": "code",
   "execution_count": 7,
   "metadata": {
    "scrolled": false
   },
   "outputs": [
    {
     "name": "stdout",
     "output_type": "stream",
     "text": [
      "adapting: iterations 3000 of 3000, elapsed 0:00:00, remaining 0:00:00\n",
      "sampling: iterations 300000 of 300000, elapsed 0:00:02, remaining 0:00:00\n"
     ]
    }
   ],
   "source": [
    "spec = \"\"\"\n",
    "model:\n",
    "IQ.txt\n",
    "\n",
    "settings:\n",
    "chains = 3\n",
    "samples = 100000\n",
    "thinning = 0\n",
    "burnin = 1000\n",
    "\n",
    "data:\n",
    "x = [[90,95,100],[105,110,115],[150,155,160]]\n",
    "n, m = np.shape(x)\n",
    "\n",
    "# this is an ugly way to do this, because we're \"calling\" a\n",
    "# module (numpy) that we haven't actually imported... I'm sure there's\n",
    "# a smart alternative, but I won't dwell on it just yet.\n",
    "\n",
    "sample:\n",
    "mu\n",
    "sigma\n",
    "\n",
    "\"\"\"\n",
    "\n",
    "modelbuddy = model_handler(spec)\n",
    "\n",
    "# modelbuddy.data['x'] = [[90,95,100],[105,110,115],[150,155,160]]\n",
    "\n",
    "model = pyjags.Model(**modelbuddy.definition())\n",
    "samples = model.sample(**modelbuddy.sample_rules())\n",
    "\n",
    "samplebuddy = sample_handler(samples)"
   ]
  },
  {
   "cell_type": "code",
   "execution_count": 8,
   "metadata": {
    "scrolled": false
   },
   "outputs": [
    {
     "data": {
      "text/html": [
       "<div>\n",
       "<style scoped>\n",
       "    .dataframe tbody tr th:only-of-type {\n",
       "        vertical-align: middle;\n",
       "    }\n",
       "\n",
       "    .dataframe tbody tr th {\n",
       "        vertical-align: top;\n",
       "    }\n",
       "\n",
       "    .dataframe thead th {\n",
       "        text-align: right;\n",
       "    }\n",
       "</style>\n",
       "<table border=\"1\" class=\"dataframe\">\n",
       "  <thead>\n",
       "    <tr style=\"text-align: right;\">\n",
       "      <th></th>\n",
       "      <th>mean</th>\n",
       "      <th>std dev</th>\n",
       "      <th>median</th>\n",
       "      <th>mode</th>\n",
       "      <th>HPD</th>\n",
       "      <th>95CI</th>\n",
       "    </tr>\n",
       "  </thead>\n",
       "  <tbody>\n",
       "    <tr>\n",
       "      <th>mu_0</th>\n",
       "      <td>94.996151</td>\n",
       "      <td>4.078984</td>\n",
       "      <td>94.999499</td>\n",
       "      <td>52.987433</td>\n",
       "      <td>[86.879, 103.279]</td>\n",
       "      <td>[86.854, 103.168]</td>\n",
       "    </tr>\n",
       "    <tr>\n",
       "      <th>mu_1</th>\n",
       "      <td>109.973078</td>\n",
       "      <td>4.094289</td>\n",
       "      <td>109.984557</td>\n",
       "      <td>62.092250</td>\n",
       "      <td>[101.554, 118.174]</td>\n",
       "      <td>[101.731, 118.073]</td>\n",
       "    </tr>\n",
       "    <tr>\n",
       "      <th>mu_2</th>\n",
       "      <td>155.002790</td>\n",
       "      <td>4.083260</td>\n",
       "      <td>155.004239</td>\n",
       "      <td>112.381824</td>\n",
       "      <td>[146.696, 163.146]</td>\n",
       "      <td>[146.873, 163.17]</td>\n",
       "    </tr>\n",
       "    <tr>\n",
       "      <th>sigma</th>\n",
       "      <td>6.523134</td>\n",
       "      <td>2.709232</td>\n",
       "      <td>5.881324</td>\n",
       "      <td>37.998952</td>\n",
       "      <td>[2.943, 11.742]</td>\n",
       "      <td>[3.428, 13.445]</td>\n",
       "    </tr>\n",
       "  </tbody>\n",
       "</table>\n",
       "</div>"
      ],
      "text/plain": [
       "             mean   std dev      median        mode                 HPD  \\\n",
       "mu_0    94.996151  4.078984   94.999499   52.987433   [86.879, 103.279]   \n",
       "mu_1   109.973078  4.094289  109.984557   62.092250  [101.554, 118.174]   \n",
       "mu_2   155.002790  4.083260  155.004239  112.381824  [146.696, 163.146]   \n",
       "sigma    6.523134  2.709232    5.881324   37.998952     [2.943, 11.742]   \n",
       "\n",
       "                     95CI  \n",
       "mu_0    [86.854, 103.168]  \n",
       "mu_1   [101.731, 118.073]  \n",
       "mu_2    [146.873, 163.17]  \n",
       "sigma     [3.428, 13.445]  "
      ]
     },
     "execution_count": 8,
     "metadata": {},
     "output_type": "execute_result"
    }
   ],
   "source": [
    "samplebuddy.summary()"
   ]
  }
 ],
 "metadata": {
  "kernelspec": {
   "display_name": "pyjagsBCM",
   "language": "python",
   "name": "pyjagsbcm"
  },
  "language_info": {
   "codemirror_mode": {
    "name": "ipython",
    "version": 3
   },
   "file_extension": ".py",
   "mimetype": "text/x-python",
   "name": "python",
   "nbconvert_exporter": "python",
   "pygments_lexer": "ipython3",
   "version": "3.7.0"
  }
 },
 "nbformat": 4,
 "nbformat_minor": 2
}
