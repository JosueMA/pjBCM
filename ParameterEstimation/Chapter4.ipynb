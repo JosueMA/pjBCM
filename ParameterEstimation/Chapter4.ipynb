{
 "cells": [
  {
   "cell_type": "markdown",
   "metadata": {},
   "source": [
    "# Chapter 4 - Inferences with Gaussians"
   ]
  },
  {
   "cell_type": "code",
   "execution_count": 1,
   "metadata": {
    "scrolled": true
   },
   "outputs": [],
   "source": [
    "import pyjags\n",
    "from pjbcmassistant import model_handler\n",
    "from pjbcmassistant import sample_handler\n"
   ]
  },
  {
   "cell_type": "markdown",
   "metadata": {},
   "source": [
    "## 4.1 - Inferring a mean and standard deviation"
   ]
  },
  {
   "cell_type": "code",
   "execution_count": 2,
   "metadata": {
    "scrolled": true
   },
   "outputs": [
    {
     "name": "stdout",
     "output_type": "stream",
     "text": [
      "adapting: iterations 3000 of 3000, elapsed 0:00:00, remaining 0:00:00\n",
      "sampling: iterations 3000 of 3000, elapsed 0:00:00, remaining 0:00:00\n"
     ]
    }
   ],
   "source": [
    "spec = \"\"\"\n",
    "model:\n",
    "Gaussian.txt\n",
    "\n",
    "settings:\n",
    "chains = 3\n",
    "samples = 1000\n",
    "thinning = 0\n",
    "burnin = 1000\n",
    "\n",
    "data:\n",
    "x = [1.1, 1.9, 2.3, 1.8]\n",
    "n = len(x) \n",
    "\n",
    "sample:\n",
    "mu\n",
    "lambda\n",
    "sigma\n",
    "\n",
    "\"\"\"\n",
    "\n",
    "modelbuddy = model_handler(spec)\n",
    "\n",
    "model = pyjags.Model(**modelbuddy.definition())\n",
    "samples = model.sample(**modelbuddy.sample_rules())\n",
    "\n",
    "samplebuddy = sample_handler(samples)"
   ]
  },
  {
   "cell_type": "code",
   "execution_count": 3,
   "metadata": {
    "scrolled": false
   },
   "outputs": [
    {
     "data": {
      "text/html": [
       "<div>\n",
       "<style scoped>\n",
       "    .dataframe tbody tr th:only-of-type {\n",
       "        vertical-align: middle;\n",
       "    }\n",
       "\n",
       "    .dataframe tbody tr th {\n",
       "        vertical-align: top;\n",
       "    }\n",
       "\n",
       "    .dataframe thead th {\n",
       "        text-align: right;\n",
       "    }\n",
       "</style>\n",
       "<table border=\"1\" class=\"dataframe\">\n",
       "  <thead>\n",
       "    <tr style=\"text-align: right;\">\n",
       "      <th></th>\n",
       "      <th>mean</th>\n",
       "      <th>std dev</th>\n",
       "      <th>median</th>\n",
       "      <th>mode</th>\n",
       "      <th>HPD</th>\n",
       "      <th>95CI</th>\n",
       "    </tr>\n",
       "  </thead>\n",
       "  <tbody>\n",
       "    <tr>\n",
       "      <th>lambda</th>\n",
       "      <td>2.720301</td>\n",
       "      <td>2.718919</td>\n",
       "      <td>1.935255</td>\n",
       "      <td>11.537691</td>\n",
       "      <td>[0.01, 10.05]</td>\n",
       "      <td>[0.052, 10.028]</td>\n",
       "    </tr>\n",
       "    <tr>\n",
       "      <th>mu</th>\n",
       "      <td>1.792179</td>\n",
       "      <td>0.732432</td>\n",
       "      <td>1.780352</td>\n",
       "      <td>-4.592215</td>\n",
       "      <td>[-0.675, 3.1]</td>\n",
       "      <td>[0.412, 3.096]</td>\n",
       "    </tr>\n",
       "    <tr>\n",
       "      <th>sigma</th>\n",
       "      <td>1.054169</td>\n",
       "      <td>1.069213</td>\n",
       "      <td>0.718838</td>\n",
       "      <td>5.893258</td>\n",
       "      <td>[0.201, 8.083]</td>\n",
       "      <td>[0.316, 4.376]</td>\n",
       "    </tr>\n",
       "  </tbody>\n",
       "</table>\n",
       "</div>"
      ],
      "text/plain": [
       "            mean   std dev    median       mode             HPD  \\\n",
       "lambda  2.720301  2.718919  1.935255  11.537691   [0.01, 10.05]   \n",
       "mu      1.792179  0.732432  1.780352  -4.592215   [-0.675, 3.1]   \n",
       "sigma   1.054169  1.069213  0.718838   5.893258  [0.201, 8.083]   \n",
       "\n",
       "                   95CI  \n",
       "lambda  [0.052, 10.028]  \n",
       "mu       [0.412, 3.096]  \n",
       "sigma    [0.316, 4.376]  "
      ]
     },
     "execution_count": 3,
     "metadata": {},
     "output_type": "execute_result"
    }
   ],
   "source": [
    "samplebuddy.summary()"
   ]
  },
  {
   "cell_type": "code",
   "execution_count": 4,
   "metadata": {},
   "outputs": [
    {
     "name": "stdout",
     "output_type": "stream",
     "text": [
      "all PSRF values < 1.05 | maximum PSRF: sigma at 1.0045342053461797.\n"
     ]
    },
    {
     "data": {
      "image/png": "[encoded data removed]",
      "text/plain": [
       "<Figure size 432x288 with 1 Axes>"
      ]
     },
     "metadata": {
      "needs_background": "light"
     },
     "output_type": "display_data"
    }
   ],
   "source": [
    "samplebuddy.diagnostic()\n",
    "samplebuddy.autocorr('mu')"
   ]
  },
  {
   "cell_type": "code",
   "execution_count": 5,
   "metadata": {
    "scrolled": false
   },
   "outputs": [
    {
     "name": "stderr",
     "output_type": "stream",
     "text": [
      "/home/isaiah/anaconda3/envs/pyjagsBCM/lib/python3.7/site-packages/scipy/stats/stats.py:1713: FutureWarning: Using a non-tuple sequence for multidimensional indexing is deprecated; use `arr[tuple(seq)]` instead of `arr[seq]`. In the future this will be interpreted as an array index, `arr[np.array(seq)]`, which will result either in an error or a different result.\n",
      "  return np.add.reduce(sorted[indexer] * weights, axis=axis) / sumval\n"
     ]
    },
    {
     "data": {
      "image/png": "[encoded data removed]",
      "text/plain": [
       "<Figure size 432x432 with 3 Axes>"
      ]
     },
     "metadata": {
      "needs_background": "light"
     },
     "output_type": "display_data"
    }
   ],
   "source": [
    "samplebuddy.vizjoint('mu','sigma')"
   ]
  },
  {
   "cell_type": "markdown",
   "metadata": {},
   "source": [
    "## 4.2 - The Seven Scientists"
   ]
  },
  {
   "cell_type": "code",
   "execution_count": 6,
   "metadata": {
    "scrolled": true
   },
   "outputs": [
    {
     "name": "stdout",
     "output_type": "stream",
     "text": [
      "sampling: iterations 3000 of 3000, elapsed 0:00:00, remaining 0:00:00\n"
     ]
    }
   ],
   "source": [
    "spec = \"\"\"\n",
    "model:\n",
    "SevenScientists.txt\n",
    "\n",
    "settings:\n",
    "chains = 3\n",
    "samples = 1000\n",
    "thinning = 0\n",
    "burnin = 1000\n",
    "\n",
    "data:\n",
    "x = [-27.020,3.570,8.191,9.898,9.603,9.945,10.056]\n",
    "n = len(x)\n",
    "\n",
    "sample:\n",
    "mu\n",
    "sigma\n",
    "\n",
    "\"\"\"\n",
    "\n",
    "modelbuddy = model_handler(spec)\n",
    "\n",
    "model = pyjags.Model(**modelbuddy.definition())\n",
    "samples = model.sample(**modelbuddy.sample_rules())\n",
    "\n",
    "samplebuddy = sample_handler(samples)"
   ]
  },
  {
   "cell_type": "code",
   "execution_count": 7,
   "metadata": {
    "scrolled": false
   },
   "outputs": [
    {
     "data": {
      "text/html": [
       "<div>\n",
       "<style scoped>\n",
       "    .dataframe tbody tr th:only-of-type {\n",
       "        vertical-align: middle;\n",
       "    }\n",
       "\n",
       "    .dataframe tbody tr th {\n",
       "        vertical-align: top;\n",
       "    }\n",
       "\n",
       "    .dataframe thead th {\n",
       "        text-align: right;\n",
       "    }\n",
       "</style>\n",
       "<table border=\"1\" class=\"dataframe\">\n",
       "  <thead>\n",
       "    <tr style=\"text-align: right;\">\n",
       "      <th></th>\n",
       "      <th>mean</th>\n",
       "      <th>std dev</th>\n",
       "      <th>median</th>\n",
       "      <th>mode</th>\n",
       "      <th>HPD</th>\n",
       "      <th>95CI</th>\n",
       "    </tr>\n",
       "  </thead>\n",
       "  <tbody>\n",
       "    <tr>\n",
       "      <th>mu</th>\n",
       "      <td>9.898707</td>\n",
       "      <td>0.281663</td>\n",
       "      <td>9.929477</td>\n",
       "      <td>3.684758</td>\n",
       "      <td>[9.528, 10.121]</td>\n",
       "      <td>[9.562, 10.107]</td>\n",
       "    </tr>\n",
       "    <tr>\n",
       "      <th>sigma_0</th>\n",
       "      <td>226.169314</td>\n",
       "      <td>1524.700995</td>\n",
       "      <td>55.914139</td>\n",
       "      <td>6526.297453</td>\n",
       "      <td>[10.65, 696.508]</td>\n",
       "      <td>[16.554, 1269.385]</td>\n",
       "    </tr>\n",
       "    <tr>\n",
       "      <th>sigma_1</th>\n",
       "      <td>34.296943</td>\n",
       "      <td>197.332334</td>\n",
       "      <td>9.631905</td>\n",
       "      <td>833.188020</td>\n",
       "      <td>[0.045, 159.429]</td>\n",
       "      <td>[2.803, 178.163]</td>\n",
       "    </tr>\n",
       "    <tr>\n",
       "      <th>sigma_2</th>\n",
       "      <td>14.395234</td>\n",
       "      <td>141.548459</td>\n",
       "      <td>2.400183</td>\n",
       "      <td>393.584710</td>\n",
       "      <td>[0.041, 32.45]</td>\n",
       "      <td>[0.729, 57.447]</td>\n",
       "    </tr>\n",
       "    <tr>\n",
       "      <th>sigma_3</th>\n",
       "      <td>1.070085</td>\n",
       "      <td>13.309051</td>\n",
       "      <td>0.137115</td>\n",
       "      <td>31.124839</td>\n",
       "      <td>[0.015, 2.278]</td>\n",
       "      <td>[0.027, 4.087]</td>\n",
       "    </tr>\n",
       "    <tr>\n",
       "      <th>sigma_4</th>\n",
       "      <td>3.008156</td>\n",
       "      <td>45.650599</td>\n",
       "      <td>0.478447</td>\n",
       "      <td>162.858254</td>\n",
       "      <td>[0.023, 5.77]</td>\n",
       "      <td>[0.089, 10.073]</td>\n",
       "    </tr>\n",
       "    <tr>\n",
       "      <th>sigma_5</th>\n",
       "      <td>0.704389</td>\n",
       "      <td>5.014603</td>\n",
       "      <td>0.128074</td>\n",
       "      <td>28.197558</td>\n",
       "      <td>[0.013, 1.763]</td>\n",
       "      <td>[0.026, 3.765]</td>\n",
       "    </tr>\n",
       "    <tr>\n",
       "      <th>sigma_6</th>\n",
       "      <td>2.209354</td>\n",
       "      <td>38.263475</td>\n",
       "      <td>0.210925</td>\n",
       "      <td>71.510585</td>\n",
       "      <td>[0.015, 3.192]</td>\n",
       "      <td>[0.035, 5.255]</td>\n",
       "    </tr>\n",
       "  </tbody>\n",
       "</table>\n",
       "</div>"
      ],
      "text/plain": [
       "               mean      std dev     median         mode               HPD  \\\n",
       "mu         9.898707     0.281663   9.929477     3.684758   [9.528, 10.121]   \n",
       "sigma_0  226.169314  1524.700995  55.914139  6526.297453  [10.65, 696.508]   \n",
       "sigma_1   34.296943   197.332334   9.631905   833.188020  [0.045, 159.429]   \n",
       "sigma_2   14.395234   141.548459   2.400183   393.584710    [0.041, 32.45]   \n",
       "sigma_3    1.070085    13.309051   0.137115    31.124839    [0.015, 2.278]   \n",
       "sigma_4    3.008156    45.650599   0.478447   162.858254     [0.023, 5.77]   \n",
       "sigma_5    0.704389     5.014603   0.128074    28.197558    [0.013, 1.763]   \n",
       "sigma_6    2.209354    38.263475   0.210925    71.510585    [0.015, 3.192]   \n",
       "\n",
       "                       95CI  \n",
       "mu          [9.562, 10.107]  \n",
       "sigma_0  [16.554, 1269.385]  \n",
       "sigma_1    [2.803, 178.163]  \n",
       "sigma_2     [0.729, 57.447]  \n",
       "sigma_3      [0.027, 4.087]  \n",
       "sigma_4     [0.089, 10.073]  \n",
       "sigma_5      [0.026, 3.765]  \n",
       "sigma_6      [0.035, 5.255]  "
      ]
     },
     "execution_count": 7,
     "metadata": {},
     "output_type": "execute_result"
    }
   ],
   "source": [
    "samplebuddy.summary()"
   ]
  },
  {
   "cell_type": "code",
   "execution_count": 8,
   "metadata": {},
   "outputs": [
    {
     "name": "stdout",
     "output_type": "stream",
     "text": [
      "all PSRF values < 1.05 | maximum PSRF: mu at 1.0023258021070984.\n"
     ]
    },
    {
     "data": {
      "image/png": "[encoded data removed]",
      "text/plain": [
       "<Figure size 432x288 with 1 Axes>"
      ]
     },
     "metadata": {
      "needs_background": "light"
     },
     "output_type": "display_data"
    }
   ],
   "source": [
    "samplebuddy.diagnostic()\n",
    "samplebuddy.autocorr('mu')"
   ]
  },
  {
   "cell_type": "markdown",
   "metadata": {},
   "source": [
    "## 4.3 - Repeated measurement of IQ"
   ]
  },
  {
   "cell_type": "code",
   "execution_count": 15,
   "metadata": {
    "scrolled": false
   },
   "outputs": [
    {
     "name": "stdout",
     "output_type": "stream",
     "text": [
      "adapting: iterations 3000 of 3000, elapsed 0:00:00, remaining 0:00:00\n",
      "sampling: iterations 3000 of 3000, elapsed 0:00:00, remaining 0:00:00\n"
     ]
    }
   ],
   "source": [
    "spec = \"\"\"\n",
    "model:\n",
    "IQ.txt\n",
    "\n",
    "settings:\n",
    "chains = 3\n",
    "samples = 1000\n",
    "thinning = 0\n",
    "burnin = 1000\n",
    "\n",
    "data:\n",
    "x = [[90,95,100],[105,110,115],[150,155,160]]\n",
    "n, m = np.shape(x)\n",
    "\n",
    "# this is an ugly way to do this, because we're \"calling\" a\n",
    "# module (numpy) that we haven't actually imported... I'm sure there's\n",
    "# a smart alternative, but I won't dwell on it just yet.\n",
    "\n",
    "sample:\n",
    "mu\n",
    "sigma\n",
    "\n",
    "\"\"\"\n",
    "\n",
    "modelbuddy = model_handler(spec)\n",
    "\n",
    "# modelbuddy.data['x'] = [[90,95,100],[105,110,115],[150,155,160]]\n",
    "\n",
    "model = pyjags.Model(**modelbuddy.definition())\n",
    "samples = model.sample(**modelbuddy.sample_rules())\n",
    "\n",
    "samplebuddy = sample_handler(samples)"
   ]
  },
  {
   "cell_type": "code",
   "execution_count": 16,
   "metadata": {
    "scrolled": false
   },
   "outputs": [
    {
     "data": {
      "text/html": [
       "<div>\n",
       "<style scoped>\n",
       "    .dataframe tbody tr th:only-of-type {\n",
       "        vertical-align: middle;\n",
       "    }\n",
       "\n",
       "    .dataframe tbody tr th {\n",
       "        vertical-align: top;\n",
       "    }\n",
       "\n",
       "    .dataframe thead th {\n",
       "        text-align: right;\n",
       "    }\n",
       "</style>\n",
       "<table border=\"1\" class=\"dataframe\">\n",
       "  <thead>\n",
       "    <tr style=\"text-align: right;\">\n",
       "      <th></th>\n",
       "      <th>mean</th>\n",
       "      <th>std dev</th>\n",
       "      <th>median</th>\n",
       "      <th>mode</th>\n",
       "      <th>HPD</th>\n",
       "      <th>95CI</th>\n",
       "    </tr>\n",
       "  </thead>\n",
       "  <tbody>\n",
       "    <tr>\n",
       "      <th>mu_0</th>\n",
       "      <td>94.914836</td>\n",
       "      <td>4.016343</td>\n",
       "      <td>95.014853</td>\n",
       "      <td>73.914689</td>\n",
       "      <td>[78.45, 105.543]</td>\n",
       "      <td>[86.754, 103.145]</td>\n",
       "    </tr>\n",
       "    <tr>\n",
       "      <th>mu_1</th>\n",
       "      <td>109.879894</td>\n",
       "      <td>3.975299</td>\n",
       "      <td>109.862878</td>\n",
       "      <td>87.818811</td>\n",
       "      <td>[98.911, 118.957]</td>\n",
       "      <td>[101.89, 117.689]</td>\n",
       "    </tr>\n",
       "    <tr>\n",
       "      <th>mu_2</th>\n",
       "      <td>154.788913</td>\n",
       "      <td>3.989842</td>\n",
       "      <td>154.917222</td>\n",
       "      <td>126.725662</td>\n",
       "      <td>[143.233, 163.605]</td>\n",
       "      <td>[146.582, 162.873]</td>\n",
       "    </tr>\n",
       "    <tr>\n",
       "      <th>sigma</th>\n",
       "      <td>6.398184</td>\n",
       "      <td>2.485741</td>\n",
       "      <td>5.827816</td>\n",
       "      <td>15.246855</td>\n",
       "      <td>[2.743, 14.101]</td>\n",
       "      <td>[3.322, 12.839]</td>\n",
       "    </tr>\n",
       "  </tbody>\n",
       "</table>\n",
       "</div>"
      ],
      "text/plain": [
       "             mean   std dev      median        mode                 HPD  \\\n",
       "mu_0    94.914836  4.016343   95.014853   73.914689    [78.45, 105.543]   \n",
       "mu_1   109.879894  3.975299  109.862878   87.818811   [98.911, 118.957]   \n",
       "mu_2   154.788913  3.989842  154.917222  126.725662  [143.233, 163.605]   \n",
       "sigma    6.398184  2.485741    5.827816   15.246855     [2.743, 14.101]   \n",
       "\n",
       "                     95CI  \n",
       "mu_0    [86.754, 103.145]  \n",
       "mu_1    [101.89, 117.689]  \n",
       "mu_2   [146.582, 162.873]  \n",
       "sigma     [3.322, 12.839]  "
      ]
     },
     "execution_count": 16,
     "metadata": {},
     "output_type": "execute_result"
    }
   ],
   "source": [
    "samplebuddy.summary()"
   ]
  },
  {
   "cell_type": "code",
   "execution_count": 17,
   "metadata": {
    "scrolled": false
   },
   "outputs": [
    {
     "name": "stdout",
     "output_type": "stream",
     "text": [
      "all PSRF values < 1.05 | maximum PSRF: sigma at 1.0029985063228624.\n"
     ]
    },
    {
     "data": {
      "image/png": "[encoded data removed]",
      "text/plain": [
       "<Figure size 432x288 with 1 Axes>"
      ]
     },
     "metadata": {
      "needs_background": "light"
     },
     "output_type": "display_data"
    }
   ],
   "source": [
    "samplebuddy.diagnostic()\n",
    "samplebuddy.autocorr('mu_1')"
   ]
  }
 ],
 "metadata": {
  "kernelspec": {
   "display_name": "pyjagsBCM",
   "language": "python",
   "name": "pyjagsbcm"
  },
  "language_info": {
   "codemirror_mode": {
    "name": "ipython",
    "version": 3
   },
   "file_extension": ".py",
   "mimetype": "text/x-python",
   "name": "python",
   "nbconvert_exporter": "python",
   "pygments_lexer": "ipython3",
   "version": "3.7.0"
  }
 },
 "nbformat": 4,
 "nbformat_minor": 2
}
