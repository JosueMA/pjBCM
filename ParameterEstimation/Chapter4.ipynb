{
 "cells": [
  {
   "cell_type": "markdown",
   "metadata": {},
   "source": [
    "# Chapter 4 - Inferences with Gaussians"
   ]
  },
  {
   "cell_type": "code",
   "execution_count": 1,
   "metadata": {
    "scrolled": true
   },
   "outputs": [],
   "source": [
    "import pyjags\n",
    "from pjbcmassistant import model_handler\n",
    "from pjbcmassistant import sample_handler\n"
   ]
  },
  {
   "cell_type": "markdown",
   "metadata": {},
   "source": [
    "## 4.1 - Inferring a mean and standard deviation"
   ]
  },
  {
   "cell_type": "markdown",
   "metadata": {},
   "source": [
    "note: we'd like data, eg, n, to be able to do its calculating...\n",
    "and we'd like for comments to be comments, even in the model spec.\n",
    "this should be doable with another split, and the use of eval?"
   ]
  },
  {
   "cell_type": "code",
   "execution_count": 11,
   "metadata": {
    "scrolled": false
   },
   "outputs": [
    {
     "name": "stdout",
     "output_type": "stream",
     "text": [
      "adapting: iterations 3000 of 3000, elapsed 0:00:00, remaining 0:00:00\n",
      "sampling: iterations 3000 of 3000, elapsed 0:00:00, remaining 0:00:00\n"
     ]
    }
   ],
   "source": [
    "spec = \"\"\"\n",
    "model:\n",
    "Gaussian.txt\n",
    "\n",
    "settings:\n",
    "chains = 3\n",
    "samples = 1000\n",
    "thinning = 0\n",
    "burnin = 1000\n",
    "\n",
    "data:\n",
    "x = [1.1, 1.9, 2.3, 1.8]\n",
    "n = len(x) \n",
    "\n",
    "sample:\n",
    "mu\n",
    "sigma\n",
    "\n",
    "\"\"\"\n",
    "\n",
    "modelbuddy = model_handler(spec)\n",
    "\n",
    "model = pyjags.Model(**modelbuddy.definition())\n",
    "samples = model.sample(**modelbuddy.sample_rules())\n",
    "\n",
    "samplebuddy = sample_handler(samples)"
   ]
  },
  {
   "cell_type": "code",
   "execution_count": 12,
   "metadata": {
    "scrolled": false
   },
   "outputs": [
    {
     "data": {
      "text/html": [
       "<div>\n",
       "<style scoped>\n",
       "    .dataframe tbody tr th:only-of-type {\n",
       "        vertical-align: middle;\n",
       "    }\n",
       "\n",
       "    .dataframe tbody tr th {\n",
       "        vertical-align: top;\n",
       "    }\n",
       "\n",
       "    .dataframe thead th {\n",
       "        text-align: right;\n",
       "    }\n",
       "</style>\n",
       "<table border=\"1\" class=\"dataframe\">\n",
       "  <thead>\n",
       "    <tr style=\"text-align: right;\">\n",
       "      <th></th>\n",
       "      <th>mean</th>\n",
       "      <th>std dev</th>\n",
       "      <th>median</th>\n",
       "      <th>mode</th>\n",
       "      <th>HPD</th>\n",
       "      <th>95CI</th>\n",
       "    </tr>\n",
       "    <tr>\n",
       "      <th>var</th>\n",
       "      <th></th>\n",
       "      <th></th>\n",
       "      <th></th>\n",
       "      <th></th>\n",
       "      <th></th>\n",
       "      <th></th>\n",
       "    </tr>\n",
       "  </thead>\n",
       "  <tbody>\n",
       "    <tr>\n",
       "      <th>mu</th>\n",
       "      <td>1.779181</td>\n",
       "      <td>0.850969</td>\n",
       "      <td>1.767259</td>\n",
       "      <td>-7.22393</td>\n",
       "      <td>[-0.452, 3.252]</td>\n",
       "      <td>[0.312, 3.159]</td>\n",
       "    </tr>\n",
       "    <tr>\n",
       "      <th>sigma</th>\n",
       "      <td>1.117714</td>\n",
       "      <td>1.205400</td>\n",
       "      <td>0.763462</td>\n",
       "      <td>3.72075</td>\n",
       "      <td>[0.207, 9.834]</td>\n",
       "      <td>[0.318, 5.412]</td>\n",
       "    </tr>\n",
       "  </tbody>\n",
       "</table>\n",
       "</div>"
      ],
      "text/plain": [
       "           mean   std dev    median     mode              HPD            95CI\n",
       "var                                                                          \n",
       "mu     1.779181  0.850969  1.767259 -7.22393  [-0.452, 3.252]  [0.312, 3.159]\n",
       "sigma  1.117714  1.205400  0.763462  3.72075   [0.207, 9.834]  [0.318, 5.412]"
      ]
     },
     "execution_count": 12,
     "metadata": {},
     "output_type": "execute_result"
    }
   ],
   "source": [
    "\n",
    "samplebuddy.summary()"
   ]
  },
  {
   "cell_type": "code",
   "execution_count": 14,
   "metadata": {
    "scrolled": false
   },
   "outputs": [
    {
     "data": {
      "image/png": "[encoded data removed]",
      "text/plain": [
       "<Figure size 432x432 with 3 Axes>"
      ]
     },
     "metadata": {
      "needs_background": "light"
     },
     "output_type": "display_data"
    }
   ],
   "source": [
    "samplebuddy.vizjoint('mu','sigma')"
   ]
  },
  {
   "cell_type": "markdown",
   "metadata": {},
   "source": [
    "## 4.2 - The Seven Scientists"
   ]
  },
  {
   "cell_type": "code",
   "execution_count": 6,
   "metadata": {
    "scrolled": true
   },
   "outputs": [
    {
     "name": "stdout",
     "output_type": "stream",
     "text": [
      "sampling: iterations 3000 of 3000, elapsed 0:00:00, remaining 0:00:00\n"
     ]
    }
   ],
   "source": [
    "spec = \"\"\"\n",
    "model:\n",
    "SevenScientists.txt\n",
    "\n",
    "settings:\n",
    "chains = 3\n",
    "samples = 1000\n",
    "thinning = 0\n",
    "burnin = 1000\n",
    "\n",
    "data:\n",
    "x = [-27.020,3.570,8.191,9.898,9.603,9.945,10.056]\n",
    "n = len(x)\n",
    "\n",
    "sample:\n",
    "mu\n",
    "sigma\n",
    "\n",
    "\"\"\"\n",
    "\n",
    "modelbuddy = model_handler(spec)\n",
    "\n",
    "model = pyjags.Model(**modelbuddy.definition())\n",
    "samples = model.sample(**modelbuddy.sample_rules())\n",
    "\n",
    "samplebuddy = sample_handler(samples)"
   ]
  },
  {
   "cell_type": "code",
   "execution_count": 7,
   "metadata": {
    "scrolled": true
   },
   "outputs": [
    {
     "data": {
      "text/html": [
       "<div>\n",
       "<style scoped>\n",
       "    .dataframe tbody tr th:only-of-type {\n",
       "        vertical-align: middle;\n",
       "    }\n",
       "\n",
       "    .dataframe tbody tr th {\n",
       "        vertical-align: top;\n",
       "    }\n",
       "\n",
       "    .dataframe thead th {\n",
       "        text-align: right;\n",
       "    }\n",
       "</style>\n",
       "<table border=\"1\" class=\"dataframe\">\n",
       "  <thead>\n",
       "    <tr style=\"text-align: right;\">\n",
       "      <th></th>\n",
       "      <th>mean</th>\n",
       "      <th>std dev</th>\n",
       "      <th>median</th>\n",
       "      <th>mode</th>\n",
       "      <th>HPD</th>\n",
       "      <th>95CI</th>\n",
       "    </tr>\n",
       "    <tr>\n",
       "      <th>var</th>\n",
       "      <th></th>\n",
       "      <th></th>\n",
       "      <th></th>\n",
       "      <th></th>\n",
       "      <th></th>\n",
       "      <th></th>\n",
       "    </tr>\n",
       "  </thead>\n",
       "  <tbody>\n",
       "    <tr>\n",
       "      <th>mu</th>\n",
       "      <td>9.897379</td>\n",
       "      <td>0.235190</td>\n",
       "      <td>9.925684</td>\n",
       "      <td>4.414960</td>\n",
       "      <td>[9.447, 10.186]</td>\n",
       "      <td>[9.541, 10.106]</td>\n",
       "    </tr>\n",
       "    <tr>\n",
       "      <th>sigma_0</th>\n",
       "      <td>251.432692</td>\n",
       "      <td>2451.694514</td>\n",
       "      <td>53.840679</td>\n",
       "      <td>7632.363486</td>\n",
       "      <td>[10.207, 596.527]</td>\n",
       "      <td>[16.316, 1081.216]</td>\n",
       "    </tr>\n",
       "    <tr>\n",
       "      <th>sigma_1</th>\n",
       "      <td>47.441921</td>\n",
       "      <td>426.170094</td>\n",
       "      <td>9.070517</td>\n",
       "      <td>1774.985472</td>\n",
       "      <td>[1.661, 94.183]</td>\n",
       "      <td>[2.841, 182.186]</td>\n",
       "    </tr>\n",
       "    <tr>\n",
       "      <th>sigma_2</th>\n",
       "      <td>13.815934</td>\n",
       "      <td>145.434081</td>\n",
       "      <td>2.598551</td>\n",
       "      <td>419.787373</td>\n",
       "      <td>[0.053, 33.632]</td>\n",
       "      <td>[0.757, 59.882]</td>\n",
       "    </tr>\n",
       "    <tr>\n",
       "      <th>sigma_3</th>\n",
       "      <td>0.664816</td>\n",
       "      <td>3.950307</td>\n",
       "      <td>0.142145</td>\n",
       "      <td>11.741143</td>\n",
       "      <td>[0.014, 1.866]</td>\n",
       "      <td>[0.026, 3.721]</td>\n",
       "    </tr>\n",
       "    <tr>\n",
       "      <th>sigma_4</th>\n",
       "      <td>3.385903</td>\n",
       "      <td>94.789165</td>\n",
       "      <td>0.442250</td>\n",
       "      <td>284.828905</td>\n",
       "      <td>[0.012, 5.19]</td>\n",
       "      <td>[0.076, 9.562]</td>\n",
       "    </tr>\n",
       "    <tr>\n",
       "      <th>sigma_5</th>\n",
       "      <td>1.653610</td>\n",
       "      <td>43.053367</td>\n",
       "      <td>0.137870</td>\n",
       "      <td>103.635133</td>\n",
       "      <td>[0.015, 2.318]</td>\n",
       "      <td>[0.026, 3.806]</td>\n",
       "    </tr>\n",
       "    <tr>\n",
       "      <th>sigma_6</th>\n",
       "      <td>1.324623</td>\n",
       "      <td>12.567410</td>\n",
       "      <td>0.214366</td>\n",
       "      <td>57.712908</td>\n",
       "      <td>[0.014, 3.658]</td>\n",
       "      <td>[0.035, 7.161]</td>\n",
       "    </tr>\n",
       "  </tbody>\n",
       "</table>\n",
       "</div>"
      ],
      "text/plain": [
       "               mean      std dev     median         mode                HPD  \\\n",
       "var                                                                           \n",
       "mu         9.897379     0.235190   9.925684     4.414960    [9.447, 10.186]   \n",
       "sigma_0  251.432692  2451.694514  53.840679  7632.363486  [10.207, 596.527]   \n",
       "sigma_1   47.441921   426.170094   9.070517  1774.985472    [1.661, 94.183]   \n",
       "sigma_2   13.815934   145.434081   2.598551   419.787373    [0.053, 33.632]   \n",
       "sigma_3    0.664816     3.950307   0.142145    11.741143     [0.014, 1.866]   \n",
       "sigma_4    3.385903    94.789165   0.442250   284.828905      [0.012, 5.19]   \n",
       "sigma_5    1.653610    43.053367   0.137870   103.635133     [0.015, 2.318]   \n",
       "sigma_6    1.324623    12.567410   0.214366    57.712908     [0.014, 3.658]   \n",
       "\n",
       "                       95CI  \n",
       "var                          \n",
       "mu          [9.541, 10.106]  \n",
       "sigma_0  [16.316, 1081.216]  \n",
       "sigma_1    [2.841, 182.186]  \n",
       "sigma_2     [0.757, 59.882]  \n",
       "sigma_3      [0.026, 3.721]  \n",
       "sigma_4      [0.076, 9.562]  \n",
       "sigma_5      [0.026, 3.806]  \n",
       "sigma_6      [0.035, 7.161]  "
      ]
     },
     "execution_count": 7,
     "metadata": {},
     "output_type": "execute_result"
    }
   ],
   "source": [
    "samplebuddy.summary()"
   ]
  },
  {
   "cell_type": "markdown",
   "metadata": {},
   "source": [
    "## 4.3 - Repeated measurement of IQ"
   ]
  },
  {
   "cell_type": "code",
   "execution_count": 8,
   "metadata": {
    "scrolled": false
   },
   "outputs": [
    {
     "name": "stdout",
     "output_type": "stream",
     "text": [
      "adapting: iterations 3000 of 3000, elapsed 0:00:00, remaining 0:00:00\n",
      "sampling: iterations 300000 of 300000, elapsed 0:00:02, remaining 0:00:00\n"
     ]
    }
   ],
   "source": [
    "spec = \"\"\"\n",
    "model:\n",
    "IQ.txt\n",
    "\n",
    "settings:\n",
    "chains = 3\n",
    "samples = 100000\n",
    "thinning = 0\n",
    "burnin = 1000\n",
    "\n",
    "data:\n",
    "x = [[90,95,100],[105,110,115],[150,155,160]]\n",
    "n, m = np.shape(x)\n",
    "\n",
    "# this is an ugly way to do this, because we're \"calling\" a\n",
    "# module (numpy) that we haven't actually imported... I'm sure there's\n",
    "# a smart alternative, but I won't dwell on it just yet.\n",
    "\n",
    "sample:\n",
    "mu\n",
    "sigma\n",
    "\n",
    "\"\"\"\n",
    "\n",
    "modelbuddy = model_handler(spec)\n",
    "\n",
    "# modelbuddy.data['x'] = [[90,95,100],[105,110,115],[150,155,160]]\n",
    "\n",
    "model = pyjags.Model(**modelbuddy.definition())\n",
    "samples = model.sample(**modelbuddy.sample_rules())\n",
    "\n",
    "samplebuddy = sample_handler(samples)"
   ]
  },
  {
   "cell_type": "code",
   "execution_count": 9,
   "metadata": {
    "scrolled": false
   },
   "outputs": [
    {
     "data": {
      "text/html": [
       "<div>\n",
       "<style scoped>\n",
       "    .dataframe tbody tr th:only-of-type {\n",
       "        vertical-align: middle;\n",
       "    }\n",
       "\n",
       "    .dataframe tbody tr th {\n",
       "        vertical-align: top;\n",
       "    }\n",
       "\n",
       "    .dataframe thead th {\n",
       "        text-align: right;\n",
       "    }\n",
       "</style>\n",
       "<table border=\"1\" class=\"dataframe\">\n",
       "  <thead>\n",
       "    <tr style=\"text-align: right;\">\n",
       "      <th></th>\n",
       "      <th>mean</th>\n",
       "      <th>std dev</th>\n",
       "      <th>median</th>\n",
       "      <th>mode</th>\n",
       "      <th>HPD</th>\n",
       "      <th>95CI</th>\n",
       "    </tr>\n",
       "    <tr>\n",
       "      <th>var</th>\n",
       "      <th></th>\n",
       "      <th></th>\n",
       "      <th></th>\n",
       "      <th></th>\n",
       "      <th></th>\n",
       "      <th></th>\n",
       "    </tr>\n",
       "  </thead>\n",
       "  <tbody>\n",
       "    <tr>\n",
       "      <th>mu_0</th>\n",
       "      <td>94.999007</td>\n",
       "      <td>4.103052</td>\n",
       "      <td>95.006339</td>\n",
       "      <td>40.385535</td>\n",
       "      <td>[86.963, 103.42]</td>\n",
       "      <td>[86.836, 103.158]</td>\n",
       "    </tr>\n",
       "    <tr>\n",
       "      <th>mu_1</th>\n",
       "      <td>110.001555</td>\n",
       "      <td>4.066466</td>\n",
       "      <td>109.993373</td>\n",
       "      <td>69.135026</td>\n",
       "      <td>[101.817, 118.205]</td>\n",
       "      <td>[101.88, 118.155]</td>\n",
       "    </tr>\n",
       "    <tr>\n",
       "      <th>mu_2</th>\n",
       "      <td>155.002677</td>\n",
       "      <td>4.092071</td>\n",
       "      <td>154.994018</td>\n",
       "      <td>88.005765</td>\n",
       "      <td>[146.705, 163.244]</td>\n",
       "      <td>[146.876, 163.166]</td>\n",
       "    </tr>\n",
       "    <tr>\n",
       "      <th>sigma</th>\n",
       "      <td>6.518103</td>\n",
       "      <td>2.749245</td>\n",
       "      <td>5.873998</td>\n",
       "      <td>41.110213</td>\n",
       "      <td>[2.879, 11.634]</td>\n",
       "      <td>[3.41, 13.392]</td>\n",
       "    </tr>\n",
       "  </tbody>\n",
       "</table>\n",
       "</div>"
      ],
      "text/plain": [
       "             mean   std dev      median       mode                 HPD  \\\n",
       "var                                                                      \n",
       "mu_0    94.999007  4.103052   95.006339  40.385535    [86.963, 103.42]   \n",
       "mu_1   110.001555  4.066466  109.993373  69.135026  [101.817, 118.205]   \n",
       "mu_2   155.002677  4.092071  154.994018  88.005765  [146.705, 163.244]   \n",
       "sigma    6.518103  2.749245    5.873998  41.110213     [2.879, 11.634]   \n",
       "\n",
       "                     95CI  \n",
       "var                        \n",
       "mu_0    [86.836, 103.158]  \n",
       "mu_1    [101.88, 118.155]  \n",
       "mu_2   [146.876, 163.166]  \n",
       "sigma      [3.41, 13.392]  "
      ]
     },
     "execution_count": 9,
     "metadata": {},
     "output_type": "execute_result"
    }
   ],
   "source": [
    "samplebuddy.summary()"
   ]
  }
 ],
 "metadata": {
  "kernelspec": {
   "display_name": "pyjagsBCM",
   "language": "python",
   "name": "pyjagsbcm"
  },
  "language_info": {
   "codemirror_mode": {
    "name": "ipython",
    "version": 3
   },
   "file_extension": ".py",
   "mimetype": "text/x-python",
   "name": "python",
   "nbconvert_exporter": "python",
   "pygments_lexer": "ipython3",
   "version": "3.7.0"
  }
 },
 "nbformat": 4,
 "nbformat_minor": 2
}
