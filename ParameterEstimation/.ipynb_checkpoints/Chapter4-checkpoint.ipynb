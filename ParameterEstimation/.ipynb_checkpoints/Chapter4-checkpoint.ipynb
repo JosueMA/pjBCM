{
 "cells": [
  {
   "cell_type": "markdown",
   "metadata": {},
   "source": [
    "# Chapter 4 - Inferences with Gaussians"
   ]
  },
  {
   "cell_type": "code",
   "execution_count": 1,
   "metadata": {
    "scrolled": true
   },
   "outputs": [],
   "source": [
    "import pyjags\n",
    "from pjbcmassistant import model_handler\n",
    "from pjbcmassistant import sample_handler\n"
   ]
  },
  {
   "cell_type": "markdown",
   "metadata": {},
   "source": [
    "## 4.1 - Inferring a mean and standard deviation"
   ]
  },
  {
   "cell_type": "code",
   "execution_count": 2,
   "metadata": {
    "scrolled": true
   },
   "outputs": [
    {
     "name": "stdout",
     "output_type": "stream",
     "text": [
      "adapting: iterations 3000 of 3000, elapsed 0:00:00, remaining 0:00:00\n",
      "sampling: iterations 3000 of 3000, elapsed 0:00:00, remaining 0:00:00\n"
     ]
    }
   ],
   "source": [
    "spec = \"\"\"\n",
    "model:\n",
    "Gaussian.txt\n",
    "\n",
    "settings:\n",
    "chains = 3\n",
    "samples = 1000\n",
    "thinning = 0\n",
    "burnin = 1000\n",
    "\n",
    "data:\n",
    "x = [1.1, 1.9, 2.3, 1.8]\n",
    "n = len(x) \n",
    "\n",
    "sample:\n",
    "mu\n",
    "lambda\n",
    "sigma\n",
    "\n",
    "\"\"\"\n",
    "\n",
    "modelbuddy = model_handler(spec)\n",
    "\n",
    "model = pyjags.Model(**modelbuddy.definition())\n",
    "samples = model.sample(**modelbuddy.sample_rules())\n",
    "\n",
    "samplebuddy = sample_handler(samples)"
   ]
  },
  {
   "cell_type": "code",
   "execution_count": 3,
   "metadata": {},
   "outputs": [
    {
     "data": {
      "text/plain": [
       "'/usr/lib/x86_64-linux-gnu/JAGS/modules-4'"
      ]
     },
     "execution_count": 3,
     "metadata": {},
     "output_type": "execute_result"
    }
   ],
   "source": [
    "pyjags.get_modules_dir()"
   ]
  },
  {
   "cell_type": "code",
   "execution_count": 4,
   "metadata": {
    "scrolled": false
   },
   "outputs": [
    {
     "data": {
      "text/html": [
       "<div>\n",
       "<style scoped>\n",
       "    .dataframe tbody tr th:only-of-type {\n",
       "        vertical-align: middle;\n",
       "    }\n",
       "\n",
       "    .dataframe tbody tr th {\n",
       "        vertical-align: top;\n",
       "    }\n",
       "\n",
       "    .dataframe thead th {\n",
       "        text-align: right;\n",
       "    }\n",
       "</style>\n",
       "<table border=\"1\" class=\"dataframe\">\n",
       "  <thead>\n",
       "    <tr style=\"text-align: right;\">\n",
       "      <th></th>\n",
       "      <th>mean</th>\n",
       "      <th>std dev</th>\n",
       "      <th>median</th>\n",
       "      <th>mode</th>\n",
       "      <th>HPD</th>\n",
       "      <th>95CI</th>\n",
       "    </tr>\n",
       "  </thead>\n",
       "  <tbody>\n",
       "    <tr>\n",
       "      <th>lambda</th>\n",
       "      <td>2.816654</td>\n",
       "      <td>2.736225</td>\n",
       "      <td>2.021281</td>\n",
       "      <td>14.035487</td>\n",
       "      <td>[0.012, 11.974]</td>\n",
       "      <td>[0.077, 10.142]</td>\n",
       "    </tr>\n",
       "    <tr>\n",
       "      <th>mu</th>\n",
       "      <td>1.794843</td>\n",
       "      <td>0.757012</td>\n",
       "      <td>1.769670</td>\n",
       "      <td>-7.174039</td>\n",
       "      <td>[0.324, 3.168]</td>\n",
       "      <td>[0.659, 3.031]</td>\n",
       "    </tr>\n",
       "    <tr>\n",
       "      <th>sigma</th>\n",
       "      <td>0.994602</td>\n",
       "      <td>1.032503</td>\n",
       "      <td>0.703375</td>\n",
       "      <td>3.907012</td>\n",
       "      <td>[0.222, 3.425]</td>\n",
       "      <td>[0.314, 3.605]</td>\n",
       "    </tr>\n",
       "  </tbody>\n",
       "</table>\n",
       "</div>"
      ],
      "text/plain": [
       "            mean   std dev    median       mode              HPD  \\\n",
       "lambda  2.816654  2.736225  2.021281  14.035487  [0.012, 11.974]   \n",
       "mu      1.794843  0.757012  1.769670  -7.174039   [0.324, 3.168]   \n",
       "sigma   0.994602  1.032503  0.703375   3.907012   [0.222, 3.425]   \n",
       "\n",
       "                   95CI  \n",
       "lambda  [0.077, 10.142]  \n",
       "mu       [0.659, 3.031]  \n",
       "sigma    [0.314, 3.605]  "
      ]
     },
     "execution_count": 4,
     "metadata": {},
     "output_type": "execute_result"
    }
   ],
   "source": [
    "samplebuddy.summary()"
   ]
  },
  {
   "cell_type": "code",
   "execution_count": 5,
   "metadata": {
    "scrolled": false
   },
   "outputs": [
    {
     "name": "stderr",
     "output_type": "stream",
     "text": [
      "/home/isaiah/anaconda3/envs/pyjagsBCM/lib/python3.7/site-packages/scipy/stats/stats.py:1713: FutureWarning: Using a non-tuple sequence for multidimensional indexing is deprecated; use `arr[tuple(seq)]` instead of `arr[seq]`. In the future this will be interpreted as an array index, `arr[np.array(seq)]`, which will result either in an error or a different result.\n",
      "  return np.add.reduce(sorted[indexer] * weights, axis=axis) / sumval\n"
     ]
    },
    {
     "data": {
      "image/png": "[encoded data removed]",
      "text/plain": [
       "<Figure size 432x432 with 3 Axes>"
      ]
     },
     "metadata": {
      "needs_background": "light"
     },
     "output_type": "display_data"
    }
   ],
   "source": [
    "samplebuddy.vizjoint('mu','sigma')"
   ]
  },
  {
   "cell_type": "markdown",
   "metadata": {},
   "source": [
    "## 4.2 - The Seven Scientists"
   ]
  },
  {
   "cell_type": "code",
   "execution_count": 6,
   "metadata": {
    "scrolled": true
   },
   "outputs": [
    {
     "name": "stdout",
     "output_type": "stream",
     "text": [
      "sampling: iterations 3000 of 3000, elapsed 0:00:00, remaining 0:00:00\n"
     ]
    }
   ],
   "source": [
    "spec = \"\"\"\n",
    "model:\n",
    "SevenScientists.txt\n",
    "\n",
    "settings:\n",
    "chains = 3\n",
    "samples = 1000\n",
    "thinning = 0\n",
    "burnin = 1000\n",
    "\n",
    "data:\n",
    "x = [-27.020,3.570,8.191,9.898,9.603,9.945,10.056]\n",
    "n = len(x)\n",
    "\n",
    "sample:\n",
    "mu\n",
    "sigma\n",
    "\n",
    "\"\"\"\n",
    "\n",
    "modelbuddy = model_handler(spec)\n",
    "\n",
    "model = pyjags.Model(**modelbuddy.definition())\n",
    "samples = model.sample(**modelbuddy.sample_rules())\n",
    "\n",
    "samplebuddy = sample_handler(samples)"
   ]
  },
  {
   "cell_type": "code",
   "execution_count": 7,
   "metadata": {
    "scrolled": true
   },
   "outputs": [
    {
     "data": {
      "text/html": [
       "<div>\n",
       "<style scoped>\n",
       "    .dataframe tbody tr th:only-of-type {\n",
       "        vertical-align: middle;\n",
       "    }\n",
       "\n",
       "    .dataframe tbody tr th {\n",
       "        vertical-align: top;\n",
       "    }\n",
       "\n",
       "    .dataframe thead th {\n",
       "        text-align: right;\n",
       "    }\n",
       "</style>\n",
       "<table border=\"1\" class=\"dataframe\">\n",
       "  <thead>\n",
       "    <tr style=\"text-align: right;\">\n",
       "      <th></th>\n",
       "      <th>mean</th>\n",
       "      <th>std dev</th>\n",
       "      <th>median</th>\n",
       "      <th>mode</th>\n",
       "      <th>HPD</th>\n",
       "      <th>95CI</th>\n",
       "    </tr>\n",
       "  </thead>\n",
       "  <tbody>\n",
       "    <tr>\n",
       "      <th>mu</th>\n",
       "      <td>9.901504</td>\n",
       "      <td>0.164837</td>\n",
       "      <td>9.924335</td>\n",
       "      <td>6.833341</td>\n",
       "      <td>[9.572, 10.126]</td>\n",
       "      <td>[9.574, 10.103]</td>\n",
       "    </tr>\n",
       "    <tr>\n",
       "      <th>sigma_0</th>\n",
       "      <td>393.309661</td>\n",
       "      <td>4881.429826</td>\n",
       "      <td>54.174653</td>\n",
       "      <td>10886.206386</td>\n",
       "      <td>[11.1, 604.287]</td>\n",
       "      <td>[16.643, 1134.002]</td>\n",
       "    </tr>\n",
       "    <tr>\n",
       "      <th>sigma_1</th>\n",
       "      <td>86.861734</td>\n",
       "      <td>2384.099270</td>\n",
       "      <td>9.270985</td>\n",
       "      <td>5832.440867</td>\n",
       "      <td>[1.776, 131.346]</td>\n",
       "      <td>[2.848, 203.384]</td>\n",
       "    </tr>\n",
       "    <tr>\n",
       "      <th>sigma_2</th>\n",
       "      <td>11.251391</td>\n",
       "      <td>79.735856</td>\n",
       "      <td>2.445110</td>\n",
       "      <td>247.530786</td>\n",
       "      <td>[0.232, 38.054]</td>\n",
       "      <td>[0.727, 58.277]</td>\n",
       "    </tr>\n",
       "    <tr>\n",
       "      <th>sigma_3</th>\n",
       "      <td>1.392812</td>\n",
       "      <td>25.922512</td>\n",
       "      <td>0.134859</td>\n",
       "      <td>45.062702</td>\n",
       "      <td>[0.014, 2.016]</td>\n",
       "      <td>[0.026, 3.065]</td>\n",
       "    </tr>\n",
       "    <tr>\n",
       "      <th>sigma_4</th>\n",
       "      <td>2.034925</td>\n",
       "      <td>18.010721</td>\n",
       "      <td>0.455039</td>\n",
       "      <td>71.239717</td>\n",
       "      <td>[0.019, 5.267]</td>\n",
       "      <td>[0.064, 10.923]</td>\n",
       "    </tr>\n",
       "    <tr>\n",
       "      <th>sigma_5</th>\n",
       "      <td>0.762917</td>\n",
       "      <td>6.027112</td>\n",
       "      <td>0.130886</td>\n",
       "      <td>22.945440</td>\n",
       "      <td>[0.016, 1.885]</td>\n",
       "      <td>[0.025, 3.407]</td>\n",
       "    </tr>\n",
       "    <tr>\n",
       "      <th>sigma_6</th>\n",
       "      <td>1.683631</td>\n",
       "      <td>23.672996</td>\n",
       "      <td>0.221429</td>\n",
       "      <td>87.920305</td>\n",
       "      <td>[0.014, 3.531]</td>\n",
       "      <td>[0.035, 7.148]</td>\n",
       "    </tr>\n",
       "  </tbody>\n",
       "</table>\n",
       "</div>"
      ],
      "text/plain": [
       "               mean      std dev     median          mode               HPD  \\\n",
       "mu         9.901504     0.164837   9.924335      6.833341   [9.572, 10.126]   \n",
       "sigma_0  393.309661  4881.429826  54.174653  10886.206386   [11.1, 604.287]   \n",
       "sigma_1   86.861734  2384.099270   9.270985   5832.440867  [1.776, 131.346]   \n",
       "sigma_2   11.251391    79.735856   2.445110    247.530786   [0.232, 38.054]   \n",
       "sigma_3    1.392812    25.922512   0.134859     45.062702    [0.014, 2.016]   \n",
       "sigma_4    2.034925    18.010721   0.455039     71.239717    [0.019, 5.267]   \n",
       "sigma_5    0.762917     6.027112   0.130886     22.945440    [0.016, 1.885]   \n",
       "sigma_6    1.683631    23.672996   0.221429     87.920305    [0.014, 3.531]   \n",
       "\n",
       "                       95CI  \n",
       "mu          [9.574, 10.103]  \n",
       "sigma_0  [16.643, 1134.002]  \n",
       "sigma_1    [2.848, 203.384]  \n",
       "sigma_2     [0.727, 58.277]  \n",
       "sigma_3      [0.026, 3.065]  \n",
       "sigma_4     [0.064, 10.923]  \n",
       "sigma_5      [0.025, 3.407]  \n",
       "sigma_6      [0.035, 7.148]  "
      ]
     },
     "execution_count": 7,
     "metadata": {},
     "output_type": "execute_result"
    }
   ],
   "source": [
    "samplebuddy.summary()"
   ]
  },
  {
   "cell_type": "markdown",
   "metadata": {},
   "source": [
    "## 4.3 - Repeated measurement of IQ"
   ]
  },
  {
   "cell_type": "code",
   "execution_count": 8,
   "metadata": {
    "scrolled": false
   },
   "outputs": [
    {
     "name": "stdout",
     "output_type": "stream",
     "text": [
      "adapting: iterations 3000 of 3000, elapsed 0:00:00, remaining 0:00:00\n",
      "sampling: iterations 300000 of 300000, elapsed 0:00:02, remaining 0:00:00\n"
     ]
    }
   ],
   "source": [
    "spec = \"\"\"\n",
    "model:\n",
    "IQ.txt\n",
    "\n",
    "settings:\n",
    "chains = 3\n",
    "samples = 100000\n",
    "thinning = 0\n",
    "burnin = 1000\n",
    "\n",
    "data:\n",
    "x = [[90,95,100],[105,110,115],[150,155,160]]\n",
    "n, m = np.shape(x)\n",
    "\n",
    "# this is an ugly way to do this, because we're \"calling\" a\n",
    "# module (numpy) that we haven't actually imported... I'm sure there's\n",
    "# a smart alternative, but I won't dwell on it just yet.\n",
    "\n",
    "sample:\n",
    "mu\n",
    "sigma\n",
    "\n",
    "\"\"\"\n",
    "\n",
    "modelbuddy = model_handler(spec)\n",
    "\n",
    "# modelbuddy.data['x'] = [[90,95,100],[105,110,115],[150,155,160]]\n",
    "\n",
    "model = pyjags.Model(**modelbuddy.definition())\n",
    "samples = model.sample(**modelbuddy.sample_rules())\n",
    "\n",
    "samplebuddy = sample_handler(samples)"
   ]
  },
  {
   "cell_type": "code",
   "execution_count": 9,
   "metadata": {
    "scrolled": false
   },
   "outputs": [
    {
     "data": {
      "text/html": [
       "<div>\n",
       "<style scoped>\n",
       "    .dataframe tbody tr th:only-of-type {\n",
       "        vertical-align: middle;\n",
       "    }\n",
       "\n",
       "    .dataframe tbody tr th {\n",
       "        vertical-align: top;\n",
       "    }\n",
       "\n",
       "    .dataframe thead th {\n",
       "        text-align: right;\n",
       "    }\n",
       "</style>\n",
       "<table border=\"1\" class=\"dataframe\">\n",
       "  <thead>\n",
       "    <tr style=\"text-align: right;\">\n",
       "      <th></th>\n",
       "      <th>mean</th>\n",
       "      <th>std dev</th>\n",
       "      <th>median</th>\n",
       "      <th>mode</th>\n",
       "      <th>HPD</th>\n",
       "      <th>95CI</th>\n",
       "    </tr>\n",
       "  </thead>\n",
       "  <tbody>\n",
       "    <tr>\n",
       "      <th>mu_0</th>\n",
       "      <td>95.011257</td>\n",
       "      <td>4.087721</td>\n",
       "      <td>95.008370</td>\n",
       "      <td>45.080735</td>\n",
       "      <td>[86.924, 103.312]</td>\n",
       "      <td>[86.892, 103.144]</td>\n",
       "    </tr>\n",
       "    <tr>\n",
       "      <th>mu_1</th>\n",
       "      <td>110.008191</td>\n",
       "      <td>4.094043</td>\n",
       "      <td>110.017805</td>\n",
       "      <td>56.721924</td>\n",
       "      <td>[102.016, 118.226]</td>\n",
       "      <td>[101.875, 118.073]</td>\n",
       "    </tr>\n",
       "    <tr>\n",
       "      <th>mu_2</th>\n",
       "      <td>154.990535</td>\n",
       "      <td>4.081972</td>\n",
       "      <td>154.993325</td>\n",
       "      <td>102.792419</td>\n",
       "      <td>[146.844, 163.406]</td>\n",
       "      <td>[146.852, 163.071]</td>\n",
       "    </tr>\n",
       "    <tr>\n",
       "      <th>sigma</th>\n",
       "      <td>6.506462</td>\n",
       "      <td>2.748545</td>\n",
       "      <td>5.866542</td>\n",
       "      <td>41.323613</td>\n",
       "      <td>[2.92, 11.607]</td>\n",
       "      <td>[3.419, 13.374]</td>\n",
       "    </tr>\n",
       "  </tbody>\n",
       "</table>\n",
       "</div>"
      ],
      "text/plain": [
       "             mean   std dev      median        mode                 HPD  \\\n",
       "mu_0    95.011257  4.087721   95.008370   45.080735   [86.924, 103.312]   \n",
       "mu_1   110.008191  4.094043  110.017805   56.721924  [102.016, 118.226]   \n",
       "mu_2   154.990535  4.081972  154.993325  102.792419  [146.844, 163.406]   \n",
       "sigma    6.506462  2.748545    5.866542   41.323613      [2.92, 11.607]   \n",
       "\n",
       "                     95CI  \n",
       "mu_0    [86.892, 103.144]  \n",
       "mu_1   [101.875, 118.073]  \n",
       "mu_2   [146.852, 163.071]  \n",
       "sigma     [3.419, 13.374]  "
      ]
     },
     "execution_count": 9,
     "metadata": {},
     "output_type": "execute_result"
    }
   ],
   "source": [
    "samplebuddy.summary()"
   ]
  },
  {
   "cell_type": "code",
   "execution_count": null,
   "metadata": {},
   "outputs": [],
   "source": []
  },
  {
   "cell_type": "code",
   "execution_count": 10,
   "metadata": {
    "scrolled": false
   },
   "outputs": [
    {
     "name": "stdout",
     "output_type": "stream",
     "text": [
      "1.000017071268825\n"
     ]
    },
    {
     "data": {
      "image/png": "[encoded data removed]",
      "text/plain": [
       "<Figure size 432x288 with 1 Axes>"
      ]
     },
     "metadata": {
      "needs_background": "light"
     },
     "output_type": "display_data"
    }
   ],
   "source": [
    "samplebuddy.diag(\"mu_0\")"
   ]
  }
 ],
 "metadata": {
  "kernelspec": {
   "display_name": "pyjagsBCM",
   "language": "python",
   "name": "pyjagsbcm"
  },
  "language_info": {
   "codemirror_mode": {
    "name": "ipython",
    "version": 3
   },
   "file_extension": ".py",
   "mimetype": "text/x-python",
   "name": "python",
   "nbconvert_exporter": "python",
   "pygments_lexer": "ipython3",
   "version": "3.7.0"
  }
 },
 "nbformat": 4,
 "nbformat_minor": 2
}
