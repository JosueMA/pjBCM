{
 "cells": [
  {
   "cell_type": "markdown",
   "metadata": {},
   "source": [
    "# Chapter 4 - Inferences with Gaussians"
   ]
  },
  {
   "cell_type": "code",
   "execution_count": 1,
   "metadata": {
    "scrolled": true
   },
   "outputs": [],
   "source": [
    "import pyjags\n",
    "from pjbcmassistant import model_handler\n",
    "from pjbcmassistant import sample_handler\n"
   ]
  },
  {
   "cell_type": "markdown",
   "metadata": {},
   "source": [
    "## 4.1 - Inferring a mean and standard deviation"
   ]
  },
  {
   "cell_type": "code",
   "execution_count": 2,
   "metadata": {
    "scrolled": true
   },
   "outputs": [
    {
     "name": "stdout",
     "output_type": "stream",
     "text": [
      "adapting: iterations 3000 of 3000, elapsed 0:00:00, remaining 0:00:00\n",
      "sampling: iterations 3000 of 3000, elapsed 0:00:00, remaining 0:00:00\n"
     ]
    }
   ],
   "source": [
    "spec = \"\"\"\n",
    "model:\n",
    "Gaussian.txt\n",
    "\n",
    "settings:\n",
    "chains = 3\n",
    "samples = 1000\n",
    "thinning = 0\n",
    "burnin = 1000\n",
    "\n",
    "data:\n",
    "x = [1.1, 1.9, 2.3, 1.8]\n",
    "n = len(x) \n",
    "\n",
    "sample:\n",
    "mu\n",
    "lambda\n",
    "sigma\n",
    "\n",
    "\"\"\"\n",
    "\n",
    "modelbuddy = model_handler(spec)\n",
    "\n",
    "model = pyjags.Model(**modelbuddy.definition())\n",
    "samples = model.sample(**modelbuddy.sample_rules())\n",
    "\n",
    "samplebuddy = sample_handler(samples)"
   ]
  },
  {
   "cell_type": "code",
   "execution_count": 3,
   "metadata": {
    "scrolled": false
   },
   "outputs": [
    {
     "data": {
      "text/html": [
       "<div>\n",
       "<style scoped>\n",
       "    .dataframe tbody tr th:only-of-type {\n",
       "        vertical-align: middle;\n",
       "    }\n",
       "\n",
       "    .dataframe tbody tr th {\n",
       "        vertical-align: top;\n",
       "    }\n",
       "\n",
       "    .dataframe thead th {\n",
       "        text-align: right;\n",
       "    }\n",
       "</style>\n",
       "<table border=\"1\" class=\"dataframe\">\n",
       "  <thead>\n",
       "    <tr style=\"text-align: right;\">\n",
       "      <th></th>\n",
       "      <th>mean</th>\n",
       "      <th>std dev</th>\n",
       "      <th>median</th>\n",
       "      <th>mode</th>\n",
       "      <th>HPD</th>\n",
       "      <th>95CI</th>\n",
       "    </tr>\n",
       "  </thead>\n",
       "  <tbody>\n",
       "    <tr>\n",
       "      <th>lambda</th>\n",
       "      <td>2.533463</td>\n",
       "      <td>2.687994</td>\n",
       "      <td>1.719483</td>\n",
       "      <td>14.462543</td>\n",
       "      <td>[0.011, 10.293]</td>\n",
       "      <td>[0.063, 9.916]</td>\n",
       "    </tr>\n",
       "    <tr>\n",
       "      <th>mu</th>\n",
       "      <td>1.776506</td>\n",
       "      <td>0.753637</td>\n",
       "      <td>1.773232</td>\n",
       "      <td>-4.491137</td>\n",
       "      <td>[-0.432, 3.484]</td>\n",
       "      <td>[0.317, 3.257]</td>\n",
       "    </tr>\n",
       "    <tr>\n",
       "      <th>sigma</th>\n",
       "      <td>1.100051</td>\n",
       "      <td>1.017108</td>\n",
       "      <td>0.762607</td>\n",
       "      <td>4.205046</td>\n",
       "      <td>[0.213, 4.938]</td>\n",
       "      <td>[0.318, 3.983]</td>\n",
       "    </tr>\n",
       "  </tbody>\n",
       "</table>\n",
       "</div>"
      ],
      "text/plain": [
       "            mean   std dev    median       mode              HPD  \\\n",
       "lambda  2.533463  2.687994  1.719483  14.462543  [0.011, 10.293]   \n",
       "mu      1.776506  0.753637  1.773232  -4.491137  [-0.432, 3.484]   \n",
       "sigma   1.100051  1.017108  0.762607   4.205046   [0.213, 4.938]   \n",
       "\n",
       "                  95CI  \n",
       "lambda  [0.063, 9.916]  \n",
       "mu      [0.317, 3.257]  \n",
       "sigma   [0.318, 3.983]  "
      ]
     },
     "execution_count": 3,
     "metadata": {},
     "output_type": "execute_result"
    }
   ],
   "source": [
    "samplebuddy.summary()"
   ]
  },
  {
   "cell_type": "code",
   "execution_count": 4,
   "metadata": {},
   "outputs": [
    {
     "name": "stdout",
     "output_type": "stream",
     "text": [
      "all PSRF values < 1.05 | maximum PSRF: sigma at 1.0106699346847192.\n"
     ]
    },
    {
     "data": {
      "image/png": "[encoded data removed]",
      "text/plain": [
       "<Figure size 432x288 with 1 Axes>"
      ]
     },
     "metadata": {
      "needs_background": "light"
     },
     "output_type": "display_data"
    }
   ],
   "source": [
    "samplebuddy.diagnostic()\n",
    "samplebuddy.autocorr('mu')"
   ]
  },
  {
   "cell_type": "code",
   "execution_count": 5,
   "metadata": {
    "scrolled": false
   },
   "outputs": [
    {
     "name": "stderr",
     "output_type": "stream",
     "text": [
      "/home/isaiah/anaconda3/envs/pyjagsBCM/lib/python3.7/site-packages/scipy/stats/stats.py:1713: FutureWarning: Using a non-tuple sequence for multidimensional indexing is deprecated; use `arr[tuple(seq)]` instead of `arr[seq]`. In the future this will be interpreted as an array index, `arr[np.array(seq)]`, which will result either in an error or a different result.\n",
      "  return np.add.reduce(sorted[indexer] * weights, axis=axis) / sumval\n"
     ]
    },
    {
     "data": {
      "image/png": "[encoded data removed]",
      "text/plain": [
       "<Figure size 432x432 with 3 Axes>"
      ]
     },
     "metadata": {
      "needs_background": "light"
     },
     "output_type": "display_data"
    }
   ],
   "source": [
    "samplebuddy.vizjoint('mu','sigma')"
   ]
  },
  {
   "cell_type": "markdown",
   "metadata": {},
   "source": [
    "## 4.2 - The Seven Scientists"
   ]
  },
  {
   "cell_type": "code",
   "execution_count": 6,
   "metadata": {
    "scrolled": true
   },
   "outputs": [
    {
     "name": "stdout",
     "output_type": "stream",
     "text": [
      "sampling: iterations 3000 of 3000, elapsed 0:00:00, remaining 0:00:00\n"
     ]
    }
   ],
   "source": [
    "spec = \"\"\"\n",
    "model:\n",
    "SevenScientists.txt\n",
    "\n",
    "settings:\n",
    "chains = 3\n",
    "samples = 1000\n",
    "thinning = 0\n",
    "burnin = 1000\n",
    "\n",
    "data:\n",
    "x = [-27.020,3.570,8.191,9.898,9.603,9.945,10.056]\n",
    "n = len(x)\n",
    "\n",
    "sample:\n",
    "mu\n",
    "sigma\n",
    "\n",
    "\"\"\"\n",
    "\n",
    "modelbuddy = model_handler(spec)\n",
    "\n",
    "model = pyjags.Model(**modelbuddy.definition())\n",
    "samples = model.sample(**modelbuddy.sample_rules())\n",
    "\n",
    "samplebuddy = sample_handler(samples)"
   ]
  },
  {
   "cell_type": "code",
   "execution_count": 7,
   "metadata": {
    "scrolled": false
   },
   "outputs": [
    {
     "data": {
      "text/html": [
       "<div>\n",
       "<style scoped>\n",
       "    .dataframe tbody tr th:only-of-type {\n",
       "        vertical-align: middle;\n",
       "    }\n",
       "\n",
       "    .dataframe tbody tr th {\n",
       "        vertical-align: top;\n",
       "    }\n",
       "\n",
       "    .dataframe thead th {\n",
       "        text-align: right;\n",
       "    }\n",
       "</style>\n",
       "<table border=\"1\" class=\"dataframe\">\n",
       "  <thead>\n",
       "    <tr style=\"text-align: right;\">\n",
       "      <th></th>\n",
       "      <th>mean</th>\n",
       "      <th>std dev</th>\n",
       "      <th>median</th>\n",
       "      <th>mode</th>\n",
       "      <th>HPD</th>\n",
       "      <th>95CI</th>\n",
       "    </tr>\n",
       "  </thead>\n",
       "  <tbody>\n",
       "    <tr>\n",
       "      <th>mu</th>\n",
       "      <td>9.903574</td>\n",
       "      <td>0.253682</td>\n",
       "      <td>9.927883</td>\n",
       "      <td>4.070285</td>\n",
       "      <td>[9.559, 10.165]</td>\n",
       "      <td>[9.573, 10.112]</td>\n",
       "    </tr>\n",
       "    <tr>\n",
       "      <th>sigma_0</th>\n",
       "      <td>237.294130</td>\n",
       "      <td>2162.677086</td>\n",
       "      <td>54.818687</td>\n",
       "      <td>6962.546792</td>\n",
       "      <td>[10.079, 582.635]</td>\n",
       "      <td>[15.76, 1093.279]</td>\n",
       "    </tr>\n",
       "    <tr>\n",
       "      <th>sigma_1</th>\n",
       "      <td>37.074196</td>\n",
       "      <td>194.359461</td>\n",
       "      <td>9.342437</td>\n",
       "      <td>796.455341</td>\n",
       "      <td>[0.411, 110.21]</td>\n",
       "      <td>[2.788, 177.493]</td>\n",
       "    </tr>\n",
       "    <tr>\n",
       "      <th>sigma_2</th>\n",
       "      <td>12.544358</td>\n",
       "      <td>121.757818</td>\n",
       "      <td>2.511472</td>\n",
       "      <td>380.909505</td>\n",
       "      <td>[0.391, 27.252]</td>\n",
       "      <td>[0.754, 56.08]</td>\n",
       "    </tr>\n",
       "    <tr>\n",
       "      <th>sigma_3</th>\n",
       "      <td>1.164972</td>\n",
       "      <td>26.408313</td>\n",
       "      <td>0.140380</td>\n",
       "      <td>49.892588</td>\n",
       "      <td>[0.014, 2.864]</td>\n",
       "      <td>[0.028, 3.706]</td>\n",
       "    </tr>\n",
       "    <tr>\n",
       "      <th>sigma_4</th>\n",
       "      <td>2.834253</td>\n",
       "      <td>51.664858</td>\n",
       "      <td>0.446587</td>\n",
       "      <td>122.272775</td>\n",
       "      <td>[0.019, 5.453]</td>\n",
       "      <td>[0.07, 8.846]</td>\n",
       "    </tr>\n",
       "    <tr>\n",
       "      <th>sigma_5</th>\n",
       "      <td>0.798937</td>\n",
       "      <td>6.119722</td>\n",
       "      <td>0.126195</td>\n",
       "      <td>25.995821</td>\n",
       "      <td>[0.014, 2.516]</td>\n",
       "      <td>[0.026, 4.486]</td>\n",
       "    </tr>\n",
       "    <tr>\n",
       "      <th>sigma_6</th>\n",
       "      <td>1.226141</td>\n",
       "      <td>10.627379</td>\n",
       "      <td>0.215691</td>\n",
       "      <td>38.153976</td>\n",
       "      <td>[0.015, 3.156]</td>\n",
       "      <td>[0.035, 6.208]</td>\n",
       "    </tr>\n",
       "  </tbody>\n",
       "</table>\n",
       "</div>"
      ],
      "text/plain": [
       "               mean      std dev     median         mode                HPD  \\\n",
       "mu         9.903574     0.253682   9.927883     4.070285    [9.559, 10.165]   \n",
       "sigma_0  237.294130  2162.677086  54.818687  6962.546792  [10.079, 582.635]   \n",
       "sigma_1   37.074196   194.359461   9.342437   796.455341    [0.411, 110.21]   \n",
       "sigma_2   12.544358   121.757818   2.511472   380.909505    [0.391, 27.252]   \n",
       "sigma_3    1.164972    26.408313   0.140380    49.892588     [0.014, 2.864]   \n",
       "sigma_4    2.834253    51.664858   0.446587   122.272775     [0.019, 5.453]   \n",
       "sigma_5    0.798937     6.119722   0.126195    25.995821     [0.014, 2.516]   \n",
       "sigma_6    1.226141    10.627379   0.215691    38.153976     [0.015, 3.156]   \n",
       "\n",
       "                      95CI  \n",
       "mu         [9.573, 10.112]  \n",
       "sigma_0  [15.76, 1093.279]  \n",
       "sigma_1   [2.788, 177.493]  \n",
       "sigma_2     [0.754, 56.08]  \n",
       "sigma_3     [0.028, 3.706]  \n",
       "sigma_4      [0.07, 8.846]  \n",
       "sigma_5     [0.026, 4.486]  \n",
       "sigma_6     [0.035, 6.208]  "
      ]
     },
     "execution_count": 7,
     "metadata": {},
     "output_type": "execute_result"
    }
   ],
   "source": [
    "samplebuddy.summary()"
   ]
  },
  {
   "cell_type": "code",
   "execution_count": 8,
   "metadata": {},
   "outputs": [
    {
     "name": "stdout",
     "output_type": "stream",
     "text": [
      "all PSRF values < 1.05 | maximum PSRF: mu at 1.0050123790680927.\n"
     ]
    },
    {
     "data": {
      "image/png": "[encoded data removed]",
      "text/plain": [
       "<Figure size 432x288 with 1 Axes>"
      ]
     },
     "metadata": {
      "needs_background": "light"
     },
     "output_type": "display_data"
    }
   ],
   "source": [
    "samplebuddy.diagnostic()\n",
    "samplebuddy.autocorr('mu')"
   ]
  },
  {
   "cell_type": "markdown",
   "metadata": {},
   "source": [
    "## 4.3 - Repeated measurement of IQ"
   ]
  },
  {
   "cell_type": "code",
   "execution_count": 9,
   "metadata": {
    "scrolled": false
   },
   "outputs": [
    {
     "name": "stdout",
     "output_type": "stream",
     "text": [
      "adapting: iterations 3000 of 3000, elapsed 0:00:00, remaining 0:00:00\n",
      "sampling: iterations 3000 of 3000, elapsed 0:00:00, remaining 0:00:00\n"
     ]
    }
   ],
   "source": [
    "spec = \"\"\"\n",
    "model:\n",
    "IQ.txt\n",
    "\n",
    "settings:\n",
    "chains = 3\n",
    "samples = 1000\n",
    "thinning = 0\n",
    "burnin = 1000\n",
    "\n",
    "data:\n",
    "x = [[90,95,100],[105,110,115],[150,155,160]]\n",
    "n, m = np.shape(x)\n",
    "\n",
    "# this is an ugly way to do this, because we're \"calling\" a\n",
    "# module (numpy) that we haven't actually imported... I'm sure there's\n",
    "# a smart alternative, but I won't dwell on it just yet.\n",
    "\n",
    "sample:\n",
    "mu\n",
    "sigma\n",
    "\n",
    "\"\"\"\n",
    "\n",
    "modelbuddy = model_handler(spec)\n",
    "\n",
    "# modelbuddy.data['x'] = [[90,95,100],[105,110,115],[150,155,160]]\n",
    "\n",
    "model = pyjags.Model(**modelbuddy.definition())\n",
    "samples = model.sample(**modelbuddy.sample_rules())\n",
    "\n",
    "samplebuddy = sample_handler(samples)"
   ]
  },
  {
   "cell_type": "code",
   "execution_count": 10,
   "metadata": {
    "scrolled": false
   },
   "outputs": [
    {
     "data": {
      "text/html": [
       "<div>\n",
       "<style scoped>\n",
       "    .dataframe tbody tr th:only-of-type {\n",
       "        vertical-align: middle;\n",
       "    }\n",
       "\n",
       "    .dataframe tbody tr th {\n",
       "        vertical-align: top;\n",
       "    }\n",
       "\n",
       "    .dataframe thead th {\n",
       "        text-align: right;\n",
       "    }\n",
       "</style>\n",
       "<table border=\"1\" class=\"dataframe\">\n",
       "  <thead>\n",
       "    <tr style=\"text-align: right;\">\n",
       "      <th></th>\n",
       "      <th>mean</th>\n",
       "      <th>std dev</th>\n",
       "      <th>median</th>\n",
       "      <th>mode</th>\n",
       "      <th>HPD</th>\n",
       "      <th>95CI</th>\n",
       "    </tr>\n",
       "  </thead>\n",
       "  <tbody>\n",
       "    <tr>\n",
       "      <th>mu_0</th>\n",
       "      <td>95.039598</td>\n",
       "      <td>4.393774</td>\n",
       "      <td>95.080306</td>\n",
       "      <td>73.236811</td>\n",
       "      <td>[80.958, 108.37]</td>\n",
       "      <td>[86.165, 104.088]</td>\n",
       "    </tr>\n",
       "    <tr>\n",
       "      <th>mu_1</th>\n",
       "      <td>110.080142</td>\n",
       "      <td>4.105273</td>\n",
       "      <td>110.053117</td>\n",
       "      <td>89.753459</td>\n",
       "      <td>[97.529, 120.455]</td>\n",
       "      <td>[101.721, 118.677]</td>\n",
       "    </tr>\n",
       "    <tr>\n",
       "      <th>mu_2</th>\n",
       "      <td>154.877437</td>\n",
       "      <td>4.229356</td>\n",
       "      <td>154.975338</td>\n",
       "      <td>131.518498</td>\n",
       "      <td>[131.211, 166.653]</td>\n",
       "      <td>[145.661, 163.198]</td>\n",
       "    </tr>\n",
       "    <tr>\n",
       "      <th>sigma</th>\n",
       "      <td>6.667034</td>\n",
       "      <td>2.912667</td>\n",
       "      <td>5.919164</td>\n",
       "      <td>19.055212</td>\n",
       "      <td>[2.847, 15.592]</td>\n",
       "      <td>[3.503, 14.403]</td>\n",
       "    </tr>\n",
       "  </tbody>\n",
       "</table>\n",
       "</div>"
      ],
      "text/plain": [
       "             mean   std dev      median        mode                 HPD  \\\n",
       "mu_0    95.039598  4.393774   95.080306   73.236811    [80.958, 108.37]   \n",
       "mu_1   110.080142  4.105273  110.053117   89.753459   [97.529, 120.455]   \n",
       "mu_2   154.877437  4.229356  154.975338  131.518498  [131.211, 166.653]   \n",
       "sigma    6.667034  2.912667    5.919164   19.055212     [2.847, 15.592]   \n",
       "\n",
       "                     95CI  \n",
       "mu_0    [86.165, 104.088]  \n",
       "mu_1   [101.721, 118.677]  \n",
       "mu_2   [145.661, 163.198]  \n",
       "sigma     [3.503, 14.403]  "
      ]
     },
     "execution_count": 10,
     "metadata": {},
     "output_type": "execute_result"
    }
   ],
   "source": [
    "samplebuddy.summary()"
   ]
  },
  {
   "cell_type": "code",
   "execution_count": 11,
   "metadata": {
    "scrolled": false
   },
   "outputs": [
    {
     "name": "stdout",
     "output_type": "stream",
     "text": [
      "all PSRF values < 1.05 | maximum PSRF: sigma at 1.0019029027827269.\n"
     ]
    },
    {
     "data": {
      "image/png": "[encoded data removed]",
      "text/plain": [
       "<Figure size 432x288 with 1 Axes>"
      ]
     },
     "metadata": {
      "needs_background": "light"
     },
     "output_type": "display_data"
    }
   ],
   "source": [
    "samplebuddy.diagnostic()\n",
    "samplebuddy.autocorr('mu_1')"
   ]
  }
 ],
 "metadata": {
  "kernelspec": {
   "display_name": "pyjagsBCM",
   "language": "python",
   "name": "pyjagsbcm"
  },
  "language_info": {
   "codemirror_mode": {
    "name": "ipython",
    "version": 3
   },
   "file_extension": ".py",
   "mimetype": "text/x-python",
   "name": "python",
   "nbconvert_exporter": "python",
   "pygments_lexer": "ipython3",
   "version": "3.7.0"
  }
 },
 "nbformat": 4,
 "nbformat_minor": 2
}
