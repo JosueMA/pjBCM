{
 "cells": [
  {
   "cell_type": "markdown",
   "metadata": {},
   "source": [
    "# Chapter 4 - Inferences with Gaussians"
   ]
  },
  {
   "cell_type": "code",
   "execution_count": 1,
   "metadata": {
    "scrolled": true
   },
   "outputs": [],
   "source": [
    "import pyjags\n",
    "import os\n",
    "\n",
    "import numpy as np\n",
    "\n",
    "\n",
    "# this import assumes pjbcmassistant.py is two folders\n",
    "# above this notebook. You may need to redirect it if\n",
    "# you get a ModuleNotFoundError.\n",
    "nb_path = os.getcwd()\n",
    "parent_path = os.path.split(nb_path)[0]\n",
    "os.chdir(os.path.split(parent_path)[0])\n",
    "from pjbcmassistant import ModelHandler, SampleHandler\n",
    "os.chdir(nb_path)"
   ]
  },
  {
   "cell_type": "markdown",
   "metadata": {},
   "source": [
    "## 4.1 - Inferring a mean and standard deviation"
   ]
  },
  {
   "cell_type": "code",
   "execution_count": 2,
   "metadata": {
    "scrolled": false
   },
   "outputs": [
    {
     "name": "stdout",
     "output_type": "stream",
     "text": [
      "sampling: iterations 3000 of 3000, elapsed 0:00:00, remaining 0:00:00\n"
     ]
    }
   ],
   "source": [
    "spec_string = \"\"\"\n",
    "model:\n",
    "Gaussian.txt\n",
    "\n",
    "settings:\n",
    "chains = 3\n",
    "samples = 1000\n",
    "thinning = 0\n",
    "burnin = 0#1000\n",
    "\n",
    "data:\n",
    "x = [1.1, 1.9, 2.3, 1.8]\n",
    "n = len(x) \n",
    "\n",
    "sample:\n",
    "mu\n",
    "lambda\n",
    "sigma\n",
    "\n",
    "\"\"\"\n",
    "\n",
    "model_spec = ModelHandler(spec_string)\n",
    "\n",
    "#here, we set an inital value for our sigma variable\n",
    "model_spec.init_chain('sigma', [2,3,4])\n",
    "\n",
    "pyjags_model = pyjags.Model(**model_spec.get_model_args())\n",
    "sample_data = pyjags_model.sample(**model_spec.get_sample_args())\n",
    "\n",
    "sample_handler = SampleHandler(sample_data)"
   ]
  },
  {
   "cell_type": "code",
   "execution_count": 3,
   "metadata": {
    "scrolled": false
   },
   "outputs": [
    {
     "data": {
      "text/html": [
       "<div>\n",
       "<style scoped>\n",
       "    .dataframe tbody tr th:only-of-type {\n",
       "        vertical-align: middle;\n",
       "    }\n",
       "\n",
       "    .dataframe tbody tr th {\n",
       "        vertical-align: top;\n",
       "    }\n",
       "\n",
       "    .dataframe thead th {\n",
       "        text-align: right;\n",
       "    }\n",
       "</style>\n",
       "<table border=\"1\" class=\"dataframe\">\n",
       "  <thead>\n",
       "    <tr style=\"text-align: right;\">\n",
       "      <th></th>\n",
       "      <th>mean</th>\n",
       "      <th>std dev</th>\n",
       "      <th>median</th>\n",
       "      <th>mode</th>\n",
       "      <th>HPD</th>\n",
       "      <th>95CI</th>\n",
       "    </tr>\n",
       "  </thead>\n",
       "  <tbody>\n",
       "    <tr>\n",
       "      <th>lambda</th>\n",
       "      <td>2.617426</td>\n",
       "      <td>2.570685</td>\n",
       "      <td>1.890448</td>\n",
       "      <td>0.108252</td>\n",
       "      <td>[0.012, 7.719]</td>\n",
       "      <td>[0.067, 9.432]</td>\n",
       "    </tr>\n",
       "    <tr>\n",
       "      <th>mu</th>\n",
       "      <td>1.781671</td>\n",
       "      <td>0.769122</td>\n",
       "      <td>1.779524</td>\n",
       "      <td>1.780533</td>\n",
       "      <td>[0.416, 3.06]</td>\n",
       "      <td>[0.45, 3.2]</td>\n",
       "    </tr>\n",
       "    <tr>\n",
       "      <th>sigma</th>\n",
       "      <td>1.048835</td>\n",
       "      <td>1.027983</td>\n",
       "      <td>0.727307</td>\n",
       "      <td>0.544905</td>\n",
       "      <td>[0.24, 2.688]</td>\n",
       "      <td>[0.326, 3.855]</td>\n",
       "    </tr>\n",
       "  </tbody>\n",
       "</table>\n",
       "</div>"
      ],
      "text/plain": [
       "            mean   std dev    median      mode             HPD            95CI\n",
       "lambda  2.617426  2.570685  1.890448  0.108252  [0.012, 7.719]  [0.067, 9.432]\n",
       "mu      1.781671  0.769122  1.779524  1.780533   [0.416, 3.06]     [0.45, 3.2]\n",
       "sigma   1.048835  1.027983  0.727307  0.544905   [0.24, 2.688]  [0.326, 3.855]"
      ]
     },
     "execution_count": 3,
     "metadata": {},
     "output_type": "execute_result"
    }
   ],
   "source": [
    "sample_handler.summarize()"
   ]
  },
  {
   "cell_type": "code",
   "execution_count": 4,
   "metadata": {},
   "outputs": [
    {
     "name": "stdout",
     "output_type": "stream",
     "text": [
      "all PSRF values < 1.05 | maximum PSRF: sigma at 1.0036726035389192.\n"
     ]
    },
    {
     "data": {
      "image/png": "[encoded data removed]",
      "text/plain": [
       "<Figure size 432x288 with 1 Axes>"
      ]
     },
     "metadata": {
      "needs_background": "light"
     },
     "output_type": "display_data"
    }
   ],
   "source": [
    "sample_handler.diagnostic()\n",
    "sample_handler.autocorr('mu')"
   ]
  },
  {
   "cell_type": "code",
   "execution_count": 5,
   "metadata": {
    "scrolled": false
   },
   "outputs": [
    {
     "name": "stderr",
     "output_type": "stream",
     "text": [
      "/home/isaiah/anaconda3/envs/pyjagsBCM/lib/python3.7/site-packages/scipy/stats/stats.py:1713: FutureWarning: Using a non-tuple sequence for multidimensional indexing is deprecated; use `arr[tuple(seq)]` instead of `arr[seq]`. In the future this will be interpreted as an array index, `arr[np.array(seq)]`, which will result either in an error or a different result.\n",
      "  return np.add.reduce(sorted[indexer] * weights, axis=axis) / sumval\n"
     ]
    },
    {
     "data": {
      "image/png": "[encoded data removed]",
      "text/plain": [
       "<Figure size 432x432 with 3 Axes>"
      ]
     },
     "metadata": {
      "needs_background": "light"
     },
     "output_type": "display_data"
    }
   ],
   "source": [
    "sample_handler.vizjoint('mu','sigma')"
   ]
  },
  {
   "cell_type": "markdown",
   "metadata": {},
   "source": [
    "## 4.2 - The Seven Scientists"
   ]
  },
  {
   "cell_type": "code",
   "execution_count": 6,
   "metadata": {
    "scrolled": true
   },
   "outputs": [
    {
     "name": "stdout",
     "output_type": "stream",
     "text": [
      "sampling: iterations 3000 of 3000, elapsed 0:00:00, remaining 0:00:00\n"
     ]
    }
   ],
   "source": [
    "spec_string = \"\"\"\n",
    "model:\n",
    "SevenScientists.txt\n",
    "\n",
    "settings:\n",
    "chains = 3\n",
    "samples = 1000\n",
    "thinning = 0\n",
    "burnin = 1000\n",
    "\n",
    "data:\n",
    "x = [-27.020,3.570,8.191,9.898,9.603,9.945,10.056]\n",
    "n = len(x)\n",
    "\n",
    "sample:\n",
    "mu\n",
    "sigma\n",
    "\n",
    "\"\"\"\n",
    "\n",
    "model_spec = ModelHandler(spec_string)\n",
    "\n",
    "pyjags_model = pyjags.Model(**model_spec.get_model_args())\n",
    "sample_data = pyjags_model.sample(**model_spec.get_sample_args())\n",
    "\n",
    "sample_handler = SampleHandler(sample_data)"
   ]
  },
  {
   "cell_type": "code",
   "execution_count": 7,
   "metadata": {
    "scrolled": false
   },
   "outputs": [
    {
     "data": {
      "text/html": [
       "<div>\n",
       "<style scoped>\n",
       "    .dataframe tbody tr th:only-of-type {\n",
       "        vertical-align: middle;\n",
       "    }\n",
       "\n",
       "    .dataframe tbody tr th {\n",
       "        vertical-align: top;\n",
       "    }\n",
       "\n",
       "    .dataframe thead th {\n",
       "        text-align: right;\n",
       "    }\n",
       "</style>\n",
       "<table border=\"1\" class=\"dataframe\">\n",
       "  <thead>\n",
       "    <tr style=\"text-align: right;\">\n",
       "      <th></th>\n",
       "      <th>mean</th>\n",
       "      <th>std dev</th>\n",
       "      <th>median</th>\n",
       "      <th>mode</th>\n",
       "      <th>HPD</th>\n",
       "      <th>95CI</th>\n",
       "    </tr>\n",
       "  </thead>\n",
       "  <tbody>\n",
       "    <tr>\n",
       "      <th>mu</th>\n",
       "      <td>9.896300</td>\n",
       "      <td>3.182248e-01</td>\n",
       "      <td>9.929436</td>\n",
       "      <td>9.888630</td>\n",
       "      <td>[9.569, 10.131]</td>\n",
       "      <td>[9.53, 10.103]</td>\n",
       "    </tr>\n",
       "    <tr>\n",
       "      <th>sigma_0</th>\n",
       "      <td>18638.689665</td>\n",
       "      <td>1.003978e+06</td>\n",
       "      <td>54.117734</td>\n",
       "      <td>275004.514817</td>\n",
       "      <td>[7.991, 693.096]</td>\n",
       "      <td>[16.415, 1471.432]</td>\n",
       "    </tr>\n",
       "    <tr>\n",
       "      <th>sigma_1</th>\n",
       "      <td>47.682666</td>\n",
       "      <td>5.450722e+02</td>\n",
       "      <td>9.285498</td>\n",
       "      <td>144.574543</td>\n",
       "      <td>[1.762, 109.99]</td>\n",
       "      <td>[2.782, 234.644]</td>\n",
       "    </tr>\n",
       "    <tr>\n",
       "      <th>sigma_2</th>\n",
       "      <td>33.236622</td>\n",
       "      <td>9.101545e+02</td>\n",
       "      <td>2.501694</td>\n",
       "      <td>229.392979</td>\n",
       "      <td>[0.078, 24.991]</td>\n",
       "      <td>[0.779, 47.222]</td>\n",
       "    </tr>\n",
       "    <tr>\n",
       "      <th>sigma_3</th>\n",
       "      <td>1.059211</td>\n",
       "      <td>1.541897e+01</td>\n",
       "      <td>0.133615</td>\n",
       "      <td>3.439391</td>\n",
       "      <td>[0.015, 2.017]</td>\n",
       "      <td>[0.026, 3.62]</td>\n",
       "    </tr>\n",
       "    <tr>\n",
       "      <th>sigma_4</th>\n",
       "      <td>2.316706</td>\n",
       "      <td>1.982428e+01</td>\n",
       "      <td>0.453886</td>\n",
       "      <td>4.249133</td>\n",
       "      <td>[0.019, 5.063]</td>\n",
       "      <td>[0.083, 10.903]</td>\n",
       "    </tr>\n",
       "    <tr>\n",
       "      <th>sigma_5</th>\n",
       "      <td>1.171691</td>\n",
       "      <td>1.928408e+01</td>\n",
       "      <td>0.124282</td>\n",
       "      <td>4.463533</td>\n",
       "      <td>[0.013, 1.664]</td>\n",
       "      <td>[0.025, 3.227]</td>\n",
       "    </tr>\n",
       "    <tr>\n",
       "      <th>sigma_6</th>\n",
       "      <td>1.354601</td>\n",
       "      <td>2.041128e+01</td>\n",
       "      <td>0.217953</td>\n",
       "      <td>5.054312</td>\n",
       "      <td>[0.014, 2.637]</td>\n",
       "      <td>[0.037, 5.595]</td>\n",
       "    </tr>\n",
       "  </tbody>\n",
       "</table>\n",
       "</div>"
      ],
      "text/plain": [
       "                 mean       std dev     median           mode  \\\n",
       "mu           9.896300  3.182248e-01   9.929436       9.888630   \n",
       "sigma_0  18638.689665  1.003978e+06  54.117734  275004.514817   \n",
       "sigma_1     47.682666  5.450722e+02   9.285498     144.574543   \n",
       "sigma_2     33.236622  9.101545e+02   2.501694     229.392979   \n",
       "sigma_3      1.059211  1.541897e+01   0.133615       3.439391   \n",
       "sigma_4      2.316706  1.982428e+01   0.453886       4.249133   \n",
       "sigma_5      1.171691  1.928408e+01   0.124282       4.463533   \n",
       "sigma_6      1.354601  2.041128e+01   0.217953       5.054312   \n",
       "\n",
       "                      HPD                95CI  \n",
       "mu        [9.569, 10.131]      [9.53, 10.103]  \n",
       "sigma_0  [7.991, 693.096]  [16.415, 1471.432]  \n",
       "sigma_1   [1.762, 109.99]    [2.782, 234.644]  \n",
       "sigma_2   [0.078, 24.991]     [0.779, 47.222]  \n",
       "sigma_3    [0.015, 2.017]       [0.026, 3.62]  \n",
       "sigma_4    [0.019, 5.063]     [0.083, 10.903]  \n",
       "sigma_5    [0.013, 1.664]      [0.025, 3.227]  \n",
       "sigma_6    [0.014, 2.637]      [0.037, 5.595]  "
      ]
     },
     "execution_count": 7,
     "metadata": {},
     "output_type": "execute_result"
    }
   ],
   "source": [
    "sample_handler.summarize()"
   ]
  },
  {
   "cell_type": "code",
   "execution_count": 8,
   "metadata": {},
   "outputs": [
    {
     "name": "stdout",
     "output_type": "stream",
     "text": [
      "all PSRF values < 1.05 | maximum PSRF: mu at 1.0005155065057465.\n"
     ]
    },
    {
     "data": {
      "image/png": "[encoded data removed]",
      "text/plain": [
       "<Figure size 432x288 with 1 Axes>"
      ]
     },
     "metadata": {
      "needs_background": "light"
     },
     "output_type": "display_data"
    }
   ],
   "source": [
    "sample_handler.diagnostic()\n",
    "sample_handler.autocorr('mu')"
   ]
  },
  {
   "cell_type": "markdown",
   "metadata": {},
   "source": [
    "## 4.3 - Repeated measurement of IQ"
   ]
  },
  {
   "cell_type": "code",
   "execution_count": 9,
   "metadata": {
    "scrolled": false
   },
   "outputs": [
    {
     "name": "stdout",
     "output_type": "stream",
     "text": [
      "adapting: iterations 3000 of 3000, elapsed 0:00:00, remaining 0:00:00\n",
      "sampling: iterations 3000 of 3000, elapsed 0:00:00, remaining 0:00:00\n"
     ]
    }
   ],
   "source": [
    "spec_string = \"\"\"\n",
    "model:\n",
    "IQ.txt\n",
    "\n",
    "settings:\n",
    "chains = 3\n",
    "samples = 1000\n",
    "thinning = 0\n",
    "burnin = 1000\n",
    "\n",
    "data:\n",
    "x = [[90,95,100],[105,110,115],[150,155,160]]\n",
    "n, m = np.shape(x)\n",
    "\n",
    "# this is an ugly way to do this, because we're \"calling\" a\n",
    "# module (numpy) that we haven't actually imported... I'm sure there's\n",
    "# a smart alternative, but I won't dwell on it just yet.\n",
    "\n",
    "sample:\n",
    "mu\n",
    "sigma\n",
    "\n",
    "\"\"\"\n",
    "\n",
    "model_spec = ModelHandler(spec_string)\n",
    "\n",
    "# model_spec.data['x'] = [[90,95,100],[105,110,115],[150,155,160]]\n",
    "\n",
    "pyjags_model = pyjags.Model(**model_spec.get_model_args())\n",
    "sample_data = pyjags_model.sample(**model_spec.get_sample_args())\n",
    "\n",
    "sample_handler = SampleHandler(sample_data)"
   ]
  },
  {
   "cell_type": "code",
   "execution_count": 10,
   "metadata": {
    "scrolled": false
   },
   "outputs": [
    {
     "data": {
      "text/html": [
       "<div>\n",
       "<style scoped>\n",
       "    .dataframe tbody tr th:only-of-type {\n",
       "        vertical-align: middle;\n",
       "    }\n",
       "\n",
       "    .dataframe tbody tr th {\n",
       "        vertical-align: top;\n",
       "    }\n",
       "\n",
       "    .dataframe thead th {\n",
       "        text-align: right;\n",
       "    }\n",
       "</style>\n",
       "<table border=\"1\" class=\"dataframe\">\n",
       "  <thead>\n",
       "    <tr style=\"text-align: right;\">\n",
       "      <th></th>\n",
       "      <th>mean</th>\n",
       "      <th>std dev</th>\n",
       "      <th>median</th>\n",
       "      <th>mode</th>\n",
       "      <th>HPD</th>\n",
       "      <th>95CI</th>\n",
       "    </tr>\n",
       "  </thead>\n",
       "  <tbody>\n",
       "    <tr>\n",
       "      <th>mu_0</th>\n",
       "      <td>95.000040</td>\n",
       "      <td>4.247749</td>\n",
       "      <td>95.038472</td>\n",
       "      <td>95.790263</td>\n",
       "      <td>[86.76, 103.312]</td>\n",
       "      <td>[86.619, 103.187]</td>\n",
       "    </tr>\n",
       "    <tr>\n",
       "      <th>mu_1</th>\n",
       "      <td>109.780179</td>\n",
       "      <td>4.196091</td>\n",
       "      <td>109.834379</td>\n",
       "      <td>109.944624</td>\n",
       "      <td>[101.326, 117.983]</td>\n",
       "      <td>[101.321, 117.972]</td>\n",
       "    </tr>\n",
       "    <tr>\n",
       "      <th>mu_2</th>\n",
       "      <td>154.983429</td>\n",
       "      <td>4.029754</td>\n",
       "      <td>154.957475</td>\n",
       "      <td>155.507426</td>\n",
       "      <td>[146.756, 163.52]</td>\n",
       "      <td>[146.766, 163.573]</td>\n",
       "    </tr>\n",
       "    <tr>\n",
       "      <th>sigma</th>\n",
       "      <td>6.634667</td>\n",
       "      <td>2.748403</td>\n",
       "      <td>5.925290</td>\n",
       "      <td>4.987365</td>\n",
       "      <td>[2.67, 12.112]</td>\n",
       "      <td>[3.357, 13.791]</td>\n",
       "    </tr>\n",
       "  </tbody>\n",
       "</table>\n",
       "</div>"
      ],
      "text/plain": [
       "             mean   std dev      median        mode                 HPD  \\\n",
       "mu_0    95.000040  4.247749   95.038472   95.790263    [86.76, 103.312]   \n",
       "mu_1   109.780179  4.196091  109.834379  109.944624  [101.326, 117.983]   \n",
       "mu_2   154.983429  4.029754  154.957475  155.507426   [146.756, 163.52]   \n",
       "sigma    6.634667  2.748403    5.925290    4.987365      [2.67, 12.112]   \n",
       "\n",
       "                     95CI  \n",
       "mu_0    [86.619, 103.187]  \n",
       "mu_1   [101.321, 117.972]  \n",
       "mu_2   [146.766, 163.573]  \n",
       "sigma     [3.357, 13.791]  "
      ]
     },
     "execution_count": 10,
     "metadata": {},
     "output_type": "execute_result"
    }
   ],
   "source": [
    "sample_handler.summarize()"
   ]
  },
  {
   "cell_type": "code",
   "execution_count": 11,
   "metadata": {
    "scrolled": false
   },
   "outputs": [
    {
     "name": "stdout",
     "output_type": "stream",
     "text": [
      "all PSRF values < 1.05 | maximum PSRF: sigma at 1.0035957129718858.\n"
     ]
    },
    {
     "data": {
      "image/png": "[encoded data removed]",
      "text/plain": [
       "<Figure size 432x288 with 1 Axes>"
      ]
     },
     "metadata": {
      "needs_background": "light"
     },
     "output_type": "display_data"
    }
   ],
   "source": [
    "sample_handler.diagnostic()\n",
    "sample_handler.autocorr('mu_1')"
   ]
  }
 ],
 "metadata": {
  "kernelspec": {
   "display_name": "pyjagsBCM",
   "language": "python",
   "name": "pyjagsbcm"
  },
  "language_info": {
   "codemirror_mode": {
    "name": "ipython",
    "version": 3
   },
   "file_extension": ".py",
   "mimetype": "text/x-python",
   "name": "python",
   "nbconvert_exporter": "python",
   "pygments_lexer": "ipython3",
   "version": "3.7.0"
  }
 },
 "nbformat": 4,
 "nbformat_minor": 2
}
