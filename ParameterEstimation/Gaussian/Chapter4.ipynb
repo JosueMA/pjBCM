{
 "cells": [
  {
   "cell_type": "markdown",
   "metadata": {},
   "source": [
    "# Chapter 4 - Inferences with Gaussians"
   ]
  },
  {
   "cell_type": "code",
   "execution_count": 1,
   "metadata": {
    "scrolled": true
   },
   "outputs": [],
   "source": [
    "import pyjags\n",
    "import os\n",
    "\n",
    "\n",
    "# this import assumes pjbcmassistant.py is two folders\n",
    "# above this notebook. You may need to redirect it if\n",
    "# you get a ModuleNotFoundError.\n",
    "nb_path = os.getcwd()\n",
    "parent_path = os.path.split(nb_path)[0]\n",
    "os.chdir(os.path.split(parent_path)[0])\n",
    "from pjbcmassistant import ModelHandler, SampleHandler\n",
    "os.chdir(nb_path)"
   ]
  },
  {
   "cell_type": "markdown",
   "metadata": {},
   "source": [
    "## 4.1 - Inferring a mean and standard deviation"
   ]
  },
  {
   "cell_type": "code",
   "execution_count": 2,
   "metadata": {
    "scrolled": false
   },
   "outputs": [
    {
     "name": "stdout",
     "output_type": "stream",
     "text": [
      "adapting: iterations 3000 of 3000, elapsed 0:00:00, remaining 0:00:00\n",
      "sampling: iterations 3000 of 3000, elapsed 0:00:00, remaining 0:00:00\n"
     ]
    }
   ],
   "source": [
    "spec_string = \"\"\"\n",
    "model:\n",
    "Gaussian.txt\n",
    "\n",
    "settings:\n",
    "chains = 3\n",
    "samples = 1000\n",
    "thinning = 0\n",
    "burnin = 1000\n",
    "\n",
    "data:\n",
    "x = [1.1, 1.9, 2.3, 1.8]\n",
    "n = len(x) \n",
    "\n",
    "sample:\n",
    "mu\n",
    "lambda\n",
    "sigma\n",
    "\n",
    "\"\"\"\n",
    "\n",
    "model_spec = ModelHandler(spec_string)\n",
    "\n",
    "pyjags_model = pyjags.Model(**model_spec.get_model_args())\n",
    "sample_data = pyjags_model.sample(**model_spec.get_sample_args())\n",
    "\n",
    "sample_handler = SampleHandler(sample_data)"
   ]
  },
  {
   "cell_type": "code",
   "execution_count": 3,
   "metadata": {
    "scrolled": false
   },
   "outputs": [
    {
     "data": {
      "text/html": [
       "<div>\n",
       "<style scoped>\n",
       "    .dataframe tbody tr th:only-of-type {\n",
       "        vertical-align: middle;\n",
       "    }\n",
       "\n",
       "    .dataframe tbody tr th {\n",
       "        vertical-align: top;\n",
       "    }\n",
       "\n",
       "    .dataframe thead th {\n",
       "        text-align: right;\n",
       "    }\n",
       "</style>\n",
       "<table border=\"1\" class=\"dataframe\">\n",
       "  <thead>\n",
       "    <tr style=\"text-align: right;\">\n",
       "      <th></th>\n",
       "      <th>mean</th>\n",
       "      <th>std dev</th>\n",
       "      <th>median</th>\n",
       "      <th>mode</th>\n",
       "      <th>HPD</th>\n",
       "      <th>95CI</th>\n",
       "    </tr>\n",
       "  </thead>\n",
       "  <tbody>\n",
       "    <tr>\n",
       "      <th>lambda</th>\n",
       "      <td>2.698169</td>\n",
       "      <td>2.608711</td>\n",
       "      <td>1.930157</td>\n",
       "      <td>0.149185</td>\n",
       "      <td>[0.014, 7.804]</td>\n",
       "      <td>[0.036, 9.35]</td>\n",
       "    </tr>\n",
       "    <tr>\n",
       "      <th>mu</th>\n",
       "      <td>1.788866</td>\n",
       "      <td>0.769975</td>\n",
       "      <td>1.773091</td>\n",
       "      <td>1.813836</td>\n",
       "      <td>[0.611, 3.346]</td>\n",
       "      <td>[0.488, 3.245]</td>\n",
       "    </tr>\n",
       "    <tr>\n",
       "      <th>sigma</th>\n",
       "      <td>1.058733</td>\n",
       "      <td>1.103463</td>\n",
       "      <td>0.719786</td>\n",
       "      <td>0.480641</td>\n",
       "      <td>[0.24, 3.046]</td>\n",
       "      <td>[0.327, 5.291]</td>\n",
       "    </tr>\n",
       "  </tbody>\n",
       "</table>\n",
       "</div>"
      ],
      "text/plain": [
       "            mean   std dev    median      mode             HPD            95CI\n",
       "lambda  2.698169  2.608711  1.930157  0.149185  [0.014, 7.804]   [0.036, 9.35]\n",
       "mu      1.788866  0.769975  1.773091  1.813836  [0.611, 3.346]  [0.488, 3.245]\n",
       "sigma   1.058733  1.103463  0.719786  0.480641   [0.24, 3.046]  [0.327, 5.291]"
      ]
     },
     "execution_count": 3,
     "metadata": {},
     "output_type": "execute_result"
    }
   ],
   "source": [
    "sample_handler.summarize()"
   ]
  },
  {
   "cell_type": "code",
   "execution_count": 4,
   "metadata": {},
   "outputs": [
    {
     "name": "stdout",
     "output_type": "stream",
     "text": [
      "all PSRF values < 1.05 | maximum PSRF: sigma at 1.0147584933929332.\n"
     ]
    },
    {
     "data": {
      "image/png": "[encoded data removed]",
      "text/plain": [
       "<Figure size 432x288 with 1 Axes>"
      ]
     },
     "metadata": {
      "needs_background": "light"
     },
     "output_type": "display_data"
    }
   ],
   "source": [
    "sample_handler.diagnostic()\n",
    "sample_handler.autocorr('mu')"
   ]
  },
  {
   "cell_type": "code",
   "execution_count": 5,
   "metadata": {
    "scrolled": false
   },
   "outputs": [
    {
     "name": "stderr",
     "output_type": "stream",
     "text": [
      "/home/isaiah/anaconda3/envs/pyjagsBCM/lib/python3.7/site-packages/scipy/stats/stats.py:1713: FutureWarning: Using a non-tuple sequence for multidimensional indexing is deprecated; use `arr[tuple(seq)]` instead of `arr[seq]`. In the future this will be interpreted as an array index, `arr[np.array(seq)]`, which will result either in an error or a different result.\n",
      "  return np.add.reduce(sorted[indexer] * weights, axis=axis) / sumval\n"
     ]
    },
    {
     "data": {
      "image/png": "[encoded data removed]",
      "text/plain": [
       "<Figure size 432x432 with 3 Axes>"
      ]
     },
     "metadata": {
      "needs_background": "light"
     },
     "output_type": "display_data"
    }
   ],
   "source": [
    "sample_handler.vizjoint('mu','sigma')"
   ]
  },
  {
   "cell_type": "markdown",
   "metadata": {},
   "source": [
    "## 4.2 - The Seven Scientists"
   ]
  },
  {
   "cell_type": "code",
   "execution_count": 6,
   "metadata": {
    "scrolled": true
   },
   "outputs": [
    {
     "name": "stdout",
     "output_type": "stream",
     "text": [
      "sampling: iterations 3000 of 3000, elapsed 0:00:00, remaining 0:00:00\n"
     ]
    }
   ],
   "source": [
    "spec_string = \"\"\"\n",
    "model:\n",
    "SevenScientists.txt\n",
    "\n",
    "settings:\n",
    "chains = 3\n",
    "samples = 1000\n",
    "thinning = 0\n",
    "burnin = 1000\n",
    "\n",
    "data:\n",
    "x = [-27.020,3.570,8.191,9.898,9.603,9.945,10.056]\n",
    "n = len(x)\n",
    "\n",
    "sample:\n",
    "mu\n",
    "sigma\n",
    "\n",
    "\"\"\"\n",
    "\n",
    "model_spec = ModelHandler(spec_string)\n",
    "\n",
    "pyjags_model = pyjags.Model(**model_spec.get_model_args())\n",
    "sample_data = pyjags_model.sample(**model_spec.get_sample_args())\n",
    "\n",
    "sample_handler = SampleHandler(sample_data)"
   ]
  },
  {
   "cell_type": "code",
   "execution_count": 7,
   "metadata": {
    "scrolled": false
   },
   "outputs": [
    {
     "data": {
      "text/html": [
       "<div>\n",
       "<style scoped>\n",
       "    .dataframe tbody tr th:only-of-type {\n",
       "        vertical-align: middle;\n",
       "    }\n",
       "\n",
       "    .dataframe tbody tr th {\n",
       "        vertical-align: top;\n",
       "    }\n",
       "\n",
       "    .dataframe thead th {\n",
       "        text-align: right;\n",
       "    }\n",
       "</style>\n",
       "<table border=\"1\" class=\"dataframe\">\n",
       "  <thead>\n",
       "    <tr style=\"text-align: right;\">\n",
       "      <th></th>\n",
       "      <th>mean</th>\n",
       "      <th>std dev</th>\n",
       "      <th>median</th>\n",
       "      <th>mode</th>\n",
       "      <th>HPD</th>\n",
       "      <th>95CI</th>\n",
       "    </tr>\n",
       "  </thead>\n",
       "  <tbody>\n",
       "    <tr>\n",
       "      <th>mu</th>\n",
       "      <td>9.895488</td>\n",
       "      <td>0.306478</td>\n",
       "      <td>9.928972</td>\n",
       "      <td>9.914497</td>\n",
       "      <td>[9.591, 10.118]</td>\n",
       "      <td>[9.569, 10.106]</td>\n",
       "    </tr>\n",
       "    <tr>\n",
       "      <th>sigma_0</th>\n",
       "      <td>422.463059</td>\n",
       "      <td>5612.660455</td>\n",
       "      <td>54.865811</td>\n",
       "      <td>1306.855835</td>\n",
       "      <td>[9.806, 800.026]</td>\n",
       "      <td>[16.49, 1622.102]</td>\n",
       "    </tr>\n",
       "    <tr>\n",
       "      <th>sigma_1</th>\n",
       "      <td>39.653435</td>\n",
       "      <td>212.070526</td>\n",
       "      <td>9.420618</td>\n",
       "      <td>23.004521</td>\n",
       "      <td>[1.84, 109.312]</td>\n",
       "      <td>[2.83, 215.131]</td>\n",
       "    </tr>\n",
       "    <tr>\n",
       "      <th>sigma_2</th>\n",
       "      <td>87.463940</td>\n",
       "      <td>3587.407637</td>\n",
       "      <td>2.566623</td>\n",
       "      <td>969.796564</td>\n",
       "      <td>[0.484, 28.203]</td>\n",
       "      <td>[0.73, 58.288]</td>\n",
       "    </tr>\n",
       "    <tr>\n",
       "      <th>sigma_3</th>\n",
       "      <td>2.352964</td>\n",
       "      <td>88.845464</td>\n",
       "      <td>0.144565</td>\n",
       "      <td>24.315277</td>\n",
       "      <td>[0.015, 2.017]</td>\n",
       "      <td>[0.028, 3.794]</td>\n",
       "    </tr>\n",
       "    <tr>\n",
       "      <th>sigma_4</th>\n",
       "      <td>2.803483</td>\n",
       "      <td>36.785989</td>\n",
       "      <td>0.456541</td>\n",
       "      <td>7.877853</td>\n",
       "      <td>[0.019, 5.556]</td>\n",
       "      <td>[0.061, 10.749]</td>\n",
       "    </tr>\n",
       "    <tr>\n",
       "      <th>sigma_5</th>\n",
       "      <td>1.403541</td>\n",
       "      <td>27.208746</td>\n",
       "      <td>0.132214</td>\n",
       "      <td>6.885578</td>\n",
       "      <td>[0.015, 1.956]</td>\n",
       "      <td>[0.027, 4.242]</td>\n",
       "    </tr>\n",
       "    <tr>\n",
       "      <th>sigma_6</th>\n",
       "      <td>1.586267</td>\n",
       "      <td>27.027979</td>\n",
       "      <td>0.208749</td>\n",
       "      <td>6.980280</td>\n",
       "      <td>[0.017, 2.688]</td>\n",
       "      <td>[0.033, 5.233]</td>\n",
       "    </tr>\n",
       "  </tbody>\n",
       "</table>\n",
       "</div>"
      ],
      "text/plain": [
       "               mean      std dev     median         mode               HPD  \\\n",
       "mu         9.895488     0.306478   9.928972     9.914497   [9.591, 10.118]   \n",
       "sigma_0  422.463059  5612.660455  54.865811  1306.855835  [9.806, 800.026]   \n",
       "sigma_1   39.653435   212.070526   9.420618    23.004521   [1.84, 109.312]   \n",
       "sigma_2   87.463940  3587.407637   2.566623   969.796564   [0.484, 28.203]   \n",
       "sigma_3    2.352964    88.845464   0.144565    24.315277    [0.015, 2.017]   \n",
       "sigma_4    2.803483    36.785989   0.456541     7.877853    [0.019, 5.556]   \n",
       "sigma_5    1.403541    27.208746   0.132214     6.885578    [0.015, 1.956]   \n",
       "sigma_6    1.586267    27.027979   0.208749     6.980280    [0.017, 2.688]   \n",
       "\n",
       "                      95CI  \n",
       "mu         [9.569, 10.106]  \n",
       "sigma_0  [16.49, 1622.102]  \n",
       "sigma_1    [2.83, 215.131]  \n",
       "sigma_2     [0.73, 58.288]  \n",
       "sigma_3     [0.028, 3.794]  \n",
       "sigma_4    [0.061, 10.749]  \n",
       "sigma_5     [0.027, 4.242]  \n",
       "sigma_6     [0.033, 5.233]  "
      ]
     },
     "execution_count": 7,
     "metadata": {},
     "output_type": "execute_result"
    }
   ],
   "source": [
    "sample_handler.summarize()"
   ]
  },
  {
   "cell_type": "code",
   "execution_count": 8,
   "metadata": {},
   "outputs": [
    {
     "name": "stdout",
     "output_type": "stream",
     "text": [
      "all PSRF values < 1.05 | maximum PSRF: mu at 1.0018453578741027.\n"
     ]
    },
    {
     "data": {
      "image/png": "[encoded data removed]",
      "text/plain": [
       "<Figure size 432x288 with 1 Axes>"
      ]
     },
     "metadata": {
      "needs_background": "light"
     },
     "output_type": "display_data"
    }
   ],
   "source": [
    "sample_handler.diagnostic()\n",
    "sample_handler.autocorr('mu')"
   ]
  },
  {
   "cell_type": "markdown",
   "metadata": {},
   "source": [
    "## 4.3 - Repeated measurement of IQ"
   ]
  },
  {
   "cell_type": "code",
   "execution_count": 9,
   "metadata": {
    "scrolled": false
   },
   "outputs": [
    {
     "name": "stdout",
     "output_type": "stream",
     "text": [
      "adapting: iterations 3000 of 3000, elapsed 0:00:00, remaining 0:00:00\n",
      "sampling: iterations 3000 of 3000, elapsed 0:00:00, remaining 0:00:00\n"
     ]
    }
   ],
   "source": [
    "spec_string = \"\"\"\n",
    "model:\n",
    "IQ.txt\n",
    "\n",
    "settings:\n",
    "chains = 3\n",
    "samples = 1000\n",
    "thinning = 0\n",
    "burnin = 1000\n",
    "\n",
    "data:\n",
    "x = [[90,95,100],[105,110,115],[150,155,160]]\n",
    "n, m = np.shape(x)\n",
    "\n",
    "# this is an ugly way to do this, because we're \"calling\" a\n",
    "# module (numpy) that we haven't actually imported... I'm sure there's\n",
    "# a smart alternative, but I won't dwell on it just yet.\n",
    "\n",
    "sample:\n",
    "mu\n",
    "sigma\n",
    "\n",
    "\"\"\"\n",
    "\n",
    "model_spec = ModelHandler(spec_string)\n",
    "\n",
    "# model_spec.data['x'] = [[90,95,100],[105,110,115],[150,155,160]]\n",
    "\n",
    "pyjags_model = pyjags.Model(**model_spec.get_model_args())\n",
    "sample_data = pyjags_model.sample(**model_spec.get_sample_args())\n",
    "\n",
    "sample_handler = SampleHandler(sample_data)"
   ]
  },
  {
   "cell_type": "code",
   "execution_count": 10,
   "metadata": {
    "scrolled": false
   },
   "outputs": [
    {
     "data": {
      "text/html": [
       "<div>\n",
       "<style scoped>\n",
       "    .dataframe tbody tr th:only-of-type {\n",
       "        vertical-align: middle;\n",
       "    }\n",
       "\n",
       "    .dataframe tbody tr th {\n",
       "        vertical-align: top;\n",
       "    }\n",
       "\n",
       "    .dataframe thead th {\n",
       "        text-align: right;\n",
       "    }\n",
       "</style>\n",
       "<table border=\"1\" class=\"dataframe\">\n",
       "  <thead>\n",
       "    <tr style=\"text-align: right;\">\n",
       "      <th></th>\n",
       "      <th>mean</th>\n",
       "      <th>std dev</th>\n",
       "      <th>median</th>\n",
       "      <th>mode</th>\n",
       "      <th>HPD</th>\n",
       "      <th>95CI</th>\n",
       "    </tr>\n",
       "  </thead>\n",
       "  <tbody>\n",
       "    <tr>\n",
       "      <th>mu_0</th>\n",
       "      <td>94.987951</td>\n",
       "      <td>3.897123</td>\n",
       "      <td>94.923169</td>\n",
       "      <td>94.928551</td>\n",
       "      <td>[87.795, 103.101]</td>\n",
       "      <td>[87.138, 102.552]</td>\n",
       "    </tr>\n",
       "    <tr>\n",
       "      <th>mu_1</th>\n",
       "      <td>109.841827</td>\n",
       "      <td>3.883086</td>\n",
       "      <td>109.814846</td>\n",
       "      <td>110.698104</td>\n",
       "      <td>[102.082, 117.313]</td>\n",
       "      <td>[102.23, 117.505]</td>\n",
       "    </tr>\n",
       "    <tr>\n",
       "      <th>mu_2</th>\n",
       "      <td>155.005044</td>\n",
       "      <td>3.818688</td>\n",
       "      <td>154.923369</td>\n",
       "      <td>154.346786</td>\n",
       "      <td>[147.243, 162.552]</td>\n",
       "      <td>[147.349, 162.849]</td>\n",
       "    </tr>\n",
       "    <tr>\n",
       "      <th>sigma</th>\n",
       "      <td>6.344016</td>\n",
       "      <td>2.513580</td>\n",
       "      <td>5.759498</td>\n",
       "      <td>4.800836</td>\n",
       "      <td>[2.859, 11.048]</td>\n",
       "      <td>[3.477, 12.993]</td>\n",
       "    </tr>\n",
       "  </tbody>\n",
       "</table>\n",
       "</div>"
      ],
      "text/plain": [
       "             mean   std dev      median        mode                 HPD  \\\n",
       "mu_0    94.987951  3.897123   94.923169   94.928551   [87.795, 103.101]   \n",
       "mu_1   109.841827  3.883086  109.814846  110.698104  [102.082, 117.313]   \n",
       "mu_2   155.005044  3.818688  154.923369  154.346786  [147.243, 162.552]   \n",
       "sigma    6.344016  2.513580    5.759498    4.800836     [2.859, 11.048]   \n",
       "\n",
       "                     95CI  \n",
       "mu_0    [87.138, 102.552]  \n",
       "mu_1    [102.23, 117.505]  \n",
       "mu_2   [147.349, 162.849]  \n",
       "sigma     [3.477, 12.993]  "
      ]
     },
     "execution_count": 10,
     "metadata": {},
     "output_type": "execute_result"
    }
   ],
   "source": [
    "sample_handler.summarize()"
   ]
  },
  {
   "cell_type": "code",
   "execution_count": 11,
   "metadata": {
    "scrolled": false
   },
   "outputs": [
    {
     "name": "stdout",
     "output_type": "stream",
     "text": [
      "all PSRF values < 1.05 | maximum PSRF: sigma at 1.0078569595036952.\n"
     ]
    },
    {
     "data": {
      "image/png": "[encoded data removed]",
      "text/plain": [
       "<Figure size 432x288 with 1 Axes>"
      ]
     },
     "metadata": {
      "needs_background": "light"
     },
     "output_type": "display_data"
    }
   ],
   "source": [
    "sample_handler.diagnostic()\n",
    "sample_handler.autocorr('mu_1')"
   ]
  }
 ],
 "metadata": {
  "kernelspec": {
   "display_name": "pyjagsBCM",
   "language": "python",
   "name": "pyjagsbcm"
  },
  "language_info": {
   "codemirror_mode": {
    "name": "ipython",
    "version": 3
   },
   "file_extension": ".py",
   "mimetype": "text/x-python",
   "name": "python",
   "nbconvert_exporter": "python",
   "pygments_lexer": "ipython3",
   "version": "3.7.0"
  }
 },
 "nbformat": 4,
 "nbformat_minor": 2
}
