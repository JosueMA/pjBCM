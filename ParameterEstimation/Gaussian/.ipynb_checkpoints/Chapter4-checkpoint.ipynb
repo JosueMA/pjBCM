{
 "cells": [
  {
   "cell_type": "markdown",
   "metadata": {},
   "source": [
    "# Chapter 4 - Inferences with Gaussians"
   ]
  },
  {
   "cell_type": "code",
   "execution_count": 1,
   "metadata": {
    "scrolled": true
   },
   "outputs": [],
   "source": [
    "import pyjags\n",
    "import os\n",
    "\n",
    "\n",
    "# this import assumes pjbcmassistant.py is two folders\n",
    "# above this notebook. You may need to redirect it if\n",
    "# you get a ModuleNotFoundError.\n",
    "nb_path = os.getcwd()\n",
    "parent_path = os.path.split(nb_path)[0]\n",
    "os.chdir(os.path.split(parent_path)[0])\n",
    "from pjbcmassistant import ModelHandler, SampleHandler\n",
    "os.chdir(nb_path)"
   ]
  },
  {
   "cell_type": "markdown",
   "metadata": {},
   "source": [
    "## 4.1 - Inferring a mean and standard deviation"
   ]
  },
  {
   "cell_type": "code",
   "execution_count": 2,
   "metadata": {
    "scrolled": false
   },
   "outputs": [
    {
     "name": "stdout",
     "output_type": "stream",
     "text": [
      "adapting: iterations 3000 of 3000, elapsed 0:00:00, remaining 0:00:00\n",
      "sampling: iterations 3000 of 3000, elapsed 0:00:00, remaining 0:00:00\n"
     ]
    }
   ],
   "source": [
    "spec_string = \"\"\"\n",
    "model:\n",
    "Gaussian.txt\n",
    "\n",
    "settings:\n",
    "chains = 3\n",
    "samples = 1000\n",
    "thinning = 0\n",
    "burnin = 1000\n",
    "\n",
    "data:\n",
    "x = [1.1, 1.9, 2.3, 1.8]\n",
    "n = len(x) \n",
    "\n",
    "sample:\n",
    "mu\n",
    "lambda\n",
    "sigma\n",
    "\n",
    "\"\"\"\n",
    "\n",
    "model_spec = ModelHandler(spec_string)\n",
    "\n",
    "pyjags_model = pyjags.Model(**model_spec.get_model_args())\n",
    "sample_data = pyjags_model.sample(**model_spec.get_sample_args())\n",
    "\n",
    "sample_handler = SampleHandler(sample_data)"
   ]
  },
  {
   "cell_type": "code",
   "execution_count": 3,
   "metadata": {
    "scrolled": false
   },
   "outputs": [
    {
     "data": {
      "text/html": [
       "<div>\n",
       "<style scoped>\n",
       "    .dataframe tbody tr th:only-of-type {\n",
       "        vertical-align: middle;\n",
       "    }\n",
       "\n",
       "    .dataframe tbody tr th {\n",
       "        vertical-align: top;\n",
       "    }\n",
       "\n",
       "    .dataframe thead th {\n",
       "        text-align: right;\n",
       "    }\n",
       "</style>\n",
       "<table border=\"1\" class=\"dataframe\">\n",
       "  <thead>\n",
       "    <tr style=\"text-align: right;\">\n",
       "      <th></th>\n",
       "      <th>mean</th>\n",
       "      <th>std dev</th>\n",
       "      <th>median</th>\n",
       "      <th>mode</th>\n",
       "      <th>HPD</th>\n",
       "      <th>95CI</th>\n",
       "    </tr>\n",
       "  </thead>\n",
       "  <tbody>\n",
       "    <tr>\n",
       "      <th>lambda</th>\n",
       "      <td>2.651593</td>\n",
       "      <td>2.628141</td>\n",
       "      <td>1.857955</td>\n",
       "      <td>0.139816</td>\n",
       "      <td>[0.013, 10.332]</td>\n",
       "      <td>[0.094, 9.598]</td>\n",
       "    </tr>\n",
       "    <tr>\n",
       "      <th>mu</th>\n",
       "      <td>1.753097</td>\n",
       "      <td>0.637938</td>\n",
       "      <td>1.767449</td>\n",
       "      <td>1.794395</td>\n",
       "      <td>[-0.986, 3.291]</td>\n",
       "      <td>[0.393, 3.032]</td>\n",
       "    </tr>\n",
       "    <tr>\n",
       "      <th>sigma</th>\n",
       "      <td>0.999895</td>\n",
       "      <td>0.816219</td>\n",
       "      <td>0.733639</td>\n",
       "      <td>0.501593</td>\n",
       "      <td>[0.224, 3.249]</td>\n",
       "      <td>[0.323, 3.267]</td>\n",
       "    </tr>\n",
       "  </tbody>\n",
       "</table>\n",
       "</div>"
      ],
      "text/plain": [
       "            mean   std dev    median      mode              HPD  \\\n",
       "lambda  2.651593  2.628141  1.857955  0.139816  [0.013, 10.332]   \n",
       "mu      1.753097  0.637938  1.767449  1.794395  [-0.986, 3.291]   \n",
       "sigma   0.999895  0.816219  0.733639  0.501593   [0.224, 3.249]   \n",
       "\n",
       "                  95CI  \n",
       "lambda  [0.094, 9.598]  \n",
       "mu      [0.393, 3.032]  \n",
       "sigma   [0.323, 3.267]  "
      ]
     },
     "execution_count": 3,
     "metadata": {},
     "output_type": "execute_result"
    }
   ],
   "source": [
    "sample_handler.summarize()"
   ]
  },
  {
   "cell_type": "code",
   "execution_count": 4,
   "metadata": {},
   "outputs": [
    {
     "name": "stdout",
     "output_type": "stream",
     "text": [
      "all PSRF values < 1.05 | maximum PSRF: sigma at 1.0079798992789044.\n"
     ]
    },
    {
     "data": {
      "image/png": "[encoded data removed]",
      "text/plain": [
       "<Figure size 432x288 with 1 Axes>"
      ]
     },
     "metadata": {
      "needs_background": "light"
     },
     "output_type": "display_data"
    }
   ],
   "source": [
    "sample_handler.diagnostic()\n",
    "sample_handler.autocorr('mu')"
   ]
  },
  {
   "cell_type": "code",
   "execution_count": 5,
   "metadata": {
    "scrolled": false
   },
   "outputs": [
    {
     "name": "stderr",
     "output_type": "stream",
     "text": [
      "/home/isaiah/anaconda3/envs/pyjagsBCM/lib/python3.7/site-packages/scipy/stats/stats.py:1713: FutureWarning: Using a non-tuple sequence for multidimensional indexing is deprecated; use `arr[tuple(seq)]` instead of `arr[seq]`. In the future this will be interpreted as an array index, `arr[np.array(seq)]`, which will result either in an error or a different result.\n",
      "  return np.add.reduce(sorted[indexer] * weights, axis=axis) / sumval\n"
     ]
    },
    {
     "data": {
      "image/png": "[encoded data removed]",
      "text/plain": [
       "<Figure size 432x432 with 3 Axes>"
      ]
     },
     "metadata": {
      "needs_background": "light"
     },
     "output_type": "display_data"
    }
   ],
   "source": [
    "sample_handler.vizjoint('mu','sigma')"
   ]
  },
  {
   "cell_type": "markdown",
   "metadata": {},
   "source": [
    "## 4.2 - The Seven Scientists"
   ]
  },
  {
   "cell_type": "code",
   "execution_count": 6,
   "metadata": {
    "scrolled": true
   },
   "outputs": [
    {
     "name": "stdout",
     "output_type": "stream",
     "text": [
      "sampling: iterations 3000 of 3000, elapsed 0:00:00, remaining 0:00:00\n"
     ]
    }
   ],
   "source": [
    "spec_string = \"\"\"\n",
    "model:\n",
    "SevenScientists.txt\n",
    "\n",
    "settings:\n",
    "chains = 3\n",
    "samples = 1000\n",
    "thinning = 0\n",
    "burnin = 1000\n",
    "\n",
    "data:\n",
    "x = [-27.020,3.570,8.191,9.898,9.603,9.945,10.056]\n",
    "n = len(x)\n",
    "\n",
    "sample:\n",
    "mu\n",
    "sigma\n",
    "\n",
    "\"\"\"\n",
    "\n",
    "model_spec = ModelHandler(spec_string)\n",
    "\n",
    "pyjags_model = pyjags.Model(**model_spec.get_model_args())\n",
    "sample_data = pyjags_model.sample(**model_spec.get_sample_args())\n",
    "\n",
    "sample_handler = SampleHandler(sample_data)"
   ]
  },
  {
   "cell_type": "code",
   "execution_count": 7,
   "metadata": {
    "scrolled": false
   },
   "outputs": [
    {
     "data": {
      "text/html": [
       "<div>\n",
       "<style scoped>\n",
       "    .dataframe tbody tr th:only-of-type {\n",
       "        vertical-align: middle;\n",
       "    }\n",
       "\n",
       "    .dataframe tbody tr th {\n",
       "        vertical-align: top;\n",
       "    }\n",
       "\n",
       "    .dataframe thead th {\n",
       "        text-align: right;\n",
       "    }\n",
       "</style>\n",
       "<table border=\"1\" class=\"dataframe\">\n",
       "  <thead>\n",
       "    <tr style=\"text-align: right;\">\n",
       "      <th></th>\n",
       "      <th>mean</th>\n",
       "      <th>std dev</th>\n",
       "      <th>median</th>\n",
       "      <th>mode</th>\n",
       "      <th>HPD</th>\n",
       "      <th>95CI</th>\n",
       "    </tr>\n",
       "  </thead>\n",
       "  <tbody>\n",
       "    <tr>\n",
       "      <th>mu</th>\n",
       "      <td>9.919165</td>\n",
       "      <td>0.171228</td>\n",
       "      <td>9.929851</td>\n",
       "      <td>9.915893</td>\n",
       "      <td>[9.616, 10.126]</td>\n",
       "      <td>[9.629, 10.099]</td>\n",
       "    </tr>\n",
       "    <tr>\n",
       "      <th>sigma_0</th>\n",
       "      <td>244.922080</td>\n",
       "      <td>3535.186971</td>\n",
       "      <td>52.244933</td>\n",
       "      <td>928.639293</td>\n",
       "      <td>[8.693, 560.661]</td>\n",
       "      <td>[16.352, 994.428]</td>\n",
       "    </tr>\n",
       "    <tr>\n",
       "      <th>sigma_1</th>\n",
       "      <td>66.313299</td>\n",
       "      <td>1679.792394</td>\n",
       "      <td>9.410165</td>\n",
       "      <td>459.409752</td>\n",
       "      <td>[1.791, 184.838]</td>\n",
       "      <td>[2.903, 202.258]</td>\n",
       "    </tr>\n",
       "    <tr>\n",
       "      <th>sigma_2</th>\n",
       "      <td>15.004368</td>\n",
       "      <td>192.651739</td>\n",
       "      <td>2.534454</td>\n",
       "      <td>46.297360</td>\n",
       "      <td>[0.329, 27.91]</td>\n",
       "      <td>[0.784, 55.377]</td>\n",
       "    </tr>\n",
       "    <tr>\n",
       "      <th>sigma_3</th>\n",
       "      <td>0.943418</td>\n",
       "      <td>22.145463</td>\n",
       "      <td>0.125607</td>\n",
       "      <td>6.041639</td>\n",
       "      <td>[0.011, 2.423]</td>\n",
       "      <td>[0.025, 3.474]</td>\n",
       "    </tr>\n",
       "    <tr>\n",
       "      <th>sigma_4</th>\n",
       "      <td>2.135731</td>\n",
       "      <td>14.010578</td>\n",
       "      <td>0.478967</td>\n",
       "      <td>2.366495</td>\n",
       "      <td>[0.017, 6.595]</td>\n",
       "      <td>[0.096, 10.625]</td>\n",
       "    </tr>\n",
       "    <tr>\n",
       "      <th>sigma_5</th>\n",
       "      <td>0.621907</td>\n",
       "      <td>3.689706</td>\n",
       "      <td>0.122276</td>\n",
       "      <td>0.630483</td>\n",
       "      <td>[0.015, 1.492]</td>\n",
       "      <td>[0.026, 3.42]</td>\n",
       "    </tr>\n",
       "    <tr>\n",
       "      <th>sigma_6</th>\n",
       "      <td>0.802228</td>\n",
       "      <td>3.576258</td>\n",
       "      <td>0.207205</td>\n",
       "      <td>0.489329</td>\n",
       "      <td>[0.014, 2.485]</td>\n",
       "      <td>[0.035, 4.701]</td>\n",
       "    </tr>\n",
       "  </tbody>\n",
       "</table>\n",
       "</div>"
      ],
      "text/plain": [
       "               mean      std dev     median        mode               HPD  \\\n",
       "mu         9.919165     0.171228   9.929851    9.915893   [9.616, 10.126]   \n",
       "sigma_0  244.922080  3535.186971  52.244933  928.639293  [8.693, 560.661]   \n",
       "sigma_1   66.313299  1679.792394   9.410165  459.409752  [1.791, 184.838]   \n",
       "sigma_2   15.004368   192.651739   2.534454   46.297360    [0.329, 27.91]   \n",
       "sigma_3    0.943418    22.145463   0.125607    6.041639    [0.011, 2.423]   \n",
       "sigma_4    2.135731    14.010578   0.478967    2.366495    [0.017, 6.595]   \n",
       "sigma_5    0.621907     3.689706   0.122276    0.630483    [0.015, 1.492]   \n",
       "sigma_6    0.802228     3.576258   0.207205    0.489329    [0.014, 2.485]   \n",
       "\n",
       "                      95CI  \n",
       "mu         [9.629, 10.099]  \n",
       "sigma_0  [16.352, 994.428]  \n",
       "sigma_1   [2.903, 202.258]  \n",
       "sigma_2    [0.784, 55.377]  \n",
       "sigma_3     [0.025, 3.474]  \n",
       "sigma_4    [0.096, 10.625]  \n",
       "sigma_5      [0.026, 3.42]  \n",
       "sigma_6     [0.035, 4.701]  "
      ]
     },
     "execution_count": 7,
     "metadata": {},
     "output_type": "execute_result"
    }
   ],
   "source": [
    "sample_handler.summarize()"
   ]
  },
  {
   "cell_type": "code",
   "execution_count": 8,
   "metadata": {},
   "outputs": [
    {
     "name": "stdout",
     "output_type": "stream",
     "text": [
      "all PSRF values < 1.05 | maximum PSRF: sigma_6 at 1.0002514008405954.\n"
     ]
    },
    {
     "data": {
      "image/png": "[encoded data removed]",
      "text/plain": [
       "<Figure size 432x288 with 1 Axes>"
      ]
     },
     "metadata": {
      "needs_background": "light"
     },
     "output_type": "display_data"
    }
   ],
   "source": [
    "sample_handler.diagnostic()\n",
    "sample_handler.autocorr('mu')"
   ]
  },
  {
   "cell_type": "markdown",
   "metadata": {},
   "source": [
    "## 4.3 - Repeated measurement of IQ"
   ]
  },
  {
   "cell_type": "code",
   "execution_count": 9,
   "metadata": {
    "scrolled": false
   },
   "outputs": [
    {
     "name": "stdout",
     "output_type": "stream",
     "text": [
      "adapting: iterations 3000 of 3000, elapsed 0:00:00, remaining 0:00:00\n",
      "sampling: iterations 3000 of 3000, elapsed 0:00:00, remaining 0:00:00\n"
     ]
    }
   ],
   "source": [
    "spec_string = \"\"\"\n",
    "model:\n",
    "IQ.txt\n",
    "\n",
    "settings:\n",
    "chains = 3\n",
    "samples = 1000\n",
    "thinning = 0\n",
    "burnin = 1000\n",
    "\n",
    "data:\n",
    "x = [[90,95,100],[105,110,115],[150,155,160]]\n",
    "n, m = np.shape(x)\n",
    "\n",
    "# this is an ugly way to do this, because we're \"calling\" a\n",
    "# module (numpy) that we haven't actually imported... I'm sure there's\n",
    "# a smart alternative, but I won't dwell on it just yet.\n",
    "\n",
    "sample:\n",
    "mu\n",
    "sigma\n",
    "\n",
    "\"\"\"\n",
    "\n",
    "model_spec = ModelHandler(spec_string)\n",
    "\n",
    "# model_spec.data['x'] = [[90,95,100],[105,110,115],[150,155,160]]\n",
    "\n",
    "pyjags_model = pyjags.Model(**model_spec.get_model_args())\n",
    "sample_data = pyjags_model.sample(**model_spec.get_sample_args())\n",
    "\n",
    "sample_handler = SampleHandler(sample_data)"
   ]
  },
  {
   "cell_type": "code",
   "execution_count": 10,
   "metadata": {
    "scrolled": false
   },
   "outputs": [
    {
     "data": {
      "text/html": [
       "<div>\n",
       "<style scoped>\n",
       "    .dataframe tbody tr th:only-of-type {\n",
       "        vertical-align: middle;\n",
       "    }\n",
       "\n",
       "    .dataframe tbody tr th {\n",
       "        vertical-align: top;\n",
       "    }\n",
       "\n",
       "    .dataframe thead th {\n",
       "        text-align: right;\n",
       "    }\n",
       "</style>\n",
       "<table border=\"1\" class=\"dataframe\">\n",
       "  <thead>\n",
       "    <tr style=\"text-align: right;\">\n",
       "      <th></th>\n",
       "      <th>mean</th>\n",
       "      <th>std dev</th>\n",
       "      <th>median</th>\n",
       "      <th>mode</th>\n",
       "      <th>HPD</th>\n",
       "      <th>95CI</th>\n",
       "    </tr>\n",
       "  </thead>\n",
       "  <tbody>\n",
       "    <tr>\n",
       "      <th>mu_0</th>\n",
       "      <td>95.035813</td>\n",
       "      <td>4.138689</td>\n",
       "      <td>95.095825</td>\n",
       "      <td>95.415328</td>\n",
       "      <td>[80.016, 105.952]</td>\n",
       "      <td>[86.708, 103.14]</td>\n",
       "    </tr>\n",
       "    <tr>\n",
       "      <th>mu_1</th>\n",
       "      <td>110.033591</td>\n",
       "      <td>4.353524</td>\n",
       "      <td>110.021229</td>\n",
       "      <td>109.245419</td>\n",
       "      <td>[97.432, 122.9]</td>\n",
       "      <td>[101.254, 118.885]</td>\n",
       "    </tr>\n",
       "    <tr>\n",
       "      <th>mu_2</th>\n",
       "      <td>155.031550</td>\n",
       "      <td>4.215691</td>\n",
       "      <td>154.925765</td>\n",
       "      <td>154.707835</td>\n",
       "      <td>[141.604, 165.222]</td>\n",
       "      <td>[146.772, 163.74]</td>\n",
       "    </tr>\n",
       "    <tr>\n",
       "      <th>sigma</th>\n",
       "      <td>6.647157</td>\n",
       "      <td>2.776734</td>\n",
       "      <td>5.983883</td>\n",
       "      <td>5.084359</td>\n",
       "      <td>[2.665, 16.119]</td>\n",
       "      <td>[3.414, 14.383]</td>\n",
       "    </tr>\n",
       "  </tbody>\n",
       "</table>\n",
       "</div>"
      ],
      "text/plain": [
       "             mean   std dev      median        mode                 HPD  \\\n",
       "mu_0    95.035813  4.138689   95.095825   95.415328   [80.016, 105.952]   \n",
       "mu_1   110.033591  4.353524  110.021229  109.245419     [97.432, 122.9]   \n",
       "mu_2   155.031550  4.215691  154.925765  154.707835  [141.604, 165.222]   \n",
       "sigma    6.647157  2.776734    5.983883    5.084359     [2.665, 16.119]   \n",
       "\n",
       "                     95CI  \n",
       "mu_0     [86.708, 103.14]  \n",
       "mu_1   [101.254, 118.885]  \n",
       "mu_2    [146.772, 163.74]  \n",
       "sigma     [3.414, 14.383]  "
      ]
     },
     "execution_count": 10,
     "metadata": {},
     "output_type": "execute_result"
    }
   ],
   "source": [
    "sample_handler.summarize()"
   ]
  },
  {
   "cell_type": "code",
   "execution_count": 11,
   "metadata": {
    "scrolled": false
   },
   "outputs": [
    {
     "name": "stdout",
     "output_type": "stream",
     "text": [
      "all PSRF values < 1.05 | maximum PSRF: sigma at 1.010567965806274.\n"
     ]
    },
    {
     "data": {
      "image/png": "[encoded data removed]",
      "text/plain": [
       "<Figure size 432x288 with 1 Axes>"
      ]
     },
     "metadata": {
      "needs_background": "light"
     },
     "output_type": "display_data"
    }
   ],
   "source": [
    "sample_handler.diagnostic()\n",
    "sample_handler.autocorr('mu_1')"
   ]
  }
 ],
 "metadata": {
  "kernelspec": {
   "display_name": "pyjagsBCM",
   "language": "python",
   "name": "pyjagsbcm"
  },
  "language_info": {
   "codemirror_mode": {
    "name": "ipython",
    "version": 3
   },
   "file_extension": ".py",
   "mimetype": "text/x-python",
   "name": "python",
   "nbconvert_exporter": "python",
   "pygments_lexer": "ipython3",
   "version": "3.7.0"
  }
 },
 "nbformat": 4,
 "nbformat_minor": 2
}
