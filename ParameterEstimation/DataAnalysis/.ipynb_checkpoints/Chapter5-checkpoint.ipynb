{
 "cells": [
  {
   "cell_type": "markdown",
   "metadata": {},
   "source": [
    "# Chapter 5 - Examples of Data Analysis"
   ]
  },
  {
   "cell_type": "code",
   "execution_count": 1,
   "metadata": {},
   "outputs": [],
   "source": [
    "import pyjags\n",
    "import os\n",
    "\n",
    "# this import assumes pjbcmassistant.py is two folders\n",
    "# above this notebook. You may need to redirect it if\n",
    "# you get a ModuleNotFoundError.\n",
    "nb_path = os.getcwd()\n",
    "parent_path = os.path.split(nb_path)[0]\n",
    "os.chdir(os.path.split(parent_path)[0])\n",
    "from pjbcmassistant import ModelHandler, SampleHandler\n",
    "os.chdir(nb_path)"
   ]
  },
  {
   "cell_type": "markdown",
   "metadata": {},
   "source": [
    "## 5.1 - Pearson Correlation"
   ]
  },
  {
   "cell_type": "code",
   "execution_count": 2,
   "metadata": {
    "scrolled": true
   },
   "outputs": [
    {
     "name": "stdout",
     "output_type": "stream",
     "text": [
      "adapting: iterations 3000 of 3000, elapsed 0:00:00, remaining 0:00:00\n",
      "sampling: iterations 3000 of 3000, elapsed 0:00:00, remaining 0:00:00\n"
     ]
    }
   ],
   "source": [
    "spec = \"\"\"\n",
    "model:\n",
    "Correlation_1.txt\n",
    "\n",
    "settings:\n",
    "chains = 3\n",
    "samples = 1000\n",
    "thinning = 0\n",
    "burnin = 1000\n",
    "\n",
    "data:\n",
    "x = [[0.8, 102],[1.0,  98],[0.5, 100],[0.9, 105],[0.7, 103],[0.4, 110],[1.2,  99],[1.4,  87],[0.6, 113],[1.1,  89],[1.3,  93]]\n",
    "n = np.shape(x)[0]\n",
    "\n",
    "sample:\n",
    "r\n",
    "mu\n",
    "sigma\n",
    "\n",
    "\"\"\"\n",
    "\n",
    "model_spec = ModelHandler(spec)\n",
    "\n",
    "pyjags_model = pyjags.Model(**model_spec.get_model_args())\n",
    "sample_data = pyjags_model.sample(**model_spec.get_sample_args())\n",
    "\n",
    "sample_handler = SampleHandler(sample_data)"
   ]
  },
  {
   "cell_type": "code",
   "execution_count": 3,
   "metadata": {
    "scrolled": true
   },
   "outputs": [
    {
     "data": {
      "text/html": [
       "<div>\n",
       "<style scoped>\n",
       "    .dataframe tbody tr th:only-of-type {\n",
       "        vertical-align: middle;\n",
       "    }\n",
       "\n",
       "    .dataframe tbody tr th {\n",
       "        vertical-align: top;\n",
       "    }\n",
       "\n",
       "    .dataframe thead th {\n",
       "        text-align: right;\n",
       "    }\n",
       "</style>\n",
       "<table border=\"1\" class=\"dataframe\">\n",
       "  <thead>\n",
       "    <tr style=\"text-align: right;\">\n",
       "      <th></th>\n",
       "      <th>mean</th>\n",
       "      <th>std dev</th>\n",
       "      <th>median</th>\n",
       "      <th>mode</th>\n",
       "      <th>HPD</th>\n",
       "      <th>95CI</th>\n",
       "    </tr>\n",
       "  </thead>\n",
       "  <tbody>\n",
       "    <tr>\n",
       "      <th>mu_0</th>\n",
       "      <td>0.918265</td>\n",
       "      <td>0.103398</td>\n",
       "      <td>0.917857</td>\n",
       "      <td>0.924729</td>\n",
       "      <td>[0.719, 1.127]</td>\n",
       "      <td>[0.719, 1.127]</td>\n",
       "    </tr>\n",
       "    <tr>\n",
       "      <th>mu_1</th>\n",
       "      <td>99.344894</td>\n",
       "      <td>2.528327</td>\n",
       "      <td>99.379642</td>\n",
       "      <td>98.742918</td>\n",
       "      <td>[94.339, 104.393]</td>\n",
       "      <td>[94.145, 104.289]</td>\n",
       "    </tr>\n",
       "    <tr>\n",
       "      <th>r</th>\n",
       "      <td>-0.698848</td>\n",
       "      <td>0.161325</td>\n",
       "      <td>-0.729713</td>\n",
       "      <td>-0.841345</td>\n",
       "      <td>[-0.949, -0.381]</td>\n",
       "      <td>[-0.918, -0.298]</td>\n",
       "    </tr>\n",
       "    <tr>\n",
       "      <th>sigma_0</th>\n",
       "      <td>0.343972</td>\n",
       "      <td>0.080795</td>\n",
       "      <td>0.330448</td>\n",
       "      <td>0.307926</td>\n",
       "      <td>[0.219, 0.513]</td>\n",
       "      <td>[0.227, 0.54]</td>\n",
       "    </tr>\n",
       "    <tr>\n",
       "      <th>sigma_1</th>\n",
       "      <td>8.389056</td>\n",
       "      <td>1.970747</td>\n",
       "      <td>8.076302</td>\n",
       "      <td>7.590655</td>\n",
       "      <td>[5.239, 12.353]</td>\n",
       "      <td>[5.571, 13.218]</td>\n",
       "    </tr>\n",
       "  </tbody>\n",
       "</table>\n",
       "</div>"
      ],
      "text/plain": [
       "              mean   std dev     median       mode                HPD  \\\n",
       "mu_0      0.918265  0.103398   0.917857   0.924729     [0.719, 1.127]   \n",
       "mu_1     99.344894  2.528327  99.379642  98.742918  [94.339, 104.393]   \n",
       "r        -0.698848  0.161325  -0.729713  -0.841345   [-0.949, -0.381]   \n",
       "sigma_0   0.343972  0.080795   0.330448   0.307926     [0.219, 0.513]   \n",
       "sigma_1   8.389056  1.970747   8.076302   7.590655    [5.239, 12.353]   \n",
       "\n",
       "                      95CI  \n",
       "mu_0        [0.719, 1.127]  \n",
       "mu_1     [94.145, 104.289]  \n",
       "r         [-0.918, -0.298]  \n",
       "sigma_0      [0.227, 0.54]  \n",
       "sigma_1    [5.571, 13.218]  "
      ]
     },
     "execution_count": 3,
     "metadata": {},
     "output_type": "execute_result"
    }
   ],
   "source": [
    "sample_handler.summarize()"
   ]
  },
  {
   "cell_type": "code",
   "execution_count": 4,
   "metadata": {
    "scrolled": false
   },
   "outputs": [
    {
     "data": {
      "image/png": "[encoded data removed]",
      "text/plain": [
       "<Figure size 432x288 with 1 Axes>"
      ]
     },
     "metadata": {
      "needs_background": "light"
     },
     "output_type": "display_data"
    },
    {
     "data": {
      "image/png": "[encoded data removed]",
      "text/plain": [
       "<Figure size 360x360 with 1 Axes>"
      ]
     },
     "metadata": {
      "needs_background": "light"
     },
     "output_type": "display_data"
    },
    {
     "name": "stdout",
     "output_type": "stream",
     "text": [
      "maximum density observed across 1000 bins was at x = -0.7858\n"
     ]
    }
   ],
   "source": [
    "#Plot the input data:\n",
    "# This plot format could be rolled into the assistant\n",
    "import matplotlib.pyplot as plt\n",
    "import numpy as np\n",
    "\n",
    "x = np.array(model_spec.data['x'])[:,0]\n",
    "y = np.array(model_spec.data['x'])[:,1]\n",
    "\n",
    "plt.xlabel('RT')\n",
    "plt.ylabel('IQ')\n",
    "plt.title('Reaction time by IQ in collected data')\n",
    "plt.scatter(x, y);\n",
    "\n",
    "#visualize the posterior density\n",
    "sample_handler.vizkde('r', range=(-1,1), showmax=True)\n"
   ]
  },
  {
   "cell_type": "markdown",
   "metadata": {},
   "source": [
    "## 5.2 - Pearson Correlation with Uncertainty"
   ]
  },
  {
   "cell_type": "code",
   "execution_count": 5,
   "metadata": {
    "scrolled": true
   },
   "outputs": [
    {
     "name": "stdout",
     "output_type": "stream",
     "text": [
      "adapting: iterations 3000 of 3000, elapsed 0:00:01, remaining 0:00:00\n",
      "sampling: iterations 9000 of 9000, elapsed 0:00:02, remaining 0:00:00\n"
     ]
    }
   ],
   "source": [
    "spec_string = \"\"\"\n",
    "model:\n",
    "Correlation_2.txt\n",
    "\n",
    "settings:\n",
    "chains = 3\n",
    "samples = 3000\n",
    "thinning = 0\n",
    "burnin = 1000\n",
    "\n",
    "data:\n",
    "# This is pushing the complexity of what should be passed to ModelHandler\n",
    "# via the spec string. These calculations could happen outside, and be\n",
    "# passed into the handler using ModelHandler.set_data\n",
    "\n",
    "x = [[0.8, 102],[1.0,  98],[0.5, 100],[0.9, 105],[0.7, 103],[0.4, 110],[1.2,  99],[1.4,  87],[0.6, 113],[1.1,  89],[1.3,  93]]\n",
    "n = np.shape(x)[0]\n",
    "lambdaerror = np.divide(1,(np.square(np.array([.03, 10]))))\n",
    "\n",
    "\n",
    "sample:\n",
    "r\n",
    "mu\n",
    "sigma\n",
    "\n",
    "\"\"\"\n",
    "\n",
    "model_spec = ModelHandler(spec_string)\n",
    "\n",
    "pyjags_model = pyjags.Model(**model_spec.get_model_args())\n",
    "sample_data = pyjags_model.sample(**model_spec.get_sample_args())\n",
    "\n",
    "sample_handler = SampleHandler(sample_data)"
   ]
  },
  {
   "cell_type": "code",
   "execution_count": 6,
   "metadata": {
    "scrolled": true
   },
   "outputs": [
    {
     "data": {
      "text/html": [
       "<div>\n",
       "<style scoped>\n",
       "    .dataframe tbody tr th:only-of-type {\n",
       "        vertical-align: middle;\n",
       "    }\n",
       "\n",
       "    .dataframe tbody tr th {\n",
       "        vertical-align: top;\n",
       "    }\n",
       "\n",
       "    .dataframe thead th {\n",
       "        text-align: right;\n",
       "    }\n",
       "</style>\n",
       "<table border=\"1\" class=\"dataframe\">\n",
       "  <thead>\n",
       "    <tr style=\"text-align: right;\">\n",
       "      <th></th>\n",
       "      <th>mean</th>\n",
       "      <th>std dev</th>\n",
       "      <th>median</th>\n",
       "      <th>mode</th>\n",
       "      <th>HPD</th>\n",
       "      <th>95CI</th>\n",
       "    </tr>\n",
       "  </thead>\n",
       "  <tbody>\n",
       "    <tr>\n",
       "      <th>mu_0</th>\n",
       "      <td>0.907259</td>\n",
       "      <td>0.110544</td>\n",
       "      <td>0.906623</td>\n",
       "      <td>0.911837</td>\n",
       "      <td>[0.681, 1.119]</td>\n",
       "      <td>[0.686, 1.125]</td>\n",
       "    </tr>\n",
       "    <tr>\n",
       "      <th>mu_1</th>\n",
       "      <td>98.780162</td>\n",
       "      <td>3.645419</td>\n",
       "      <td>98.819896</td>\n",
       "      <td>99.698354</td>\n",
       "      <td>[92.159, 105.646]</td>\n",
       "      <td>[91.807, 105.442]</td>\n",
       "    </tr>\n",
       "    <tr>\n",
       "      <th>r</th>\n",
       "      <td>-0.418279</td>\n",
       "      <td>0.512740</td>\n",
       "      <td>-0.584163</td>\n",
       "      <td>-0.949799</td>\n",
       "      <td>[-1.0, 0.664]</td>\n",
       "      <td>[-0.983, 0.81]</td>\n",
       "    </tr>\n",
       "    <tr>\n",
       "      <th>sigma_0</th>\n",
       "      <td>0.353192</td>\n",
       "      <td>0.088929</td>\n",
       "      <td>0.336948</td>\n",
       "      <td>0.325233</td>\n",
       "      <td>[0.212, 0.527]</td>\n",
       "      <td>[0.228, 0.569]</td>\n",
       "    </tr>\n",
       "    <tr>\n",
       "      <th>sigma_1</th>\n",
       "      <td>3.407965</td>\n",
       "      <td>3.159049</td>\n",
       "      <td>2.421636</td>\n",
       "      <td>0.765593</td>\n",
       "      <td>[0.13, 9.796]</td>\n",
       "      <td>[0.235, 11.154]</td>\n",
       "    </tr>\n",
       "  </tbody>\n",
       "</table>\n",
       "</div>"
      ],
      "text/plain": [
       "              mean   std dev     median       mode                HPD  \\\n",
       "mu_0      0.907259  0.110544   0.906623   0.911837     [0.681, 1.119]   \n",
       "mu_1     98.780162  3.645419  98.819896  99.698354  [92.159, 105.646]   \n",
       "r        -0.418279  0.512740  -0.584163  -0.949799      [-1.0, 0.664]   \n",
       "sigma_0   0.353192  0.088929   0.336948   0.325233     [0.212, 0.527]   \n",
       "sigma_1   3.407965  3.159049   2.421636   0.765593      [0.13, 9.796]   \n",
       "\n",
       "                      95CI  \n",
       "mu_0        [0.686, 1.125]  \n",
       "mu_1     [91.807, 105.442]  \n",
       "r           [-0.983, 0.81]  \n",
       "sigma_0     [0.228, 0.569]  \n",
       "sigma_1    [0.235, 11.154]  "
      ]
     },
     "execution_count": 6,
     "metadata": {},
     "output_type": "execute_result"
    }
   ],
   "source": [
    "sample_handler.summarize()"
   ]
  },
  {
   "cell_type": "code",
   "execution_count": 7,
   "metadata": {
    "scrolled": false
   },
   "outputs": [
    {
     "data": {
      "image/png": "[encoded data removed]",
      "text/plain": [
       "<Figure size 432x288 with 1 Axes>"
      ]
     },
     "metadata": {
      "needs_background": "light"
     },
     "output_type": "display_data"
    },
    {
     "data": {
      "image/png": "[encoded data removed]",
      "text/plain": [
       "<Figure size 360x360 with 1 Axes>"
      ]
     },
     "metadata": {
      "needs_background": "light"
     },
     "output_type": "display_data"
    },
    {
     "name": "stdout",
     "output_type": "stream",
     "text": [
      "maximum density observed across 1000 bins was at x = -0.8819\n"
     ]
    }
   ],
   "source": [
    "#Plot the input data:\n",
    "#####roll this into assistant if we need it\n",
    "import matplotlib.pyplot as plt\n",
    "import numpy as np\n",
    "\n",
    "datax = np.array(model_spec.data['x'])[:,0]\n",
    "datay = np.array(model_spec.data['x'])[:,1]\n",
    "\n",
    "plt.xlabel('RT')\n",
    "plt.ylabel('IQ')\n",
    "plt.title('Reaction time by IQ in collected data \\n (with error bars)')\n",
    "plt.errorbar(datax, datay, xerr=.03, yerr=10, fmt='k.');\n",
    "\n",
    "#visualize the posterior density\n",
    "sample_handler.vizkde('r', range=(-1,1), showmax=True)\n"
   ]
  },
  {
   "cell_type": "markdown",
   "metadata": {},
   "source": [
    "## 5.3 - The Kappa Coefficient of Agreement"
   ]
  },
  {
   "cell_type": "code",
   "execution_count": 8,
   "metadata": {
    "scrolled": true
   },
   "outputs": [
    {
     "name": "stdout",
     "output_type": "stream",
     "text": [
      "adapting: iterations 3000 of 3000, elapsed 0:00:00, remaining 0:00:00\n",
      "sampling: iterations 9000 of 9000, elapsed 0:00:00, remaining 0:00:00\n"
     ]
    }
   ],
   "source": [
    "spec_string = \"\"\"\n",
    "model:\n",
    "Kappa.txt\n",
    "\n",
    "settings:\n",
    "chains = 3\n",
    "samples = 3000\n",
    "thinning = 0\n",
    "burnin = 1000\n",
    "\n",
    "data:\n",
    "#y = [14, 4, 5, 210]   # Influenza\n",
    "#y = [20, 7, 103, 417] # Hearing Loss\n",
    "y = [0, 0, 13, 157]  # Rare Disease\n",
    "\n",
    "n = sum(y)\n",
    "\n",
    "sample:\n",
    "kappa\n",
    "xi\n",
    "psi\n",
    "alpha\n",
    "beta\n",
    "gamma\n",
    "pi\n",
    "\n",
    "\"\"\"\n",
    "\n",
    "model_spec = ModelHandler(spec_string)\n",
    "\n",
    "pyjags_model = pyjags.Model(**model_spec.get_model_args())\n",
    "sample_data = pyjags_model.sample(**model_spec.get_sample_args())\n",
    "\n",
    "sample_handler = SampleHandler(sample_data)"
   ]
  },
  {
   "cell_type": "code",
   "execution_count": 9,
   "metadata": {
    "scrolled": true
   },
   "outputs": [
    {
     "data": {
      "text/html": [
       "<div>\n",
       "<style scoped>\n",
       "    .dataframe tbody tr th:only-of-type {\n",
       "        vertical-align: middle;\n",
       "    }\n",
       "\n",
       "    .dataframe tbody tr th {\n",
       "        vertical-align: top;\n",
       "    }\n",
       "\n",
       "    .dataframe thead th {\n",
       "        text-align: right;\n",
       "    }\n",
       "</style>\n",
       "<table border=\"1\" class=\"dataframe\">\n",
       "  <thead>\n",
       "    <tr style=\"text-align: right;\">\n",
       "      <th></th>\n",
       "      <th>mean</th>\n",
       "      <th>std dev</th>\n",
       "      <th>median</th>\n",
       "      <th>mode</th>\n",
       "      <th>HPD</th>\n",
       "      <th>95CI</th>\n",
       "    </tr>\n",
       "  </thead>\n",
       "  <tbody>\n",
       "    <tr>\n",
       "      <th>alpha</th>\n",
       "      <td>0.005683</td>\n",
       "      <td>0.005492</td>\n",
       "      <td>0.003972</td>\n",
       "      <td>0.000199</td>\n",
       "      <td>[0.0, 0.017]</td>\n",
       "      <td>[0.0, 0.02]</td>\n",
       "    </tr>\n",
       "    <tr>\n",
       "      <th>beta</th>\n",
       "      <td>0.499533</td>\n",
       "      <td>0.290291</td>\n",
       "      <td>0.496058</td>\n",
       "      <td>0.654847</td>\n",
       "      <td>[0.038, 0.987]</td>\n",
       "      <td>[0.024, 0.975]</td>\n",
       "    </tr>\n",
       "    <tr>\n",
       "      <th>gamma</th>\n",
       "      <td>0.918347</td>\n",
       "      <td>0.020730</td>\n",
       "      <td>0.920006</td>\n",
       "      <td>0.918095</td>\n",
       "      <td>[0.879, 0.958]</td>\n",
       "      <td>[0.874, 0.954]</td>\n",
       "    </tr>\n",
       "    <tr>\n",
       "      <th>kappa</th>\n",
       "      <td>0.051662</td>\n",
       "      <td>0.064243</td>\n",
       "      <td>0.027907</td>\n",
       "      <td>0.004502</td>\n",
       "      <td>[-0.014, 0.195]</td>\n",
       "      <td>[-0.006, 0.232]</td>\n",
       "    </tr>\n",
       "    <tr>\n",
       "      <th>pi_0</th>\n",
       "      <td>0.002836</td>\n",
       "      <td>0.003587</td>\n",
       "      <td>0.001546</td>\n",
       "      <td>0.000166</td>\n",
       "      <td>[0.0, 0.01]</td>\n",
       "      <td>[0.0, 0.013]</td>\n",
       "    </tr>\n",
       "    <tr>\n",
       "      <th>pi_1</th>\n",
       "      <td>0.002847</td>\n",
       "      <td>0.003526</td>\n",
       "      <td>0.001565</td>\n",
       "      <td>0.000158</td>\n",
       "      <td>[0.0, 0.01]</td>\n",
       "      <td>[0.0, 0.013]</td>\n",
       "    </tr>\n",
       "    <tr>\n",
       "      <th>pi_2</th>\n",
       "      <td>0.081189</td>\n",
       "      <td>0.020621</td>\n",
       "      <td>0.079525</td>\n",
       "      <td>0.076310</td>\n",
       "      <td>[0.042, 0.121]</td>\n",
       "      <td>[0.046, 0.125]</td>\n",
       "    </tr>\n",
       "    <tr>\n",
       "      <th>pi_3</th>\n",
       "      <td>0.913128</td>\n",
       "      <td>0.021205</td>\n",
       "      <td>0.914609</td>\n",
       "      <td>0.913747</td>\n",
       "      <td>[0.87, 0.952]</td>\n",
       "      <td>[0.866, 0.95]</td>\n",
       "    </tr>\n",
       "    <tr>\n",
       "      <th>psi</th>\n",
       "      <td>0.911271</td>\n",
       "      <td>0.021583</td>\n",
       "      <td>0.912797</td>\n",
       "      <td>0.910305</td>\n",
       "      <td>[0.869, 0.952]</td>\n",
       "      <td>[0.863, 0.949]</td>\n",
       "    </tr>\n",
       "    <tr>\n",
       "      <th>xi</th>\n",
       "      <td>0.915964</td>\n",
       "      <td>0.020860</td>\n",
       "      <td>0.917659</td>\n",
       "      <td>0.913352</td>\n",
       "      <td>[0.875, 0.955]</td>\n",
       "      <td>[0.871, 0.952]</td>\n",
       "    </tr>\n",
       "  </tbody>\n",
       "</table>\n",
       "</div>"
      ],
      "text/plain": [
       "           mean   std dev    median      mode              HPD  \\\n",
       "alpha  0.005683  0.005492  0.003972  0.000199     [0.0, 0.017]   \n",
       "beta   0.499533  0.290291  0.496058  0.654847   [0.038, 0.987]   \n",
       "gamma  0.918347  0.020730  0.920006  0.918095   [0.879, 0.958]   \n",
       "kappa  0.051662  0.064243  0.027907  0.004502  [-0.014, 0.195]   \n",
       "pi_0   0.002836  0.003587  0.001546  0.000166      [0.0, 0.01]   \n",
       "pi_1   0.002847  0.003526  0.001565  0.000158      [0.0, 0.01]   \n",
       "pi_2   0.081189  0.020621  0.079525  0.076310   [0.042, 0.121]   \n",
       "pi_3   0.913128  0.021205  0.914609  0.913747    [0.87, 0.952]   \n",
       "psi    0.911271  0.021583  0.912797  0.910305   [0.869, 0.952]   \n",
       "xi     0.915964  0.020860  0.917659  0.913352   [0.875, 0.955]   \n",
       "\n",
       "                  95CI  \n",
       "alpha      [0.0, 0.02]  \n",
       "beta    [0.024, 0.975]  \n",
       "gamma   [0.874, 0.954]  \n",
       "kappa  [-0.006, 0.232]  \n",
       "pi_0      [0.0, 0.013]  \n",
       "pi_1      [0.0, 0.013]  \n",
       "pi_2    [0.046, 0.125]  \n",
       "pi_3     [0.866, 0.95]  \n",
       "psi     [0.863, 0.949]  \n",
       "xi      [0.871, 0.952]  "
      ]
     },
     "execution_count": 9,
     "metadata": {},
     "output_type": "execute_result"
    }
   ],
   "source": [
    "sample_handler.summarize()"
   ]
  },
  {
   "cell_type": "code",
   "execution_count": 10,
   "metadata": {
    "scrolled": true
   },
   "outputs": [
    {
     "data": {
      "image/png": "[encoded data removed]",
      "text/plain": [
       "<Figure size 432x288 with 4 Axes>"
      ]
     },
     "metadata": {
      "needs_background": "light"
     },
     "output_type": "display_data"
    }
   ],
   "source": [
    "sample_handler.vizhist('alpha','beta','gamma')"
   ]
  },
  {
   "cell_type": "code",
   "execution_count": 11,
   "metadata": {
    "scrolled": true
   },
   "outputs": [
    {
     "name": "stdout",
     "output_type": "stream",
     "text": [
      "all PSRF values < 1.05 | maximum PSRF: beta at 1.00044561300549.\n"
     ]
    },
    {
     "data": {
      "image/png": "[encoded data removed]",
      "text/plain": [
       "<Figure size 432x288 with 1 Axes>"
      ]
     },
     "metadata": {
      "needs_background": "light"
     },
     "output_type": "display_data"
    }
   ],
   "source": [
    "sample_handler.diagnostic()\n",
    "sample_handler.autocorr('gamma')"
   ]
  },
  {
   "cell_type": "markdown",
   "metadata": {},
   "source": [
    "## 5.4 - Change Detection in Time Series Data"
   ]
  },
  {
   "cell_type": "code",
   "execution_count": 12,
   "metadata": {},
   "outputs": [],
   "source": [
    "timeseries = np.array([float(i) for i in open('changepointdata.txt','r')])"
   ]
  },
  {
   "cell_type": "code",
   "execution_count": 13,
   "metadata": {
    "scrolled": false
   },
   "outputs": [
    {
     "name": "stdout",
     "output_type": "stream",
     "text": [
      "adapting: iterations 3000 of 3000, elapsed 0:00:05, remaining 0:00:00\n",
      "adapting: iterations 3000 of 3000, elapsed 0:00:05, remaining 0:00:00\n",
      "sampling: iterations 5391 of 9000, elapsed 0:00:09, remaining 0:00:06\n",
      "sampling: iterations 8283 of 9000, elapsed 0:00:14, remaining 0:00:01\n",
      "sampling: iterations 9000 of 9000, elapsed 0:00:16, remaining 0:00:00\n"
     ]
    }
   ],
   "source": [
    "spec_string = \"\"\"\n",
    "model:\n",
    "ChangeDetection.txt\n",
    "\n",
    "settings:\n",
    "chains = 3\n",
    "samples = 3000\n",
    "thinning = 0\n",
    "burnin = 1000\n",
    "\n",
    "data:\n",
    "#all data calculated below.\n",
    "\n",
    "sample:\n",
    "mu\n",
    "sigma\n",
    "tau\n",
    "\n",
    "\"\"\"\n",
    "\n",
    "model_spec = ModelHandler(spec_string)\n",
    "\n",
    "\n",
    "#data values are calculated and passed to the handler.\n",
    "time_series = np.array([float(i) for i in open('changepointdata.txt','r')])\n",
    "model_spec.set_data('c', time_series)\n",
    "model_spec.set_data('n', len(time_series))\n",
    "model_spec.set_data('t', [i for i in range(len(time_series))])\n",
    "\n",
    "pyjags_model = pyjags.Model(**model_spec.get_model_args())\n",
    "sample_data = pyjags_model.sample(**model_spec.get_sample_args())\n",
    "\n",
    "sample_handler = SampleHandler(sample_data)"
   ]
  },
  {
   "cell_type": "code",
   "execution_count": 14,
   "metadata": {
    "scrolled": true
   },
   "outputs": [
    {
     "data": {
      "text/html": [
       "<div>\n",
       "<style scoped>\n",
       "    .dataframe tbody tr th:only-of-type {\n",
       "        vertical-align: middle;\n",
       "    }\n",
       "\n",
       "    .dataframe tbody tr th {\n",
       "        vertical-align: top;\n",
       "    }\n",
       "\n",
       "    .dataframe thead th {\n",
       "        text-align: right;\n",
       "    }\n",
       "</style>\n",
       "<table border=\"1\" class=\"dataframe\">\n",
       "  <thead>\n",
       "    <tr style=\"text-align: right;\">\n",
       "      <th></th>\n",
       "      <th>mean</th>\n",
       "      <th>std dev</th>\n",
       "      <th>median</th>\n",
       "      <th>mode</th>\n",
       "      <th>HPD</th>\n",
       "      <th>95CI</th>\n",
       "    </tr>\n",
       "  </thead>\n",
       "  <tbody>\n",
       "    <tr>\n",
       "      <th>mu_0</th>\n",
       "      <td>37.889434</td>\n",
       "      <td>0.253630</td>\n",
       "      <td>37.890089</td>\n",
       "      <td>37.924693</td>\n",
       "      <td>[37.393, 38.395]</td>\n",
       "      <td>[37.383, 38.386]</td>\n",
       "    </tr>\n",
       "    <tr>\n",
       "      <th>mu_1</th>\n",
       "      <td>30.571241</td>\n",
       "      <td>0.322747</td>\n",
       "      <td>30.572495</td>\n",
       "      <td>30.577318</td>\n",
       "      <td>[29.91, 31.176]</td>\n",
       "      <td>[29.943, 31.218]</td>\n",
       "    </tr>\n",
       "    <tr>\n",
       "      <th>sigma</th>\n",
       "      <td>6.846572</td>\n",
       "      <td>0.140238</td>\n",
       "      <td>6.842700</td>\n",
       "      <td>6.802190</td>\n",
       "      <td>[6.565, 7.114]</td>\n",
       "      <td>[6.578, 7.129]</td>\n",
       "    </tr>\n",
       "    <tr>\n",
       "      <th>tau</th>\n",
       "      <td>731.473645</td>\n",
       "      <td>2.531230</td>\n",
       "      <td>730.794733</td>\n",
       "      <td>730.665970</td>\n",
       "      <td>[728.001, 737.214]</td>\n",
       "      <td>[728.021, 737.295]</td>\n",
       "    </tr>\n",
       "  </tbody>\n",
       "</table>\n",
       "</div>"
      ],
      "text/plain": [
       "             mean   std dev      median        mode                 HPD  \\\n",
       "mu_0    37.889434  0.253630   37.890089   37.924693    [37.393, 38.395]   \n",
       "mu_1    30.571241  0.322747   30.572495   30.577318     [29.91, 31.176]   \n",
       "sigma    6.846572  0.140238    6.842700    6.802190      [6.565, 7.114]   \n",
       "tau    731.473645  2.531230  730.794733  730.665970  [728.001, 737.214]   \n",
       "\n",
       "                     95CI  \n",
       "mu_0     [37.383, 38.386]  \n",
       "mu_1     [29.943, 31.218]  \n",
       "sigma      [6.578, 7.129]  \n",
       "tau    [728.021, 737.295]  "
      ]
     },
     "execution_count": 14,
     "metadata": {},
     "output_type": "execute_result"
    }
   ],
   "source": [
    "sample_handler.summarize()"
   ]
  },
  {
   "cell_type": "code",
   "execution_count": 15,
   "metadata": {
    "scrolled": false
   },
   "outputs": [
    {
     "data": {
      "image/png": "[encoded data removed]",
      "text/plain": [
       "<Figure size 432x288 with 4 Axes>"
      ]
     },
     "metadata": {
      "needs_background": "light"
     },
     "output_type": "display_data"
    }
   ],
   "source": [
    "sample_handler.vizhist('tau','mu_0','mu_1','sigma')\n",
    "#TODO: fix this visualization layout."
   ]
  },
  {
   "cell_type": "code",
   "execution_count": 16,
   "metadata": {
    "scrolled": true
   },
   "outputs": [
    {
     "data": {
      "image/png": "[encoded data removed]",
      "text/plain": [
       "<Figure size 432x288 with 1 Axes>"
      ]
     },
     "metadata": {
      "needs_background": "light"
     },
     "output_type": "display_data"
    }
   ],
   "source": [
    "sample_handler.autocorr('tau')"
   ]
  },
  {
   "cell_type": "code",
   "execution_count": 17,
   "metadata": {
    "scrolled": true
   },
   "outputs": [
    {
     "data": {
      "image/png": "[encoded data removed]",
      "text/plain": [
       "<Figure size 432x288 with 1 Axes>"
      ]
     },
     "metadata": {
      "needs_background": "light"
     },
     "output_type": "display_data"
    }
   ],
   "source": [
    "plt.plot(model_spec.data['c'])\n",
    "plt.plot([sample_handler.get_statistic('mu_0','mean') for i in range(int(sample_handler.get_statistic('tau','mean')))]+[sample_handler.get_statistic('mu_1','mean') for i in range(model_spec.data['n'] - int(sample_handler.get_statistic('tau','mean')))]);\n",
    "#TODO: write this elegantly."
   ]
  },
  {
   "cell_type": "markdown",
   "metadata": {},
   "source": [
    "## 5.5 - Censored Data"
   ]
  },
  {
   "cell_type": "markdown",
   "metadata": {},
   "source": [
    "Censored/missing data must be set as NaN values. This can be done using `float('nan')` or `numpy.nan`.\n",
    "\n",
    "Alternatively, data can be passed as a `numpy` array with the censored/missing values masked."
   ]
  },
  {
   "cell_type": "code",
   "execution_count": 18,
   "metadata": {
    "scrolled": true
   },
   "outputs": [
    {
     "name": "stdout",
     "output_type": "stream",
     "text": [
      "adapting: iterations 997 of 1000, elapsed 0:00:09, remaining 0:00:00\n",
      "adapting: iterations 1000 of 1000, elapsed 0:00:09, remaining 0:00:00\n",
      "sampling: iterations 100 of 100, elapsed 0:00:01, remaining 0:00:00\n"
     ]
    }
   ],
   "source": [
    "spec_string = \"\"\"\n",
    "model:\n",
    "ChaSaSoonJ.txt\n",
    "\n",
    "settings:\n",
    "chains = 1 #3\n",
    "samples = 100 #2000\n",
    "thinning = 0\n",
    "burnin = 1000\n",
    "\n",
    "data:\n",
    "nattempts = 950\n",
    "n = 50\n",
    "# more data is passed to the model below.\n",
    "\n",
    "sample:\n",
    "theta\n",
    "z\n",
    "\n",
    "\"\"\"\n",
    "\n",
    "model_spec = ModelHandler(spec_string)\n",
    "\n",
    "#data values are generated:\n",
    "nattempts = 950\n",
    "nfails = 949\n",
    "censoring = np.append(np.ones(nfails),0)\n",
    "scores = np.empty(nattempts)\n",
    "scores[:] = float('nan') #censored data is represented with float('nan')\n",
    "scores[-1] = 30\n",
    "\n",
    "#data values are passed to the model\n",
    "model_spec.set_data('y', censoring)\n",
    "model_spec.set_data('z', scores)\n",
    "\n",
    "\n",
    "pyjags_model = pyjags.Model(**model_spec.get_model_args())\n",
    "sample_data = pyjags_model.sample(**model_spec.get_sample_args())\n",
    "\n",
    "sample_handler = SampleHandler(sample_data)"
   ]
  },
  {
   "cell_type": "code",
   "execution_count": 19,
   "metadata": {},
   "outputs": [
    {
     "data": {
      "image/png": "[encoded data removed]",
      "text/plain": [
       "<Figure size 360x360 with 1 Axes>"
      ]
     },
     "metadata": {
      "needs_background": "light"
     },
     "output_type": "display_data"
    }
   ],
   "source": [
    "sample_handler.vizkde('theta')"
   ]
  },
  {
   "cell_type": "markdown",
   "metadata": {},
   "source": [
    "## 5.6 - Recapturing Planes"
   ]
  },
  {
   "cell_type": "code",
   "execution_count": 20,
   "metadata": {
    "scrolled": true
   },
   "outputs": [
    {
     "name": "stdout",
     "output_type": "stream",
     "text": [
      "sampling: iterations 9000 of 9000, elapsed 0:00:03, remaining 0:00:00\n"
     ]
    }
   ],
   "source": [
    "spec_string = \"\"\"\n",
    "model:\n",
    "PlanesJ.txt\n",
    "\n",
    "settings:\n",
    "chains = 3\n",
    "samples = 3000\n",
    "thinning = 0\n",
    "burnin = 1000\n",
    "\n",
    "data:\n",
    "x = 10     # Number in first sample\n",
    "k = 0      # Number \"re-captured\" in second sample\n",
    "n = 5      # Size of second sample\n",
    "tmax = 500  # Total possible number\n",
    "\n",
    "\n",
    "sample:\n",
    "t\n",
    "\n",
    "\n",
    "\"\"\"\n",
    "\n",
    "model_spec = ModelHandler(spec_string)\n",
    "\n",
    "pyjags_model = pyjags.Model(**model_spec.get_model_args())\n",
    "sample_data = pyjags_model.sample(**model_spec.get_sample_args())\n",
    "\n",
    "sample_handler = SampleHandler(sample_data)"
   ]
  },
  {
   "cell_type": "code",
   "execution_count": 21,
   "metadata": {
    "scrolled": true
   },
   "outputs": [
    {
     "data": {
      "text/html": [
       "<div>\n",
       "<style scoped>\n",
       "    .dataframe tbody tr th:only-of-type {\n",
       "        vertical-align: middle;\n",
       "    }\n",
       "\n",
       "    .dataframe tbody tr th {\n",
       "        vertical-align: top;\n",
       "    }\n",
       "\n",
       "    .dataframe thead th {\n",
       "        text-align: right;\n",
       "    }\n",
       "</style>\n",
       "<table border=\"1\" class=\"dataframe\">\n",
       "  <thead>\n",
       "    <tr style=\"text-align: right;\">\n",
       "      <th></th>\n",
       "      <th>mean</th>\n",
       "      <th>std dev</th>\n",
       "      <th>median</th>\n",
       "      <th>mode</th>\n",
       "      <th>HPD</th>\n",
       "      <th>95CI</th>\n",
       "    </tr>\n",
       "  </thead>\n",
       "  <tbody>\n",
       "    <tr>\n",
       "      <th>t</th>\n",
       "      <td>293.072444</td>\n",
       "      <td>126.125769</td>\n",
       "      <td>300.0</td>\n",
       "      <td>285.955</td>\n",
       "      <td>[83.0, 500.0]</td>\n",
       "      <td>[64.0, 490.0]</td>\n",
       "    </tr>\n",
       "  </tbody>\n",
       "</table>\n",
       "</div>"
      ],
      "text/plain": [
       "         mean     std dev  median     mode            HPD           95CI\n",
       "t  293.072444  126.125769   300.0  285.955  [83.0, 500.0]  [64.0, 490.0]"
      ]
     },
     "execution_count": 21,
     "metadata": {},
     "output_type": "execute_result"
    }
   ],
   "source": [
    "sample_handler.summarize()"
   ]
  },
  {
   "cell_type": "code",
   "execution_count": 22,
   "metadata": {
    "scrolled": false
   },
   "outputs": [
    {
     "data": {
      "image/png": "[encoded data removed]",
      "text/plain": [
       "<Figure size 432x432 with 1 Axes>"
      ]
     },
     "metadata": {
      "needs_background": "light"
     },
     "output_type": "display_data"
    }
   ],
   "source": [
    "sample_handler.vizhist('t')"
   ]
  }
 ],
 "metadata": {
  "kernelspec": {
   "display_name": "pyjagsBCM",
   "language": "python",
   "name": "pyjagsbcm"
  },
  "language_info": {
   "codemirror_mode": {
    "name": "ipython",
    "version": 3
   },
   "file_extension": ".py",
   "mimetype": "text/x-python",
   "name": "python",
   "nbconvert_exporter": "python",
   "pygments_lexer": "ipython3",
   "version": "3.7.0"
  }
 },
 "nbformat": 4,
 "nbformat_minor": 2
}
