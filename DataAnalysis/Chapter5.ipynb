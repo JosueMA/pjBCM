{
 "cells": [
  {
   "cell_type": "markdown",
   "metadata": {},
   "source": [
    "# Chapter 5 - Examples of Data Analysis"
   ]
  },
  {
   "cell_type": "code",
   "execution_count": 1,
   "metadata": {},
   "outputs": [],
   "source": [
    "import pyjags\n",
    "#import assistant classes from parent directory\n",
    "#jupyter needs a standard way to do relative imports.\n",
    "import os\n",
    "nb_path = os.getcwd()\n",
    "parent_path = os.path.split(nb_path)[0]\n",
    "os.chdir(parent_path)\n",
    "from pjbcmassistant import model_handler\n",
    "from pjbcmassistant import sample_handler\n",
    "os.chdir(nb_path)"
   ]
  },
  {
   "cell_type": "markdown",
   "metadata": {},
   "source": [
    "## 5.1 - Pearson Correlation"
   ]
  },
  {
   "cell_type": "code",
   "execution_count": 2,
   "metadata": {
    "scrolled": true
   },
   "outputs": [
    {
     "name": "stdout",
     "output_type": "stream",
     "text": [
      "adapting: iterations 3000 of 3000, elapsed 0:00:00, remaining 0:00:00\n",
      "sampling: iterations 3000 of 3000, elapsed 0:00:00, remaining 0:00:00\n"
     ]
    }
   ],
   "source": [
    "spec = \"\"\"\n",
    "model:\n",
    "Correlation_1.txt\n",
    "\n",
    "settings:\n",
    "chains = 3\n",
    "samples = 1000\n",
    "thinning = 0\n",
    "burnin = 1000\n",
    "\n",
    "data:\n",
    "x = [[0.8, 102],[1.0,  98],[0.5, 100],[0.9, 105],[0.7, 103],[0.4, 110],[1.2,  99],[1.4,  87],[0.6, 113],[1.1,  89],[1.3,  93]]\n",
    "\n",
    "n = np.shape(x)[0]\n",
    "\n",
    "sample:\n",
    "r\n",
    "mu\n",
    "sigma\n",
    "\n",
    "\"\"\"\n",
    "\n",
    "modelbuddy = model_handler(spec)\n",
    "\n",
    "model = pyjags.Model(**modelbuddy.get_model_args())\n",
    "samples = model.sample(**modelbuddy.get_sample_args())\n",
    "\n",
    "samplebuddy = sample_handler(samples)"
   ]
  },
  {
   "cell_type": "code",
   "execution_count": 3,
   "metadata": {
    "scrolled": true
   },
   "outputs": [
    {
     "data": {
      "text/html": [
       "<div>\n",
       "<style scoped>\n",
       "    .dataframe tbody tr th:only-of-type {\n",
       "        vertical-align: middle;\n",
       "    }\n",
       "\n",
       "    .dataframe tbody tr th {\n",
       "        vertical-align: top;\n",
       "    }\n",
       "\n",
       "    .dataframe thead th {\n",
       "        text-align: right;\n",
       "    }\n",
       "</style>\n",
       "<table border=\"1\" class=\"dataframe\">\n",
       "  <thead>\n",
       "    <tr style=\"text-align: right;\">\n",
       "      <th></th>\n",
       "      <th>mean</th>\n",
       "      <th>std dev</th>\n",
       "      <th>median</th>\n",
       "      <th>mode</th>\n",
       "      <th>HPD</th>\n",
       "      <th>95CI</th>\n",
       "    </tr>\n",
       "  </thead>\n",
       "  <tbody>\n",
       "    <tr>\n",
       "      <th>mu_0</th>\n",
       "      <td>0.923774</td>\n",
       "      <td>0.108364</td>\n",
       "      <td>0.921908</td>\n",
       "      <td>0.918223</td>\n",
       "      <td>[0.621, 1.182]</td>\n",
       "      <td>[0.718, 1.144]</td>\n",
       "    </tr>\n",
       "    <tr>\n",
       "      <th>mu_1</th>\n",
       "      <td>99.143394</td>\n",
       "      <td>2.667607</td>\n",
       "      <td>99.203169</td>\n",
       "      <td>98.165804</td>\n",
       "      <td>[90.429, 104.707]</td>\n",
       "      <td>[93.547, 104.341]</td>\n",
       "    </tr>\n",
       "    <tr>\n",
       "      <th>r</th>\n",
       "      <td>-0.693008</td>\n",
       "      <td>0.161785</td>\n",
       "      <td>-0.724584</td>\n",
       "      <td>-0.827163</td>\n",
       "      <td>[-0.968, -0.283]</td>\n",
       "      <td>[-0.916, -0.303]</td>\n",
       "    </tr>\n",
       "    <tr>\n",
       "      <th>sigma_0</th>\n",
       "      <td>0.346108</td>\n",
       "      <td>0.078967</td>\n",
       "      <td>0.334813</td>\n",
       "      <td>0.299179</td>\n",
       "      <td>[0.191, 0.565]</td>\n",
       "      <td>[0.229, 0.537]</td>\n",
       "    </tr>\n",
       "    <tr>\n",
       "      <th>sigma_1</th>\n",
       "      <td>8.462443</td>\n",
       "      <td>2.010415</td>\n",
       "      <td>8.085916</td>\n",
       "      <td>7.108695</td>\n",
       "      <td>[5.021, 14.522]</td>\n",
       "      <td>[5.633, 13.345]</td>\n",
       "    </tr>\n",
       "  </tbody>\n",
       "</table>\n",
       "</div>"
      ],
      "text/plain": [
       "              mean   std dev     median       mode                HPD  \\\n",
       "mu_0      0.923774  0.108364   0.921908   0.918223     [0.621, 1.182]   \n",
       "mu_1     99.143394  2.667607  99.203169  98.165804  [90.429, 104.707]   \n",
       "r        -0.693008  0.161785  -0.724584  -0.827163   [-0.968, -0.283]   \n",
       "sigma_0   0.346108  0.078967   0.334813   0.299179     [0.191, 0.565]   \n",
       "sigma_1   8.462443  2.010415   8.085916   7.108695    [5.021, 14.522]   \n",
       "\n",
       "                      95CI  \n",
       "mu_0        [0.718, 1.144]  \n",
       "mu_1     [93.547, 104.341]  \n",
       "r         [-0.916, -0.303]  \n",
       "sigma_0     [0.229, 0.537]  \n",
       "sigma_1    [5.633, 13.345]  "
      ]
     },
     "execution_count": 3,
     "metadata": {},
     "output_type": "execute_result"
    }
   ],
   "source": [
    "samplebuddy.summarize()"
   ]
  },
  {
   "cell_type": "code",
   "execution_count": 4,
   "metadata": {
    "scrolled": false
   },
   "outputs": [
    {
     "data": {
      "image/png": "[encoded data removed]",
      "text/plain": [
       "<Figure size 432x288 with 1 Axes>"
      ]
     },
     "metadata": {
      "needs_background": "light"
     },
     "output_type": "display_data"
    },
    {
     "data": {
      "image/png": "[encoded data removed]",
      "text/plain": [
       "<Figure size 360x360 with 1 Axes>"
      ]
     },
     "metadata": {
      "needs_background": "light"
     },
     "output_type": "display_data"
    },
    {
     "name": "stdout",
     "output_type": "stream",
     "text": [
      "maximum density observed across 1000 bins was at x = -0.8078\n"
     ]
    }
   ],
   "source": [
    "#Plot the input data:\n",
    "#####roll this into assistant if we need it\n",
    "import matplotlib.pyplot as plt\n",
    "import numpy as np\n",
    "\n",
    "datax = np.array(modelbuddy.data['x'])[:,0]\n",
    "datay = np.array(modelbuddy.data['x'])[:,1]\n",
    "\n",
    "plt.xlabel('RT')\n",
    "plt.ylabel('IQ')\n",
    "plt.scatter(datax, datay);\n",
    "\n",
    "#visualize the posterior density\n",
    "samplebuddy.vizkde('r', range=(-1,1), showmax=True)\n"
   ]
  },
  {
   "cell_type": "markdown",
   "metadata": {},
   "source": [
    "## 5.2 - Pearson Correlation with Uncertainty"
   ]
  },
  {
   "cell_type": "code",
   "execution_count": 5,
   "metadata": {
    "scrolled": true
   },
   "outputs": [
    {
     "name": "stdout",
     "output_type": "stream",
     "text": [
      "adapting: iterations 3000 of 3000, elapsed 0:00:01, remaining 0:00:00\n",
      "sampling: iterations 9000 of 9000, elapsed 0:00:02, remaining 0:00:00\n"
     ]
    }
   ],
   "source": [
    "spec = \"\"\"\n",
    "model:\n",
    "Correlation_2.txt\n",
    "\n",
    "settings:\n",
    "chains = 3\n",
    "samples = 3000\n",
    "thinning = 0\n",
    "burnin = 1000\n",
    "\n",
    "data:\n",
    "x = [[0.8, 102],[1.0,  98],[0.5, 100],[0.9, 105],[0.7, 103],[0.4, 110],[1.2,  99],[1.4,  87],[0.6, 113],[1.1,  89],[1.3,  93]]\n",
    "\n",
    "n = np.shape(x)[0]\n",
    "\n",
    "lambdaerror = np.divide(1,(np.square(np.array([.03, 10]))))\n",
    "# this is getting out of hand. do the users know python or not?\n",
    "\n",
    "sample:\n",
    "r\n",
    "mu\n",
    "sigma\n",
    "\n",
    "\"\"\"\n",
    "\n",
    "modelbuddy = model_handler(spec)\n",
    "\n",
    "model = pyjags.Model(**modelbuddy.get_model_args())\n",
    "samples = model.sample(**modelbuddy.get_sample_args())\n",
    "\n",
    "samplebuddy = sample_handler(samples)"
   ]
  },
  {
   "cell_type": "code",
   "execution_count": 6,
   "metadata": {
    "scrolled": true
   },
   "outputs": [
    {
     "data": {
      "text/html": [
       "<div>\n",
       "<style scoped>\n",
       "    .dataframe tbody tr th:only-of-type {\n",
       "        vertical-align: middle;\n",
       "    }\n",
       "\n",
       "    .dataframe tbody tr th {\n",
       "        vertical-align: top;\n",
       "    }\n",
       "\n",
       "    .dataframe thead th {\n",
       "        text-align: right;\n",
       "    }\n",
       "</style>\n",
       "<table border=\"1\" class=\"dataframe\">\n",
       "  <thead>\n",
       "    <tr style=\"text-align: right;\">\n",
       "      <th></th>\n",
       "      <th>mean</th>\n",
       "      <th>std dev</th>\n",
       "      <th>median</th>\n",
       "      <th>mode</th>\n",
       "      <th>HPD</th>\n",
       "      <th>95CI</th>\n",
       "    </tr>\n",
       "  </thead>\n",
       "  <tbody>\n",
       "    <tr>\n",
       "      <th>mu_0</th>\n",
       "      <td>0.900601</td>\n",
       "      <td>0.109807</td>\n",
       "      <td>0.901241</td>\n",
       "      <td>0.904838</td>\n",
       "      <td>[0.63, 1.14]</td>\n",
       "      <td>[0.683, 1.114]</td>\n",
       "    </tr>\n",
       "    <tr>\n",
       "      <th>mu_1</th>\n",
       "      <td>98.864491</td>\n",
       "      <td>3.019199</td>\n",
       "      <td>98.890744</td>\n",
       "      <td>98.672312</td>\n",
       "      <td>[92.083, 104.991]</td>\n",
       "      <td>[92.871, 104.61]</td>\n",
       "    </tr>\n",
       "    <tr>\n",
       "      <th>r</th>\n",
       "      <td>-0.336152</td>\n",
       "      <td>0.532299</td>\n",
       "      <td>-0.480059</td>\n",
       "      <td>-0.949286</td>\n",
       "      <td>[-0.999, 0.98]</td>\n",
       "      <td>[-0.977, 0.871]</td>\n",
       "    </tr>\n",
       "    <tr>\n",
       "      <th>sigma_0</th>\n",
       "      <td>0.353645</td>\n",
       "      <td>0.089755</td>\n",
       "      <td>0.338161</td>\n",
       "      <td>0.332584</td>\n",
       "      <td>[0.205, 0.573]</td>\n",
       "      <td>[0.227, 0.571]</td>\n",
       "    </tr>\n",
       "    <tr>\n",
       "      <th>sigma_1</th>\n",
       "      <td>2.869835</td>\n",
       "      <td>2.952894</td>\n",
       "      <td>1.720372</td>\n",
       "      <td>0.706227</td>\n",
       "      <td>[0.066, 12.147]</td>\n",
       "      <td>[0.133, 10.867]</td>\n",
       "    </tr>\n",
       "  </tbody>\n",
       "</table>\n",
       "</div>"
      ],
      "text/plain": [
       "              mean   std dev     median       mode                HPD  \\\n",
       "mu_0      0.900601  0.109807   0.901241   0.904838       [0.63, 1.14]   \n",
       "mu_1     98.864491  3.019199  98.890744  98.672312  [92.083, 104.991]   \n",
       "r        -0.336152  0.532299  -0.480059  -0.949286     [-0.999, 0.98]   \n",
       "sigma_0   0.353645  0.089755   0.338161   0.332584     [0.205, 0.573]   \n",
       "sigma_1   2.869835  2.952894   1.720372   0.706227    [0.066, 12.147]   \n",
       "\n",
       "                     95CI  \n",
       "mu_0       [0.683, 1.114]  \n",
       "mu_1     [92.871, 104.61]  \n",
       "r         [-0.977, 0.871]  \n",
       "sigma_0    [0.227, 0.571]  \n",
       "sigma_1   [0.133, 10.867]  "
      ]
     },
     "execution_count": 6,
     "metadata": {},
     "output_type": "execute_result"
    }
   ],
   "source": [
    "samplebuddy.summarize()"
   ]
  },
  {
   "cell_type": "code",
   "execution_count": 7,
   "metadata": {
    "scrolled": false
   },
   "outputs": [
    {
     "data": {
      "image/png": "[encoded data removed]",
      "text/plain": [
       "<Figure size 432x288 with 1 Axes>"
      ]
     },
     "metadata": {
      "needs_background": "light"
     },
     "output_type": "display_data"
    },
    {
     "data": {
      "image/png": "[encoded data removed]",
      "text/plain": [
       "<Figure size 360x360 with 1 Axes>"
      ]
     },
     "metadata": {
      "needs_background": "light"
     },
     "output_type": "display_data"
    },
    {
     "name": "stdout",
     "output_type": "stream",
     "text": [
      "maximum density observed across 1000 bins was at x = -0.8438\n"
     ]
    }
   ],
   "source": [
    "#Plot the input data:\n",
    "#####roll this into assistant if we need it\n",
    "import matplotlib.pyplot as plt\n",
    "import numpy as np\n",
    "\n",
    "datax = np.array(modelbuddy.data['x'])[:,0]\n",
    "datay = np.array(modelbuddy.data['x'])[:,1]\n",
    "\n",
    "plt.xlabel('RT')\n",
    "plt.ylabel('IQ')\n",
    "plt.errorbar(datax, datay, xerr=.03, yerr=10, fmt='k.');\n",
    "\n",
    "#visualize the posterior density\n",
    "samplebuddy.vizkde('r', range=(-1,1), showmax=True)\n"
   ]
  },
  {
   "cell_type": "markdown",
   "metadata": {},
   "source": [
    "## 5.3 - The Kappa Coefficient of Agreement"
   ]
  },
  {
   "cell_type": "code",
   "execution_count": 8,
   "metadata": {
    "scrolled": true
   },
   "outputs": [
    {
     "name": "stdout",
     "output_type": "stream",
     "text": [
      "adapting: iterations 3000 of 3000, elapsed 0:00:00, remaining 0:00:00\n",
      "sampling: iterations 9000 of 9000, elapsed 0:00:00, remaining 0:00:00\n"
     ]
    }
   ],
   "source": [
    "spec = \"\"\"\n",
    "model:\n",
    "Kappa.txt\n",
    "\n",
    "settings:\n",
    "chains = 3\n",
    "samples = 3000\n",
    "thinning = 0\n",
    "burnin = 1000\n",
    "\n",
    "data:\n",
    "#y = [14, 4, 5, 210]   # Influenza\n",
    "#y = [20, 7, 103, 417] # Hearing Loss\n",
    "y = [0, 0, 13, 157]  # Rare Disease\n",
    "\n",
    "n = sum(y)\n",
    "\n",
    "sample:\n",
    "kappa\n",
    "xi\n",
    "psi\n",
    "alpha\n",
    "beta\n",
    "gamma\n",
    "pi\n",
    "\n",
    "\"\"\"\n",
    "\n",
    "modelbuddy = model_handler(spec)\n",
    "\n",
    "model = pyjags.Model(**modelbuddy.get_model_args())\n",
    "samples = model.sample(**modelbuddy.get_sample_args())\n",
    "\n",
    "samplebuddy = sample_handler(samples)"
   ]
  },
  {
   "cell_type": "code",
   "execution_count": 9,
   "metadata": {
    "scrolled": true
   },
   "outputs": [
    {
     "data": {
      "text/html": [
       "<div>\n",
       "<style scoped>\n",
       "    .dataframe tbody tr th:only-of-type {\n",
       "        vertical-align: middle;\n",
       "    }\n",
       "\n",
       "    .dataframe tbody tr th {\n",
       "        vertical-align: top;\n",
       "    }\n",
       "\n",
       "    .dataframe thead th {\n",
       "        text-align: right;\n",
       "    }\n",
       "</style>\n",
       "<table border=\"1\" class=\"dataframe\">\n",
       "  <thead>\n",
       "    <tr style=\"text-align: right;\">\n",
       "      <th></th>\n",
       "      <th>mean</th>\n",
       "      <th>std dev</th>\n",
       "      <th>median</th>\n",
       "      <th>mode</th>\n",
       "      <th>HPD</th>\n",
       "      <th>95CI</th>\n",
       "    </tr>\n",
       "  </thead>\n",
       "  <tbody>\n",
       "    <tr>\n",
       "      <th>alpha</th>\n",
       "      <td>0.005751</td>\n",
       "      <td>0.005629</td>\n",
       "      <td>0.004010</td>\n",
       "      <td>0.000249</td>\n",
       "      <td>[0.0, 0.024]</td>\n",
       "      <td>[0.0, 0.021]</td>\n",
       "    </tr>\n",
       "    <tr>\n",
       "      <th>beta</th>\n",
       "      <td>0.504508</td>\n",
       "      <td>0.288873</td>\n",
       "      <td>0.512436</td>\n",
       "      <td>0.684941</td>\n",
       "      <td>[0.0, 1.0]</td>\n",
       "      <td>[0.026, 0.975]</td>\n",
       "    </tr>\n",
       "    <tr>\n",
       "      <th>gamma</th>\n",
       "      <td>0.918887</td>\n",
       "      <td>0.021009</td>\n",
       "      <td>0.920536</td>\n",
       "      <td>0.924165</td>\n",
       "      <td>[0.858, 0.961]</td>\n",
       "      <td>[0.873, 0.955]</td>\n",
       "    </tr>\n",
       "    <tr>\n",
       "      <th>kappa</th>\n",
       "      <td>0.053242</td>\n",
       "      <td>0.066507</td>\n",
       "      <td>0.028641</td>\n",
       "      <td>0.004885</td>\n",
       "      <td>[-0.02, 0.266]</td>\n",
       "      <td>[-0.006, 0.243]</td>\n",
       "    </tr>\n",
       "    <tr>\n",
       "      <th>pi_0</th>\n",
       "      <td>0.002920</td>\n",
       "      <td>0.003709</td>\n",
       "      <td>0.001551</td>\n",
       "      <td>0.000199</td>\n",
       "      <td>[0.0, 0.014]</td>\n",
       "      <td>[0.0, 0.014]</td>\n",
       "    </tr>\n",
       "    <tr>\n",
       "      <th>pi_1</th>\n",
       "      <td>0.002831</td>\n",
       "      <td>0.003621</td>\n",
       "      <td>0.001533</td>\n",
       "      <td>0.000184</td>\n",
       "      <td>[0.0, 0.013]</td>\n",
       "      <td>[0.0, 0.013]</td>\n",
       "    </tr>\n",
       "    <tr>\n",
       "      <th>pi_2</th>\n",
       "      <td>0.080644</td>\n",
       "      <td>0.020879</td>\n",
       "      <td>0.078949</td>\n",
       "      <td>0.075172</td>\n",
       "      <td>[0.037, 0.133]</td>\n",
       "      <td>[0.045, 0.126]</td>\n",
       "    </tr>\n",
       "    <tr>\n",
       "      <th>pi_3</th>\n",
       "      <td>0.913605</td>\n",
       "      <td>0.021634</td>\n",
       "      <td>0.915384</td>\n",
       "      <td>0.915017</td>\n",
       "      <td>[0.861, 0.957]</td>\n",
       "      <td>[0.866, 0.951]</td>\n",
       "    </tr>\n",
       "    <tr>\n",
       "      <th>psi</th>\n",
       "      <td>0.911678</td>\n",
       "      <td>0.022067</td>\n",
       "      <td>0.913660</td>\n",
       "      <td>0.914871</td>\n",
       "      <td>[0.846, 0.956]</td>\n",
       "      <td>[0.864, 0.95]</td>\n",
       "    </tr>\n",
       "    <tr>\n",
       "      <th>xi</th>\n",
       "      <td>0.916525</td>\n",
       "      <td>0.021204</td>\n",
       "      <td>0.918244</td>\n",
       "      <td>0.923880</td>\n",
       "      <td>[0.863, 0.958]</td>\n",
       "      <td>[0.87, 0.953]</td>\n",
       "    </tr>\n",
       "  </tbody>\n",
       "</table>\n",
       "</div>"
      ],
      "text/plain": [
       "           mean   std dev    median      mode             HPD             95CI\n",
       "alpha  0.005751  0.005629  0.004010  0.000249    [0.0, 0.024]     [0.0, 0.021]\n",
       "beta   0.504508  0.288873  0.512436  0.684941      [0.0, 1.0]   [0.026, 0.975]\n",
       "gamma  0.918887  0.021009  0.920536  0.924165  [0.858, 0.961]   [0.873, 0.955]\n",
       "kappa  0.053242  0.066507  0.028641  0.004885  [-0.02, 0.266]  [-0.006, 0.243]\n",
       "pi_0   0.002920  0.003709  0.001551  0.000199    [0.0, 0.014]     [0.0, 0.014]\n",
       "pi_1   0.002831  0.003621  0.001533  0.000184    [0.0, 0.013]     [0.0, 0.013]\n",
       "pi_2   0.080644  0.020879  0.078949  0.075172  [0.037, 0.133]   [0.045, 0.126]\n",
       "pi_3   0.913605  0.021634  0.915384  0.915017  [0.861, 0.957]   [0.866, 0.951]\n",
       "psi    0.911678  0.022067  0.913660  0.914871  [0.846, 0.956]    [0.864, 0.95]\n",
       "xi     0.916525  0.021204  0.918244  0.923880  [0.863, 0.958]    [0.87, 0.953]"
      ]
     },
     "execution_count": 9,
     "metadata": {},
     "output_type": "execute_result"
    }
   ],
   "source": [
    "samplebuddy.summarize()"
   ]
  },
  {
   "cell_type": "code",
   "execution_count": 10,
   "metadata": {
    "scrolled": true
   },
   "outputs": [
    {
     "data": {
      "image/png": "[encoded data removed]",
      "text/plain": [
       "<Figure size 432x288 with 4 Axes>"
      ]
     },
     "metadata": {
      "needs_background": "light"
     },
     "output_type": "display_data"
    }
   ],
   "source": [
    "samplebuddy.vizhist('alpha','beta','gamma')"
   ]
  },
  {
   "cell_type": "code",
   "execution_count": 11,
   "metadata": {
    "scrolled": true
   },
   "outputs": [
    {
     "name": "stdout",
     "output_type": "stream",
     "text": [
      "all PSRF values < 1.05 | maximum PSRF: pi_0 at 1.000384875551237.\n"
     ]
    },
    {
     "data": {
      "image/png": "[encoded data removed]",
      "text/plain": [
       "<Figure size 432x288 with 1 Axes>"
      ]
     },
     "metadata": {
      "needs_background": "light"
     },
     "output_type": "display_data"
    }
   ],
   "source": [
    "samplebuddy.diagnostic()\n",
    "samplebuddy.autocorr('gamma')"
   ]
  },
  {
   "cell_type": "markdown",
   "metadata": {},
   "source": [
    "## 5.4 - Change Detection in Time Series Data"
   ]
  },
  {
   "cell_type": "code",
   "execution_count": 12,
   "metadata": {},
   "outputs": [],
   "source": [
    "timeseries = np.array([float(i) for i in open('changepointdata.txt','r')])"
   ]
  },
  {
   "cell_type": "code",
   "execution_count": 19,
   "metadata": {
    "scrolled": false
   },
   "outputs": [
    {
     "name": "stdout",
     "output_type": "stream",
     "text": [
      "adapting: iterations 3000 of 3000, elapsed 0:00:06, remaining 0:00:00\n",
      "adapting: iterations 3000 of 3000, elapsed 0:00:06, remaining 0:00:00\n",
      "sampling: iterations 4803 of 9000, elapsed 0:00:08, remaining 0:00:07\n",
      "sampling: iterations 7629 of 9000, elapsed 0:00:14, remaining 0:00:02\n",
      "sampling: iterations 9000 of 9000, elapsed 0:00:16, remaining 0:00:00\n"
     ]
    }
   ],
   "source": [
    "spec = \"\"\"\n",
    "model:\n",
    "ChangeDetection.txt\n",
    "\n",
    "settings:\n",
    "chains = 3\n",
    "samples = 3000\n",
    "thinning = 0\n",
    "burnin = 1000\n",
    "\n",
    "data:\n",
    "#all data calculated below.\n",
    "\n",
    "sample:\n",
    "mu\n",
    "sigma\n",
    "tau\n",
    "\n",
    "\"\"\"\n",
    "\n",
    "modelbuddy = model_handler(spec)\n",
    "\n",
    "\n",
    "#data values are calculated and passed to the handler.\n",
    "time_series = np.array([float(i) for i in open('changepointdata.txt','r')])\n",
    "modelbuddy.setdata('c', time_series)\n",
    "modelbuddy.setdata('n', len(time_series))\n",
    "modelbuddy.setdata('t', [i for i in range(len(time_series))])\n",
    "\n",
    "model = pyjags.Model(**modelbuddy.get_model_args())\n",
    "samples = model.sample(**modelbuddy.get_sample_args())\n",
    "\n",
    "samplebuddy = sample_handler(samples)"
   ]
  },
  {
   "cell_type": "code",
   "execution_count": 20,
   "metadata": {
    "scrolled": true
   },
   "outputs": [
    {
     "data": {
      "text/html": [
       "<div>\n",
       "<style scoped>\n",
       "    .dataframe tbody tr th:only-of-type {\n",
       "        vertical-align: middle;\n",
       "    }\n",
       "\n",
       "    .dataframe tbody tr th {\n",
       "        vertical-align: top;\n",
       "    }\n",
       "\n",
       "    .dataframe thead th {\n",
       "        text-align: right;\n",
       "    }\n",
       "</style>\n",
       "<table border=\"1\" class=\"dataframe\">\n",
       "  <thead>\n",
       "    <tr style=\"text-align: right;\">\n",
       "      <th></th>\n",
       "      <th>mean</th>\n",
       "      <th>std dev</th>\n",
       "      <th>median</th>\n",
       "      <th>mode</th>\n",
       "      <th>HPD</th>\n",
       "      <th>95CI</th>\n",
       "    </tr>\n",
       "  </thead>\n",
       "  <tbody>\n",
       "    <tr>\n",
       "      <th>mu_0</th>\n",
       "      <td>37.877525</td>\n",
       "      <td>0.253097</td>\n",
       "      <td>37.876532</td>\n",
       "      <td>37.877232</td>\n",
       "      <td>[37.178, 38.529]</td>\n",
       "      <td>[37.386, 38.372]</td>\n",
       "    </tr>\n",
       "    <tr>\n",
       "      <th>mu_1</th>\n",
       "      <td>30.566508</td>\n",
       "      <td>0.328410</td>\n",
       "      <td>30.566890</td>\n",
       "      <td>30.597915</td>\n",
       "      <td>[29.813, 31.304]</td>\n",
       "      <td>[29.923, 31.214]</td>\n",
       "    </tr>\n",
       "    <tr>\n",
       "      <th>sigma</th>\n",
       "      <td>6.849501</td>\n",
       "      <td>0.141572</td>\n",
       "      <td>6.846315</td>\n",
       "      <td>6.843498</td>\n",
       "      <td>[6.532, 7.145]</td>\n",
       "      <td>[6.581, 7.13]</td>\n",
       "    </tr>\n",
       "    <tr>\n",
       "      <th>tau</th>\n",
       "      <td>731.438187</td>\n",
       "      <td>2.432919</td>\n",
       "      <td>730.778661</td>\n",
       "      <td>730.412073</td>\n",
       "      <td>[727.077, 737.982]</td>\n",
       "      <td>[728.053, 737.145]</td>\n",
       "    </tr>\n",
       "  </tbody>\n",
       "</table>\n",
       "</div>"
      ],
      "text/plain": [
       "             mean   std dev      median        mode                 HPD  \\\n",
       "mu_0    37.877525  0.253097   37.876532   37.877232    [37.178, 38.529]   \n",
       "mu_1    30.566508  0.328410   30.566890   30.597915    [29.813, 31.304]   \n",
       "sigma    6.849501  0.141572    6.846315    6.843498      [6.532, 7.145]   \n",
       "tau    731.438187  2.432919  730.778661  730.412073  [727.077, 737.982]   \n",
       "\n",
       "                     95CI  \n",
       "mu_0     [37.386, 38.372]  \n",
       "mu_1     [29.923, 31.214]  \n",
       "sigma       [6.581, 7.13]  \n",
       "tau    [728.053, 737.145]  "
      ]
     },
     "execution_count": 20,
     "metadata": {},
     "output_type": "execute_result"
    }
   ],
   "source": [
    "samplebuddy.summarize()"
   ]
  },
  {
   "cell_type": "code",
   "execution_count": 21,
   "metadata": {
    "scrolled": false
   },
   "outputs": [
    {
     "data": {
      "image/png": "[encoded data removed]",
      "text/plain": [
       "<Figure size 432x288 with 4 Axes>"
      ]
     },
     "metadata": {
      "needs_background": "light"
     },
     "output_type": "display_data"
    }
   ],
   "source": [
    "samplebuddy.vizhist('tau','mu_0','mu_1','sigma')\n",
    "#TODO: fix this visualization layout."
   ]
  },
  {
   "cell_type": "code",
   "execution_count": 22,
   "metadata": {
    "scrolled": true
   },
   "outputs": [
    {
     "data": {
      "image/png": "[encoded data removed]",
      "text/plain": [
       "<Figure size 432x288 with 1 Axes>"
      ]
     },
     "metadata": {
      "needs_background": "light"
     },
     "output_type": "display_data"
    }
   ],
   "source": [
    "samplebuddy.autocorr('tau')"
   ]
  },
  {
   "cell_type": "code",
   "execution_count": 17,
   "metadata": {
    "scrolled": true
   },
   "outputs": [
    {
     "data": {
      "image/png": "[encoded data removed]",
      "text/plain": [
       "<Figure size 432x288 with 1 Axes>"
      ]
     },
     "metadata": {
      "needs_background": "light"
     },
     "output_type": "display_data"
    }
   ],
   "source": [
    "plt.plot(modelbuddy.data['c'])\n",
    "plt.plot([samplebuddy.getstatistic('mu_0','mean') for i in range(int(samplebuddy.getstatistic('tau','mean')))]+[samplebuddy.getstatistic('mu_1','mean') for i in range(modelbuddy.data['n'] - int(samplebuddy.getstatistic('tau','mean')))]);\n",
    "#TODO: write this elegantly."
   ]
  },
  {
   "cell_type": "markdown",
   "metadata": {},
   "source": [
    "## 5.5 - Censored Data"
   ]
  },
  {
   "cell_type": "markdown",
   "metadata": {},
   "source": [
    "There's a major bug here that I can't replicate in `MATLAB`. I think it has to do with how `pyjags` is handling NaN values. \n",
    "\n",
    "`MATLAB`/`JAGS`/`Trinity` are perfectly happy with a variety of models that, in `pyjags`, all throw the ungooglable error \"Error calculting\\[sic\\] log density\". I'm not sure whose source code that's written in, but I couldn't find it in `pyjags`.\n",
    "\n",
    "The common thread in the failing models is that NaN values have been passed to `JAGS` as data in the line, eg, `datawithNaNs[i] ~ dbin(variablerate, 10)`.\n",
    "\n",
    "This fails on at least `dbin`,`dnorm`, and `dgamma`, but *not* on `dunif`.\n",
    "\n",
    "This does *not* fail if the distribution parameters are fixed rather than variable.\n",
    "\n",
    "My understanding is that with NaN values, `JAGS` is meant to make a prediction of the value according to the posterior distribution, 'imputation'.\n",
    "\n",
    "In what might be related, when using `JAGS` models that directly assign `NA` values to parameters, as `notanumber <- NA`, I get the error `\"Unknown variable NA\"`, despite seeing this construction in the [official JAGS user manual](https://www.stats.ox.ac.uk/~nicholls/MScMCMC14/jags_user_manual.pdf)\n",
    "\n",
    "This makes me suspect some sort of issue with how `pyjags` is handling the model prior to sending it to `JAGS`."
   ]
  },
  {
   "cell_type": "code",
   "execution_count": 18,
   "metadata": {
    "scrolled": true
   },
   "outputs": [
    {
     "ename": "JagsError",
     "evalue": "Error in node z[1]\nError calculting log density\n",
     "output_type": "error",
     "traceback": [
      "\u001b[0;31m---------------------------------------------------------------------------\u001b[0m",
      "\u001b[0;31mJagsError\u001b[0m                                 Traceback (most recent call last)",
      "\u001b[0;32m<ipython-input-18-6f33982a4e08>\u001b[0m in \u001b[0;36m<module>\u001b[0;34m\u001b[0m\n\u001b[1;32m     39\u001b[0m \u001b[0;34m\u001b[0m\u001b[0m\n\u001b[1;32m     40\u001b[0m \u001b[0;34m\u001b[0m\u001b[0m\n\u001b[0;32m---> 41\u001b[0;31m \u001b[0mmodel\u001b[0m \u001b[0;34m=\u001b[0m \u001b[0mpyjags\u001b[0m\u001b[0;34m.\u001b[0m\u001b[0mModel\u001b[0m\u001b[0;34m(\u001b[0m\u001b[0;34m**\u001b[0m\u001b[0mmodelbuddy\u001b[0m\u001b[0;34m.\u001b[0m\u001b[0mget_model_args\u001b[0m\u001b[0;34m(\u001b[0m\u001b[0;34m)\u001b[0m\u001b[0;34m)\u001b[0m\u001b[0;34m\u001b[0m\u001b[0m\n\u001b[0m\u001b[1;32m     42\u001b[0m \u001b[0msamples\u001b[0m \u001b[0;34m=\u001b[0m \u001b[0mmodel\u001b[0m\u001b[0;34m.\u001b[0m\u001b[0msample\u001b[0m\u001b[0;34m(\u001b[0m\u001b[0;34m**\u001b[0m\u001b[0mmodelbuddy\u001b[0m\u001b[0;34m.\u001b[0m\u001b[0mget_sample_args\u001b[0m\u001b[0;34m(\u001b[0m\u001b[0;34m)\u001b[0m\u001b[0;34m)\u001b[0m\u001b[0;34m\u001b[0m\u001b[0m\n\u001b[1;32m     43\u001b[0m \u001b[0;34m\u001b[0m\u001b[0m\n",
      "\u001b[0;32m~/anaconda3/envs/pyjagsBCM/lib/python3.7/site-packages/pyjags/model.py\u001b[0m in \u001b[0;36m__init__\u001b[0;34m(self, code, data, init, chains, adapt, file, encoding, generate_data, progress_bar, refresh_seconds, threads, chains_per_thread)\u001b[0m\n\u001b[1;32m    280\u001b[0m         \u001b[0mself\u001b[0m\u001b[0;34m.\u001b[0m\u001b[0m_init_compile\u001b[0m\u001b[0;34m(\u001b[0m\u001b[0mdata\u001b[0m\u001b[0;34m,\u001b[0m \u001b[0mgenerate_data\u001b[0m\u001b[0;34m)\u001b[0m\u001b[0;34m\u001b[0m\u001b[0m\n\u001b[1;32m    281\u001b[0m         \u001b[0mself\u001b[0m\u001b[0;34m.\u001b[0m\u001b[0m_init_parameters\u001b[0m\u001b[0;34m(\u001b[0m\u001b[0minit\u001b[0m\u001b[0;34m)\u001b[0m\u001b[0;34m\u001b[0m\u001b[0m\n\u001b[0;32m--> 282\u001b[0;31m         \u001b[0mself\u001b[0m\u001b[0;34m.\u001b[0m\u001b[0mconsole\u001b[0m\u001b[0;34m.\u001b[0m\u001b[0minitialize\u001b[0m\u001b[0;34m(\u001b[0m\u001b[0;34m)\u001b[0m\u001b[0;34m\u001b[0m\u001b[0m\n\u001b[0m\u001b[1;32m    283\u001b[0m         \u001b[0;32mif\u001b[0m \u001b[0madapt\u001b[0m\u001b[0;34m:\u001b[0m\u001b[0;34m\u001b[0m\u001b[0m\n\u001b[1;32m    284\u001b[0m             \u001b[0mself\u001b[0m\u001b[0;34m.\u001b[0m\u001b[0madapt\u001b[0m\u001b[0;34m(\u001b[0m\u001b[0madapt\u001b[0m\u001b[0;34m)\u001b[0m\u001b[0;34m\u001b[0m\u001b[0m\n",
      "\u001b[0;31mJagsError\u001b[0m: Error in node z[1]\nError calculting log density\n"
     ]
    }
   ],
   "source": [
    "spec = \"\"\"\n",
    "model:\n",
    "ChaSaSoonJ.txt\n",
    "#okay, what in the world is happening with this model?\n",
    "#it looks like NaN values are breaking JAGS's log likelihood\n",
    "#calculations, so we can't use the model from the text...\n",
    "#What's the situation with this?\n",
    "#Is there an alternative model that's less of a 'hack'?\n",
    "\n",
    "settings:\n",
    "chains = 1 #3\n",
    "samples = 100 #2000\n",
    "thinning = 0\n",
    "burnin = 1000\n",
    "\n",
    "data:\n",
    "nattempts = 950\n",
    "#nfails = 949\n",
    "n = 50\n",
    "\n",
    "sample:\n",
    "theta\n",
    "z\n",
    "\n",
    "\"\"\"\n",
    "\n",
    "modelbuddy = model_handler(spec)\n",
    "\n",
    "modelbuddy.init = {'theta':.5}\n",
    "#data values are calculated and passed to the handler.\n",
    "nattempts = 950\n",
    "nfails = 949\n",
    "censoring = np.append(np.ones(nfails),0)\n",
    "scores = np.empty(nattempts)\n",
    "scores[:] = float('nan')\n",
    "scores[-1] = 30\n",
    "modelbuddy.setdata('y', censoring)\n",
    "modelbuddy.setdata('z', scores)\n",
    "\n",
    "\n",
    "model = pyjags.Model(**modelbuddy.get_model_args())\n",
    "samples = model.sample(**modelbuddy.get_sample_args())\n",
    "\n",
    "samplebuddy = sample_handler(samples)"
   ]
  },
  {
   "cell_type": "markdown",
   "metadata": {},
   "source": [
    "## 5.6 - Recapturing Planes"
   ]
  },
  {
   "cell_type": "code",
   "execution_count": 45,
   "metadata": {
    "scrolled": true
   },
   "outputs": [
    {
     "name": "stdout",
     "output_type": "stream",
     "text": [
      "sampling: iterations 9000 of 9000, elapsed 0:00:03, remaining 0:00:00\n"
     ]
    }
   ],
   "source": [
    "spec = \"\"\"\n",
    "model:\n",
    "PlanesJ.txt\n",
    "\n",
    "settings:\n",
    "chains = 3\n",
    "samples = 3000\n",
    "thinning = 0\n",
    "burnin = 1000\n",
    "\n",
    "data:\n",
    "x = 10     # Number in first sample\n",
    "k = 0      # Number \"re-captured\" in second sample\n",
    "n = 5      # Size of second sample\n",
    "tmax = 500  # Total possible number\n",
    "\n",
    "\n",
    "sample:\n",
    "t\n",
    "\n",
    "\n",
    "\"\"\"\n",
    "\n",
    "modelbuddy = model_handler(spec)\n",
    "\n",
    "\n",
    "\n",
    "model = pyjags.Model(**modelbuddy.get_model_args())\n",
    "samples = model.sample(**modelbuddy.get_sample_args())\n",
    "\n",
    "samplebuddy = sample_handler(samples)"
   ]
  },
  {
   "cell_type": "code",
   "execution_count": 49,
   "metadata": {
    "scrolled": true
   },
   "outputs": [
    {
     "data": {
      "text/html": [
       "<div>\n",
       "<style scoped>\n",
       "    .dataframe tbody tr th:only-of-type {\n",
       "        vertical-align: middle;\n",
       "    }\n",
       "\n",
       "    .dataframe tbody tr th {\n",
       "        vertical-align: top;\n",
       "    }\n",
       "\n",
       "    .dataframe thead th {\n",
       "        text-align: right;\n",
       "    }\n",
       "</style>\n",
       "<table border=\"1\" class=\"dataframe\">\n",
       "  <thead>\n",
       "    <tr style=\"text-align: right;\">\n",
       "      <th></th>\n",
       "      <th>mean</th>\n",
       "      <th>std dev</th>\n",
       "      <th>median</th>\n",
       "      <th>mode</th>\n",
       "      <th>HPD</th>\n",
       "      <th>95CI</th>\n",
       "    </tr>\n",
       "  </thead>\n",
       "  <tbody>\n",
       "    <tr>\n",
       "      <th>t</th>\n",
       "      <td>294.777556</td>\n",
       "      <td>127.642443</td>\n",
       "      <td>301.0</td>\n",
       "      <td>463.775</td>\n",
       "      <td>[48.878, 500.0]</td>\n",
       "      <td>[62.0, 491.0]</td>\n",
       "    </tr>\n",
       "  </tbody>\n",
       "</table>\n",
       "</div>"
      ],
      "text/plain": [
       "         mean     std dev  median     mode              HPD           95CI\n",
       "t  294.777556  127.642443   301.0  463.775  [48.878, 500.0]  [62.0, 491.0]"
      ]
     },
     "execution_count": 49,
     "metadata": {},
     "output_type": "execute_result"
    }
   ],
   "source": [
    "samplebuddy.summarize()"
   ]
  },
  {
   "cell_type": "code",
   "execution_count": 47,
   "metadata": {
    "scrolled": false
   },
   "outputs": [
    {
     "data": {
      "image/png": "[encoded data removed]",
      "text/plain": [
       "<Figure size 432x432 with 1 Axes>"
      ]
     },
     "metadata": {
      "needs_background": "light"
     },
     "output_type": "display_data"
    }
   ],
   "source": [
    "samplebuddy.vizhist('t')\n",
    "#TODO: fix this visualization layout."
   ]
  }
 ],
 "metadata": {
  "kernelspec": {
   "display_name": "pyjagsBCM",
   "language": "python",
   "name": "pyjagsbcm"
  },
  "language_info": {
   "codemirror_mode": {
    "name": "ipython",
    "version": 3
   },
   "file_extension": ".py",
   "mimetype": "text/x-python",
   "name": "python",
   "nbconvert_exporter": "python",
   "pygments_lexer": "ipython3",
   "version": "3.7.0"
  }
 },
 "nbformat": 4,
 "nbformat_minor": 2
}
